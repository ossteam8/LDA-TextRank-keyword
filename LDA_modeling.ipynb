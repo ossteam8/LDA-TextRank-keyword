{
 "cells": [
  {
   "cell_type": "code",
   "execution_count": 1,
   "metadata": {},
   "outputs": [
    {
     "name": "stdout",
     "output_type": "stream",
     "text": [
      "Requirement already satisfied: kss in /Users/heejaesuh/opt/anaconda3/lib/python3.8/site-packages (2.5.1)\r\n"
     ]
    }
   ],
   "source": [
    "!pip install kss"
   ]
  },
  {
   "cell_type": "code",
   "execution_count": 2,
   "metadata": {},
   "outputs": [],
   "source": [
    "import pickle\n"
   ]
  },
  {
   "cell_type": "code",
   "execution_count": 3,
   "metadata": {},
   "outputs": [],
   "source": [
    "with open('economy_id.pickle', 'rb') as f:\n",
    "    id_news = pickle.load(f)\n",
    "with open('politic_id.pickle', 'rb') as f:\n",
    "    id_news.extend(pickle.load(f))\n",
    "with open('society_id.pickle', 'rb') as f:\n",
    "    id_news.extend(pickle.load(f))"
   ]
  },
  {
   "cell_type": "code",
   "execution_count": 4,
   "metadata": {},
   "outputs": [],
   "source": [
    "\n",
    "with open('economy_contents.pickle', 'rb') as f:\n",
    "    news = pickle.load(f)\n",
    "with open('politic_contents.pickle', 'rb') as f:\n",
    "    news.extend(pickle.load(f))\n",
    "with open('society_contents.pickle', 'rb') as f:\n",
    "    news.extend(pickle.load(f))\n"
   ]
  },
  {
   "cell_type": "code",
   "execution_count": 5,
   "metadata": {},
   "outputs": [
    {
     "data": {
      "text/plain": [
       "3908"
      ]
     },
     "execution_count": 5,
     "metadata": {},
     "output_type": "execute_result"
    }
   ],
   "source": [
    "len(id_news)"
   ]
  },
  {
   "cell_type": "code",
   "execution_count": 6,
   "metadata": {},
   "outputs": [
    {
     "data": {
      "text/plain": [
       "3908"
      ]
     },
     "execution_count": 6,
     "metadata": {},
     "output_type": "execute_result"
    }
   ],
   "source": [
    "len(news)"
   ]
  },
  {
   "cell_type": "code",
   "execution_count": 7,
   "metadata": {},
   "outputs": [
    {
     "data": {
      "text/plain": [
       "' 김종천 과천시장이 4일 서울 여의도 국회의원회관에서 열린 더불어민주당 과천청사 주택사업부지 계획변경 당정협의에서 발언하고 있다. 사진 왼쪽부터 박정 더불어민주당 의원, 박완주 정책위의장, 김 과천시장, 이소영 의원, 윤성원 국토부 1차관. 2021.6.4/뉴스1 정부가 지난해 8·4대책을 통해 발표한 과천 정부청사 부지에 주택 4000가구를 공급하기로 한 계획을 수정하기로 결정했다. 대신 기존 과천지구 등에서 자족용지 용도전환 등을 통해 3000가구를 짓고, 대체지에 추가로 1300가구를 지어 총 4300가구 이상을 공급하기로 했다. 더불어민주당과 국토교통부는 4일 당정협의를 열어 이 같은 내용의 과천청사 부지 주택공급 계획 수정안을 발표했다. 지난해 8·4 대책을 통해 정부가 과천 정부청사 부지에 주택 4000가구를 공급하기로 하자 과천 시민들이 거세게 반발했다. 주민들은 아파트 대신 공원이 들어서야 한다고 주장했다. 급기야 김종천 과천시장에 대한 주민소환투표 운동도 진행되면서 사태가 악화했다. 이에 정부와 민주당은 협의 끝에 당초 계획을 전면 수정하기로 한 것이다. 이로써 정부청사 부지를 지키면서 주택 공급 물량은 당초 목표보다 300가구 이상 늘어나게 됐다. 국토부는 \"갈등을 최소화하면서 안정적이고 효과적으로 주택을 공급할 수 있는 다양한 대안들이 제시됐다\"며 \"지역과 상생하면서 과천시의 적극적인 협조 하에 당초보다 많은 주택을 보다 빠른 시일 내에 공급할 수 있을 것으로 전망된다\"고 설명했다. 국토부와 과천시는 구체적 계획을 수립하기 위해 협의를 진행하고, 세부계획이 확정되는대로 이를 발표할 예정이다. 김원 기자 kim.won@joongang.co.kr주민 반발에…정부 과천청사 부지 공급 계획 수정'"
      ]
     },
     "execution_count": 7,
     "metadata": {},
     "output_type": "execute_result"
    }
   ],
   "source": [
    "news[1000]"
   ]
  },
  {
   "cell_type": "code",
   "execution_count": 8,
   "metadata": {},
   "outputs": [
    {
     "name": "stderr",
     "output_type": "stream",
     "text": [
      "/Users/heejaesuh/opt/anaconda3/lib/python3.8/site-packages/gensim/similarities/__init__.py:15: UserWarning: The gensim.similarities.levenshtein submodule is disabled, because the optional Levenshtein package <https://pypi.org/project/python-Levenshtein/> is unavailable. Install Levenhstein (e.g. `pip install python-Levenshtein`) to suppress this warning.\n",
      "  warnings.warn(msg)\n"
     ]
    }
   ],
   "source": [
    "import platform\n",
    "from collections import Counter\n",
    "\n",
    "import numpy as np\n",
    "\n",
    "# tokenizer import\n",
    "from konlpy.tag import Okt, Komoran, Hannanum, Kkma\n",
    "\n",
    "#운영체제에 따라 mecab설치 방법이 다름.\n",
    "if platform.system() == \"Windows\":\n",
    "    try:\n",
    "        from eunjeon import Mecab\n",
    "    except:\n",
    "        print(\"please install eunjeon module\")\n",
    "else:  # Ubuntu일 경우\n",
    "    from konlpy.tag import Mecab\n",
    "\n",
    "from typing import List, Callable, Union, Any, TypeVar, Tuple, Dict\n",
    "\n",
    "from functools import partial\n",
    "from sklearn.feature_extraction.text import CountVectorizer\n",
    "from sklearn.metrics import pairwise_distances\n",
    "from sklearn.preprocessing import normalize\n",
    "import gensim\n",
    "from gensim import corpora\n",
    "import kss\n",
    "\n",
    "from gensim.models import LdaModel\n"
   ]
  },
  {
   "cell_type": "code",
   "execution_count": 9,
   "metadata": {},
   "outputs": [],
   "source": [
    "import warnings\n",
    "warnings.filterwarnings(action='ignore')\n"
   ]
  },
  {
   "cell_type": "code",
   "execution_count": 10,
   "metadata": {},
   "outputs": [],
   "source": [
    "import gensim\n",
    "from gensim import corpora\n",
    "import kss\n",
    "import time\n",
    "from konlpy.tag import Mecab\n",
    "import random"
   ]
  },
  {
   "cell_type": "code",
   "execution_count": 11,
   "metadata": {},
   "outputs": [],
   "source": [
    "start = time.time()"
   ]
  },
  {
   "cell_type": "code",
   "execution_count": 12,
   "metadata": {},
   "outputs": [
    {
     "name": "stdout",
     "output_type": "stream",
     "text": [
      "3908\n"
     ]
    }
   ],
   "source": [
    "print(len(news))\n",
    "lines = \"\"\n",
    "\n",
    "for i in news:\n",
    "    lines = lines+i\n"
   ]
  },
  {
   "cell_type": "code",
   "execution_count": 13,
   "metadata": {},
   "outputs": [],
   "source": [
    "#불용어 사전에 \"명\" 추가\n",
    "stop = \"사실,백,일보,처음,설명,제공,위,이날,가능,급,앞,식,중앙일보,동아일보,해럴드뉴스,머니투데이,아시아경제,경향일보,국민일보,한겨레,내일뉴스,연합뉴스,세,초,직,뒤,측,데,도,이후,부,대,시,바,외,속,차,점,단,후,듯,곳,필요,기여,이용,만,불,원,중,씨,헤럴드,전재,뿐,면,반,관련,기대,제기,우려,번,지적,배포,금지,말,건,분,회,간,내,수,거,게,명,직전,아,휴,아이구,아이쿠,아이고,어,나,우리,저희,따라,의해,을,를,에,의,가,으로,로,에게,뿐이다,의거하여,근거하여,입각하여,기준으로,예하면,예를 들면,예를 들자면,저,소인,소생,저희,지말고,하지마,하지마라,다른,물론,또한,그리고,비길수 없다,해서는 안된다,뿐만 아니라,만이 아니다,만은 아니다,막론하고,관계없이,그치지 않다,그러나,그런데,하지만,든간에,논하지 않다,따지지 않다,설사,비록,더라도,아니면,만 못하다,하는 편이 낫다,불문하고,향하여,향해서,향하다,쪽으로,틈타,이용하여,타다,오르다,제외하고,이 외에,이 밖에,하여야,비로소,한다면 몰라도,외에도,이곳,여기,부터,기점으로,따라서,할 생각이다,하려고하다,이리하여,그리하여,그렇게 함으로써,하지만,일때,할때,앞에서,중에서,보는데서,으로써,로써,까지,해야한다,일것이다,반드시,할줄알다,할수있다,할수있어,임에 틀림없다,한다면,등,등등,제,겨우,단지,다만,할뿐,딩동,댕그,대해서,대하여,대하면,훨씬,얼마나,얼마만큼,얼마큼,남짓,여,얼마간,약간,다소,좀,조금,다수,몇,얼마,지만,하물며,또한,그러나,그렇지만,하지만,이외에도,대해 말하자면,뿐이다,다음에,반대로,반대로 말하자면,이와 반대로,바꾸어서 말하면,바꾸어서 한다면,만약,그렇지않으면,까악,툭,딱,삐걱거리다,보드득,비걱거리다,꽈당,응당,해야한다,에 가서,각,각각,여러분,각종,각자,제각기,하도록하다,와,과,그러므로,그래서,고로,한 까닭에,하기 때문에,거니와,이지만,대하여,관하여,관한,과연,실로,아니나다를가,생각한대로,진짜로,한적이있다,하곤하였다,하,하하,허허,아하,거바,와,오,왜,어째서,무엇때문에,어찌,하겠는가,무슨,어디,어느곳,더군다나,하물며,더욱이는,어느때,언제,야,이봐,어이,여보시오,흐흐,흥,휴,헉헉,헐떡헐떡,영차,여차,어기여차,끙끙,아야,앗,아야,콸콸,졸졸,좍좍,뚝뚝,주룩주룩,솨,우르르,그래도,또,그리고,바꾸어말하면,바꾸어말하자면,혹은,혹시,답다,및,그에 따르는,때가 되어,즉,지든지,설령,가령,하더라도,할지라도,일지라도,지든지,몇,거의,하마터면,인젠,이젠,된바에야,된이상,만큼,어찌됏든,그위에,게다가,점에서 보아,비추어 보아,고려하면,하게될것이다,일것이다,비교적,좀,보다더,비하면,시키다,하게하다,할만하다,의해서,연이서,이어서,잇따라,뒤따라,뒤이어,결국,의지하여,기대여,통하여,자마자,더욱더,불구하고,얼마든지,마음대로,주저하지 않고,곧,즉시,바로,당장,하자마자,밖에 안된다,하면된다,그래,그렇지,요컨대,다시 말하자면,바꿔 말하면,즉,구체적으로,말하자면,시작하여,시초에,이상,허,헉,허걱,바와같이,해도좋다,해도된다,게다가,더구나,하물며,와르르,팍,퍽,펄렁,동안,이래,하고있었다,이었다,에서,로부터,까지,예하면,했어요,해요,함께,같이,더불어,마저,마저도,양자,모두,습니다,가까스로,하려고하다,즈음하여,다른,다른 방면으로,해봐요,습니까,했어요,말할것도 없고,무릎쓰고,개의치않고,하는것만 못하다,하는것이 낫다,매,매번,들,모,어느것,어느,로써,갖고말하자면,어디,어느쪽,어느것,어느해,어느 년도,라 해도,언젠가,어떤것,어느것,저기,저쪽,저것,그때,그럼,그러면,요만한걸,그래,그때,저것만큼,그저,이르기까지,할 줄 안다,할 힘이 있다,너,너희,당신,어찌,설마,차라리,할지언정,할지라도,할망정,할지언정,구토하다,게우다,토하다,메쓰겁다,옆사람,퉤,쳇,의거하여,근거하여,의해,따라,힘입어,그,다음,버금,두번째로,기타,첫번째로,나머지는,그중에서,견지에서,형식으로 쓰여,입장에서,위해서단지,의해되다,하도록시키다,뿐만아니라,반대로,전후,전자,앞의것,잠시,잠깐,하면서,그렇지만,다음에,그러한즉,그런즉,남들,아무거나,어찌하든지,같다,비슷하다,예컨대,이럴정도로,어떻게,만약,만일,위에서 서술한바와같이,인 듯하다,하지 않는다면,만약에,무엇,무슨,어느,어떤,아래윗,조차,한데,그럼에도 불구하고,여전히,심지어,까지도,조차도,하지 않도록,않기 위하여,때,시각,무렵,시간,동안,어때,어떠한,하여금,네,예,우선,누구,누가 알겠는가,아무도,줄은모른다,줄은 몰랏다,하는 김에,겸사겸사,하는바,그런 까닭에,한 이유는,그러니,그러니까,때문에,그,너희,그들,너희들,타인,것,것들,너,위하여,공동으로,동시에,하기 위하여,어찌하여,무엇때문에,붕붕,윙윙,나,우리,엉엉,휘익,윙윙,오호,아하,어쨋든,만 못하다,하기보다는,차라리,하는 편이 낫다,흐흐,놀라다,상대적으로 말하자면,마치,아니라면,쉿,그렇지 않으면,그렇지 않다면,안 그러면,아니었다면,하든지,아니면,이라면,좋아,알았어,하는것도,그만이다,어쩔수 없다,하나,일,일반적으로,일단,한켠으로는,오자마자,이렇게되면,이와같다면,전부,한마디,한항목,근거로,하기에,아울러,하지 않도록,않기 위해서,이르기까지,이 되다,로 인하여,까닭으로,이유만으로,이로 인하여,그래서,이 때문에,그러므로,그런 까닭에,알 수 있다,결론을 낼 수 있다,으로 인하여,있다,어떤것,관계가 있다,관련이 있다,연관되다,어떤것들,에 대해,이리하여,그리하여,여부,하기보다는,하느니,하면 할수록,운운,이러이러하다,하구나,하도다,다시말하면,다음으로,에 있다,에 달려 있다,우리,우리들,오히려,하기는한데,어떻게,어떻해,어찌됏어,어때,어째서,본대로,자,이,이쪽,여기,이것,이번,이렇게말하자면,이런,이러한,이와 같은,요만큼,요만한 것,얼마 안 되는 것,이만큼,이 정도의,이렇게 많은 것,이와 같다,이때,이렇구나,것과 같이,끼익,삐걱,따위,와 같은 사람들,부류의 사람들,왜냐하면,중의하나,오직,오로지,에 한하다,하기만 하면,도착하다,까지 미치다,도달하다,정도에 이르다,할 지경이다,결과에 이르다,관해서는,여러분,하고 있다,한 후,혼자,자기,자기집,자신,우에 종합한것과같이,총적으로 보면,총적으로 말하면,총적으로,대로 하다,으로서,참,그만이다,할 따름이다,쿵,탕탕,쾅쾅,둥둥,봐,봐라,아이야,아니,와아,응,아이,참나,년,월,일,령,영,일,이,삼,사,오,육,륙,칠,팔,구,이천육,이천칠,이천팔,이천구,하나,둘,셋,넷,다섯,여섯,일곱,여덟,아홉,령,영 \""
   ]
  },
  {
   "cell_type": "code",
   "execution_count": 14,
   "metadata": {},
   "outputs": [
    {
     "name": "stdout",
     "output_type": "stream",
     "text": [
      "36.75672006607056\n"
     ]
    }
   ],
   "source": [
    "news_doc = lines\n",
    "\n",
    "stime = time.time()\n",
    "text_list = kss.split_sentences(news_doc)\n",
    "print(time.time()-stime)\n",
    "k = []\n"
   ]
  },
  {
   "cell_type": "code",
   "execution_count": null,
   "metadata": {},
   "outputs": [],
   "source": []
  },
  {
   "cell_type": "code",
   "execution_count": 15,
   "metadata": {
    "scrolled": true
   },
   "outputs": [
    {
     "name": "stdout",
     "output_type": "stream",
     "text": [
      "13.344435214996338\n",
      "3908\n"
     ]
    }
   ],
   "source": [
    "stop_words = stop.split(',')\n",
    "mecab = Mecab()\n",
    "stime = time.time()\n",
    "for i in news :\n",
    "    sentences = mecab.nouns(i)\n",
    "    result2 = []\n",
    "    for word in sentences :\n",
    "        if word not in stop_words:\n",
    "            result2.append(word)\n",
    "    k.append(result2)\n",
    "print(time.time()-stime)\n",
    "print(len(k))"
   ]
  },
  {
   "cell_type": "code",
   "execution_count": null,
   "metadata": {},
   "outputs": [],
   "source": []
  },
  {
   "cell_type": "code",
   "execution_count": 16,
   "metadata": {},
   "outputs": [],
   "source": [
    "bigram = gensim.models.Phrases(k, min_count = 5, threshold = 0.000000000000000000001)\n",
    "\n",
    "bigram_model = gensim.models.phrases.Phraser(bigram)\n",
    "\n",
    "bigram_document = [bigram_model[nouns] for nouns in k]\n",
    "\n",
    "for i in range(len(bigram_document)):\n",
    "    if word in stop_words:\n",
    "        bigram_document.drop(i)\n",
    "\n"
   ]
  },
  {
   "cell_type": "code",
   "execution_count": 17,
   "metadata": {},
   "outputs": [],
   "source": [
    "id2word = corpora.Dictionary(bigram_document)\n",
    "corpus = [id2word.doc2bow(doc) for doc in bigram_document]"
   ]
  },
  {
   "cell_type": "code",
   "execution_count": 18,
   "metadata": {},
   "outputs": [
    {
     "data": {
      "text/plain": [
       "\"\\nfrom gensim.models import CoherenceModel\\n\\ncoherence_score=[]\\nt_min = 2\\nt_max = 11\\nfor i in range(t_min,t_max):\\n    model = gensim.models.ldamodel.LdaModel(corpus=corpus, id2word=id2word, num_topics=i)\\n    coherence_model = CoherenceModel(model, texts=bigram_document, dictionary=id2word, coherence='c_v')\\n    coherence_lda = coherence_model.get_coherence()\\n    print('n=',i,'\\nCoherence Score: ', coherence_lda)\\n    coherence_score.append(coherence_lda)\\n\""
      ]
     },
     "execution_count": 18,
     "metadata": {},
     "output_type": "execute_result"
    }
   ],
   "source": [
    "'''\n",
    "from gensim.models import CoherenceModel\n",
    "\n",
    "coherence_score=[]\n",
    "t_min = 2\n",
    "t_max = 11\n",
    "for i in range(t_min,t_max):\n",
    "    model = gensim.models.ldamodel.LdaModel(corpus=corpus, id2word=id2word, num_topics=i)\n",
    "    coherence_model = CoherenceModel(model, texts=bigram_document, dictionary=id2word, coherence='c_v')\n",
    "    coherence_lda = coherence_model.get_coherence()\n",
    "    print('n=',i,'\\nCoherence Score: ', coherence_lda)\n",
    "    coherence_score.append(coherence_lda)\n",
    "'''"
   ]
  },
  {
   "cell_type": "code",
   "execution_count": 19,
   "metadata": {},
   "outputs": [],
   "source": [
    "'''\n",
    "co_sc = np.array(coherence_score)\n",
    "NUM_TOPICS = np.argmax(co_sc)+t_min\n",
    "'''\n",
    "NUM_TOPICS = 7"
   ]
  },
  {
   "cell_type": "code",
   "execution_count": 20,
   "metadata": {},
   "outputs": [
    {
     "name": "stdout",
     "output_type": "stream",
     "text": [
      "(0, '0.004*\"경찰\" + 0.003*\"택시_기사\" + 0.003*\"해직_교사\" + 0.003*\"평양_영상\" + 0.003*\"대국민_사기극\"')\n",
      "(1, '0.013*\"네이버_블로그\" + 0.012*\"아시아_경제\" + 0.007*\"세계_창\" + 0.007*\"카카오톡_카카오톡\" + 0.007*\"이미지_주소\"')\n",
      "(2, '0.006*\"백신_접종\" + 0.006*\"접종\" + 0.005*\"백신\" + 0.003*\"예약\" + 0.003*\"아스트라_카\"')\n",
      "(3, '0.004*\"학생\" + 0.003*\"평가\" + 0.003*\"지원\" + 0.003*\"교육\" + 0.002*\"기업\"')\n",
      "(4, '0.003*\"개\" + 0.003*\"사업\" + 0.003*\"운영\" + 0.002*\"시장\" + 0.002*\"사용\"')\n",
      "(5, '0.007*\"국민_힘\" + 0.004*\"윤_전\" + 0.004*\"후보\" + 0.004*\"의원\" + 0.004*\"정치\"')\n",
      "(6, '0.004*\"인격_국민\" + 0.004*\"김형석_칼럼\" + 0.004*\"베스트_추천\" + 0.004*\"대국민_사기극\" + 0.004*\"공직자_양심\"')\n"
     ]
    }
   ],
   "source": [
    "ldamodel = gensim.models.ldamodel.LdaModel(corpus, num_topics = NUM_TOPICS, id2word=id2word, passes=15)\n",
    "topics = ldamodel.print_topics(num_words=5)\n",
    "for topic in topics:\n",
    "    print(topic)"
   ]
  },
  {
   "cell_type": "code",
   "execution_count": 21,
   "metadata": {},
   "outputs": [],
   "source": [
    "\n",
    "def get_topic_term_prob(lda_model):\n",
    "    topic_term_freqs = lda_model.state.get_lambda()\n",
    "    topic_term_prob = topic_term_freqs / topic_term_freqs.sum(axis=1)[:, None]\n",
    "    return topic_term_prob\n"
   ]
  },
  {
   "cell_type": "code",
   "execution_count": 22,
   "metadata": {},
   "outputs": [],
   "source": [
    "lda_model = LdaModel(corpus, id2word=id2word, num_topics=NUM_TOPICS)"
   ]
  },
  {
   "cell_type": "code",
   "execution_count": 23,
   "metadata": {},
   "outputs": [
    {
     "name": "stdout",
     "output_type": "stream",
     "text": [
      "(7,)\n",
      "1.0\n",
      "(7, 41728)\n",
      "0.99999994\n"
     ]
    }
   ],
   "source": [
    "print(lda_model.alpha.shape) # (n_topics,)\n",
    "print(lda_model.alpha.sum()) # 1.0\n",
    "\n",
    "topic_term_prob = get_topic_term_prob(lda_model)\n",
    "print(topic_term_prob.shape)     # (n_topics, n_terms)\n",
    "print(topic_term_prob[0].sum())  # 1.0"
   ]
  },
  {
   "cell_type": "code",
   "execution_count": 24,
   "metadata": {},
   "outputs": [],
   "source": [
    "#lda_model.top_topics(corpus)"
   ]
  },
  {
   "cell_type": "code",
   "execution_count": 25,
   "metadata": {},
   "outputs": [],
   "source": [
    "import pyLDAvis.gensim_models as gensimvis\n",
    "\n",
    "prepared_data = gensimvis.prepare(lda_model, corpus, id2word)"
   ]
  },
  {
   "cell_type": "code",
   "execution_count": 26,
   "metadata": {},
   "outputs": [
    {
     "name": "stderr",
     "output_type": "stream",
     "text": [
      "/Users/heejaesuh/opt/anaconda3/lib/python3.8/site-packages/ipykernel/ipkernel.py:287: DeprecationWarning: `should_run_async` will not call `transform_cell` automatically in the future. Please pass the result to `transformed_cell` argument and any exception that happen during thetransform in `preprocessing_exc_tuple` in IPython 7.17 and above.\n",
      "  and should_run_async(code)\n"
     ]
    }
   ],
   "source": [
    "import pyLDAvis"
   ]
  },
  {
   "cell_type": "code",
   "execution_count": 27,
   "metadata": {},
   "outputs": [
    {
     "name": "stderr",
     "output_type": "stream",
     "text": [
      "/Users/heejaesuh/opt/anaconda3/lib/python3.8/site-packages/ipykernel/ipkernel.py:287: DeprecationWarning: `should_run_async` will not call `transform_cell` automatically in the future. Please pass the result to `transformed_cell` argument and any exception that happen during thetransform in `preprocessing_exc_tuple` in IPython 7.17 and above.\n",
      "  and should_run_async(code)\n"
     ]
    },
    {
     "data": {
      "text/html": [
       "\n",
       "<link rel=\"stylesheet\" type=\"text/css\" href=\"https://cdn.jsdelivr.net/gh/bmabey/pyLDAvis@3.3.1/pyLDAvis/js/ldavis.v1.0.0.css\">\n",
       "\n",
       "\n",
       "<div id=\"ldavis_el492141403810449788484940265609\"></div>\n",
       "<script type=\"text/javascript\">\n",
       "\n",
       "var ldavis_el492141403810449788484940265609_data = {\"mdsDat\": {\"x\": [0.0706125522423767, -0.018282377252413495, -0.005144326869350288, -0.027629226236672653, 0.01983651625847538, -0.07104731949026033, 0.03165418134784492], \"y\": [-0.044730305012731876, -0.05536421731032476, -0.0014047560000617805, -0.015188200422807005, 0.06008696751683871, 0.012308410313865, 0.04429210091522177], \"topics\": [1, 2, 3, 4, 5, 6, 7], \"cluster\": [1, 1, 1, 1, 1, 1, 1], \"Freq\": [20.991667103909865, 18.87083805359708, 15.576567719799822, 12.36018802216253, 11.39056354497838, 11.176903749650066, 9.633271805902243]}, \"tinfo\": {\"Term\": [\"\\uc794\\uc5ec_\\ubc31\\uc2e0\", \"\\ubc15_\\uc7a5\\uad00\", \"\\uae40_\\ucd1d\\uc7a5\", \"\\ud0dd\\uc2dc_\\uae30\\uc0ac\", \"\\uc811\\uc885\", \"\\ubc31\\uc2e0_\\uc811\\uc885\", \"\\uc608\\uc57d\", \"\\uc608\\ube44_\\uba85\\ub2e8\", \"\\ub124\\uc774\\ubc84_\\ube14\\ub85c\\uadf8\", \"\\uc544\\uc2a4\\ud2b8\\ub77c_\\uce74\", \"\\uad50\\uc721\\ubd80\", \"\\uc9c0\\uc6d0\", \"\\uc120\\ud0dd_\\uacfc\\ubaa9\", \"\\uc580\\uc13c_\\ubc31\\uc2e0\", \"\\ubc15\\ubc94\\uacc4_\\ubc95\\ubb34\\ubd80\", \"\\uac80\\uc0ac\\uc7a5\", \"\\uc544\\uc2dc\\uc544_\\uacbd\\uc81c\", \"\\ub3cc\\ud30c_\\uac10\\uc5fc\", \"\\ub4f1\\uad50\", \"\\uc2e0\\uaddc_\\ud655\\uc9c4\", \"\\ubc31\\uc2e0\", \"\\ucc28\\uad00\", \"\\uc0ac\\uc5c5\", \"\\ud654\\uc774\\uc790_\\ubc31\\uc2e0\", \"\\uc2dc\\uc120_\\uc0ac\\uc9c4\", \"\\uc120\\uc815\", \"\\uc7a5\\uba74_\\uc54c\", \"\\uae30\\ucd08_\\ud559\\ub825\", \"\\ub180\\uc774\\ud130\", \"\\uacbd\\uc81c_\\ub208\", \"\\uac80\\ucc30_\\uace0\\uc704\", \"\\uc9c1\\uc81c_\\uac1c\\ud3b8\", \"\\ucd1d\\uc7a5_\\uc758\\uacac\", \"\\uac80\\uc7a5_\\uac80\\uc0ac\\uc7a5\", \"\\uc7a5\\uad00_\\uae40\\uc624\\uc218\", \"\\uc5f0\\uc218\\uc6d0_\\uc5f0\\uad6c\", \"\\ubc15_\\uc7a5\\uad00\", \"\\uc778\\uc0ac_\\ud611\\uc758\", \"\\ubc95\\ubb34\\ubd80_\\uac80\\ucc30\", \"\\uac04\\ubd80_\\uc778\\uc0ac\", \"\\ubc95\\ubb34\\ubd80_\\uc624\\ud6c4\", \"\\uc5b8\\ub2c8\", \"\\ucc44\\ub110_\\uc0ac\\uac74\", \"\\uc7a5_\\uc2b9\\uc9c4\", \"\\uace0\\uac80\", \"\\uc77c\\uc120_\\ubcf5\\uadc0\", \"\\uac80\\ucc30_\\uc624\\uc804\", \"\\uace0\\uac80_\\uccad\\uc0ac\", \"\\uac80\\uc0ac\\uc7a5_\\uace0\\uc704\", \"\\uac1c\\ud601_\\uc548\\uc815\", \"\\ucd1d\\uc7a5_\\ubc15\\ubc94\\uacc4\", \"\\uc77c\\uc120_\\uac80\\ucc30\\uccad\", \"\\uae09\\uc18d_\\ucda9\\uc804\\uae30\", \"\\ud55c\\ub3d9\\ud6c8_\\ubc95\\ubb34\", \"\\uc9c1\\uc81c_\\uc7a5\\uad00\", \"\\uac80\\ucc30_\\uac04\\ubd80\", \"\\uc138\\uacc4_\\ubcf4\\uac74\", \"\\uce35_\\ud68c\\uc758\\uc2e4\", \"\\uc870\\uc0c1\\ucca0_\\uc11c\\uc6b8\", \"\\ud0c4\\ub825_\\uc778\\uc0ac\", \"\\ubc15\\ubc94\\uacc4_\\ubc95\\ubb34\\ubd80\", \"\\uae40\\uc624\\uc218_\\uac80\\ucc30\", \"\\uac80\\ucc30_\\uc778\\uc0ac\", \"\\uae40_\\ucd1d\\uc7a5\", \"\\uc9c0_\\uac80\\uc7a5\", \"\\uac2f\\ubc8c\", \"\\uac80\\uc0ac\\uc7a5\", \"\\ud53c\\uace0\\uc778_\\uc2e0\\ubd84\", \"\\ucc28\\uc7a5_\\uac80\\uc0ac\", \"\\uace0\\uac80_\\uc7a5\", \"\\uc11c\\uc6b8_\\uace0\\uac80\", \"\\ubcf4\\ubcf5_\\uc6b4\\uc804\", \"\\uc6b4\\uc804\\uc790_\\ud3ed\\ud589\", \"\\uc911\\uc559\\uc9c0_\\uac80\\uc7a5\", \"\\uc774\\uc131\\uc724_\\uc11c\\uc6b8\", \"\\ubc95\\ubb34\\ubd80\", \"\\uace0\\uc704_\\uac04\\ubd80\", \"\\uc870\\uc9c1_\\uac1c\\ud3b8\", \"\\ub3c4\\uc8fc\", \"\\uc2b9\\uc9c4\", \"\\ubca0\\uc2a4\\ud2b8_\\ucd94\\ucc9c\", \"\\ub2e8\\ub3c5_\\uc870\\ud76c\\uc5f0\", \"\\uc8fc\\uc694_\\uae30\\uc0ac\", \"\\ud3c9\\uc591_\\uc601\\uc0c1\", \"\\uac80\\ucc30_\\uac1c\\ud601\", \"\\uae40\\ud615\\uc11d_\\uce7c\\ub7fc\", \"\\ud574\\uc9c1_\\uad50\\uc0ac\", \"\\uc778\\uaca9_\\uad6d\\ubbfc\", \"\\uacf5\\uc9c1\\uc790_\\uc591\\uc2ec\", \"\\uc81c\\ubaa9_\\ud310\\ub9e4\", \"\\uc601\\uc0c1_\\ud655\\uc778\", \"\\uc778\\uc0ac\", \"\\uc791\\uc131\", \"\\ub300\\uad6d\\ubbfc_\\uc0ac\\uae30\\uadf9\", \"\\uac80\\ud1a0_\\ubb38\\uac74\", \"\\ud3c9\\uc591_\\uc9c0\\ub3c4\", \"\\ucc38\\ub73b_\\ub2e8\\ub3c5\", \"\\uacbd\\uad00_\\ucd08\\uac04\", \"\\uace0\\ubbfc_\\uac78\\ub85c\", \"\\ucc44\\uc6a9_\\u524d\", \"\\uc774\\uc6a9\\uad6c_\\ud3ed\\ud589\", \"\\uac00\\uc9c0_\\ud5c8\\uc740\\uc544\", \"\\uacbd\\uace0_\\uc774\\uc6a9\\uad6c\", \"\\uc1a1\\uc601\\uae38_\\uc870\\uad6d\", \"\\ub17c\\ub780_\\uae40\\uacbd\\uc728\", \"\\ud0dd\\uc2dc_\\uae30\\uc0ac\", \"\\uc7a5\\uad00\", \"\\uae30\\uc0ac_\\ucd94\\ucc9c\", \"\\uc0ac\\ub78c\", \"\\uc9c0\\ub09c\\ud574\", \"\\ub54c\\ubb38\", \"\\uc815\\uc6a9\\uc0c1\", \"\\ub300\\ubc95\", \"\\uc0ad\\uc81c_\\uc694\\uccad\", \"\\uc5ff\\uc0c8\", \"\\uc758\\uc0ac\\uc18c\\ud1b5\", \"\\uc784\\uc0c1_\\uc2dc\\ud5d8\", \"\\ub3c4\\uc7a5\", \"\\uad70\\ub300_\\uc131\\ud3ed\\ub825\", \"\\uacbd\\uc81c_\\uc9c0\\uc6d0\", \"\\uac1c\\ubcc4_\\ud3ec\\uc7a5\", \"\\uc544\\ub3d9_\\ubcf5\\uc9c0\", \"\\uacbd\\uc120_\\ud765\\ud589\", \"\\ud658\\uccad\", \"\\ud55c\\ubbf8_\\uae00\\ub85c\\ubc8c\", \"\\uad6d\\ub0b4_\\ub3cc\\ud30c\", \"\\ud669\\ubcf4\\uc120_\\uc724\", \"\\uc815\\ubd80_\\uace0\\ub839\", \"\\uc18c\\ubc29_\\uacf5\\ubb34\\uc6d0\", \"\\uc5f0\\uae30_\\ucd09\\uad6c\", \"\\uac10\\uc5fc_\\ucd94\\uac00\", \"\\ucc28\\uad00_\\ucde8\\uc784\", \"\\uc548\\uc804\\uc2dc\\uc124\", \"\\uc18c\\ub098\\uae30\", \"\\uc784\\uc0c1\\uc2dc\\ud5d8\", \"\\uad50\\uc721_\\uc804\\ubb38\", \"\\ud3ed\\uc5b8\", \"\\uae30_\\uae30\", \"\\uacbd\\uc81c_\\uc758\\ub8b0\", \"\\uc9c0\\uc9c0\\uc728_\\uc774\\uc7ac\\uba85\", \"\\uc218\\uc0b0\\ubb3c\", \"\\ub3cc\\ud30c_\\uac10\\uc5fc\", \"\\uc774\\uc7ac\\uc624\", \"\\ud669\\ubcf4\\uc120\", \"\\ubbfc\\uc8fc\\ub2f9_\\uad8c\\ub9ac\", \"\\ucc28\\uae30_\\ub300\\uad8c\", \"\\ucda9\\uccad_\\ub9dd\\ub860\", \"\\uc870_\\uad50\\uc721\\uac10\", \"\\ud56d\\uc18c\\uc2ec\", \"\\ucc38\\uc804_\\uc720\\uacf5\\uc790\", \"\\uacbd\\uc120_\\uc5f0\\uae30\", \"\\ud654\\uc7a5\\ud488_\\uc6a9\\uae30\", \"\\ucc9c\\uc548\", \"\\ud6c4\\ubcf4\", \"\\uc774\\uc6a9\\uad6c_\\ucc28\\uad00\", \"\\uc9c0\\uc0ac\", \"\\uc8fc\\uc790\", \"\\uad6d\\ubbfc_\\ud798\", \"\\uc9c0\\uc9c0\\uc728\", \"\\ud654\\uc774\\uc790\", \"\\uc724_\\ucd1d\\uc7a5\", \"\\ub098\\uacbd\\uc6d0\", \"\\ub300\\uc120_\\uacbd\\uc120\", \"\\uc815\\uce58\", \"\\ubbfc\\uc8fc\\ub2f9\", \"\\uc724_\\uc804\", \"\\uc5ec\\uc131\", \"\\ubcf5\\uc0ac_\\uc2a4\\ud06c\\ub7a9\", \"\\ub2f9_\\ub300\\ud45c\", \"\\uc190_\\ub2e8\\ubc1c\\uba38\\ub9ac\", \"\\uc0dd\\uac01\", \"\\ubd80\\ubd84\", \"\\uc815\\ub3c4\", \"\\uc138\\uacc4_\\ucc3d\", \"\\ub124\\uc774\\ubc84_\\ube14\\ub85c\\uadf8\", \"\\uc0ac\\uacfc_\\uac24\\ub7ed\\uc2dc\", \"\\uc774\\ubbf8\\uc9c0_\\uc8fc\\uc18c\", \"\\uc8fc\\uc7a5\", \"\\ub274\\uc2a4_\\uc724\\uc5ec\\uc815\", \"\\uc2dc\\uc120_\\uc0ac\\uc9c4\", \"\\uc544\\uc2dc\\uc544_\\uacbd\\uc81c\", \"\\uc804\\uc870_\\uc870\\ub450\\uc21c\", \"\\uc785\\uc0ac_\\uc784\\uc6d0\", \"\\ub54c\\ubb38\", \"\\uc8fc\\uc18c_\\ubcf5\\uc0ac\", \"\\uc870\\uc0ac\", \"\\ub9c8\\uc2a4\\ud06c_\\uc601\\uc5ed\", \"\\uacbd\\ucc30\", \"\\ub313\\uae00_\\uc8fc\\uc694\", \"\\uc9c4\\ud589\", \"\\uc0c1\\ud669\", \"\\uc774\\uc720\", \"\\uacbd\\uc6b0\", \"\\ubb38\\uc81c\", \"\\uad50\\ucc28_\\uc811\\uc885\", \"\\ud3c9\\uc774\", \"\\uc911\\ud654_\\ud56d\\uccb4\", \"\\ubcf8\\ubd80_\\ubcf8\\ubd80\", \"\\uc811\\uc885_\\uad50\\ucc28\", \"\\ud56d\\uccb4\", \"\\ucd94\\uac00_\\uc811\\uc885\", \"\\uc804\\ub0a8_\\uc9c0\\uc5ed\", \"\\uc5d0\\ub108\\uc9c0_\\uc808\\uc57d\", \"\\ud488\\ubaa9_\\ud5c8\\uac00\", \"\\uad8c\\uc900\\uc6b1_\\uc911\\uc559\", \"\\ud56d\\uccb4_\\uc9c0\\uc18d\", \"\\uc804\\uba74_\\ub4f1\\uad50\", \"\\uac1c_\\uad50\", \"\\uc724\\ud654\\uc12d_\\uc548\\uc0b0\\uc2dc\\uc7a5\", \"\\uc811\\uc885_\\uc5f0\\uad6c\", \"\\uc5fc\\ub450_\\uc5f0\\uad6c\", \"\\uc751\\uc2dc\", \"\\uacbd\\uac01\\uc2ec\", \"\\uce74\\ub4dc_\\ub274\\uc2a4\", \"\\uc2ec\\ub824_\\uace0\\uc778\", \"\\uad6d\\ud68c_\\ube44\\uc0c1\", \"\\ud504\\ub85c\\ud1a0\\ucf5c\", \"\\ud559\\uc0ac\", \"\\ud601\\uc2e0_\\uc804\\ub7b5\", \"\\uacf5\\uacf5_\\ubcf4\\uac74\", \"\\uba85\\uc9c0\", \"\\uc811\\uc885_\\ud654\\uc774\\uc790\", \"\\ub4f1\\uad50_\\uc218\\uc5c5\", \"\\ud3f4\\ub354\", \"\\uada4\\ub3c4\", \"\\ud1b5\\uc99d\", \"\\uc774\\uac74\\ud76c_\\ubbf8\\uc220\\uad00\", \"\\uc124\\ud6c8\", \"\\uad70\\uc778_\\uc13c\\ud130\", \"\\ubd80\\uc0b0\\uc2dc\", \"\\ucf54\\uc2a4\\ud53c_\\uc99d\\uad8c\", \"\\uc815\\ubcf4_\\ud604\\uc7ac\", \"\\uce74_\\ubc31\\uc2e0\", \"\\ub4f1\\ub77d_\\uac70\\ub798\\ub7c9\", \"\\uc74c\\ubaa8\\ub860\", \"\\ud558\\uc0ac\", \"\\uc785\\uc6d0\", \"\\ubcf4\\uac74_\\uc758\\ub8cc\", \"\\uac00\\ud574\\uc790\", \"\\ubb38_\\ub300\\ud1b5\\ub839\", \"\\ubc31\\uc2e0\", \"\\uc720_\\ud29c\\ubc84\", \"\\uad70\", \"\\uc131\\ucd94\\ud589_\\ud53c\\ud574\", \"\\uc0ac\\ub78c\", \"\\uc120\\ud0dd_\\uacfc\\ubaa9\", \"\\uc2dc\\ubbfc\", \"\\uad6d\\ubbfc_\\ud798\", \"\\uc575\\ucee4\", \"\\ud611\\ub825\", \"\\uad50\\uc218\", \"\\uacbd\\uc6b0\", \"\\ub098\\ub77c\", \"\\ubb38\\uc81c\", \"\\uc0ac\\uac74\", \"\\uc774\\uac8c\", \"\\uc9c0\\uc0ac\", \"\\uc774\\uc57c\\uae30\", \"\\ubcd1\\uc6d0\", \"\\ub54c\\ubb38\", \"\\uc9c4\\ud589\", \"\\uc0c1\\ud669\", \"\\uc815\\uce58\", \"\\ubc31\\uc2e0_\\uc811\\uc885\", \"\\uc8fc\", \"\\uc0ac\\uc9c4\", \"\\uacbd\\uc81c\", \"\\ud53c\\ud574\\uc790\", \"\\uc2dc\\uc791\", \"\\ucd1d\\uc7a5\", \"\\uae30\\uc790\", \"\\uc811\\uc885\", \"\\ubbf8\\uad6d\", \"\\ub300\\ud45c\", \"\\uacc4\\ud68d\", \"\\uc9c0\\uc6d0\", \"\\uc2dc\\uc7a5\", \"\\uc9c0\\ub09c\\ub2ec\", \"\\uc544\\uc2dc\\uc544_\\uacbd\\uc81c\", \"\\ub124\\uc774\\ubc84_\\ube14\\ub85c\\uadf8\", \"\\uc9c0\\uc5ed\", \"\\uc720\\uae30_\\ub3d9\\ubb3c\", \"\\ucf54\\ub85c\\ub098_\\uc2e0\\uaddc\", \"\\uc2ec\\ud3c9\", \"\\uba4d\", \"\\ubd80\\uc0b0_\\uacbd\\ucc30\\uccad\", \"\\ud55c\\uad6d\\uc740\\ud589_\\ud1b5\\ud569\", \"\\ub3c5\\ub9bd_\\uc120\\uc5b8\", \"\\ubd88\\uad50\", \"\\ubc30\\ub2ec_\\ud2b9\\uae09\", \"\\uacbd\\uae30\\ub3c4_\\uc8fc\\uc2dd\\ud68c\\uc0ac\", \"\\uc77c\\uc815_\\ud569\\uc758\", \"\\uace0\\uc591_\\uad00\\uad11\", \"\\ub514\\uc9c0\\ud138_\\ud504\\ub77c\\uc790\", \"\\uaf43\\ubc14\\uad6c\\ub2c8\", \"\\ud655\\uc9c4_\\uc774\\ud2c0\", \"\\ud53c\\ud574\\uc790_\\uc9c0\\uc6d0\", \"\\ud655\\ubcf4_\\ubd84\\uc11d\", \"\\ucd95\\uc6d0\", \"\\uc131\\ud3ed\\ub825_\\ucc98\\ubc8c\", \"\\uc131\\uc778_\\ubb3c\", \"\\ud558\\ubaa8\\ub2c8\", \"\\uc874\\uacbd_\\ub77c\\uc6b8\", \"\\ud310\\uc815_\\ud55c\\uc740\", \"\\ub099\\ucc30\\uc790\", \"\\ud790\\ud2bc_\\uc11c\\uc6b8\", \"\\uace0\\uc591\\uc2dc_\\uc77c\\uc0b0\", \"\\uac80\\uc0ac_\\uc9c4\\ud589\", \"\\ubaa8\\uc2b5_\\ubd81\\ud55c\", \"\\ub77c\\uc6b8_\\uce74\\uc2a4\\ud2b8\\ub85c\", \"\\uc0ac\\ub4dc\", \"\\uce74\\uc2a4\\ud2b8_\\ucd1d\\uc11c\\uae30\", \"\\ub09c\\uc774\\ub3c4\", \"\\ucfe0\\ubc14\", \"\\uae30\\ucd08_\\ud559\\ub825\", \"\\uc911\\uc99d_\\ud658\\uc790\", \"\\ud0a8\\ud14d\\uc2a4\", \"\\uce58\\uba85\\ub960\", \"\\uc778\\ubbfc\", \"\\uc2e0\\uaddc_\\ud655\\uc9c4\", \"\\ud574\\uc678_\\uc720\\uc785\", \"\\ub9cc\\ucde8_\\uc0c1\\ud0dc\", \"\\ubc18\\ub824_\\ub3d9\\ubb3c\", \"\\ubcf4\\ud638\\uc790\", \"\\uc81c\\uc8fc\\uc2dc\", \"\\uc0ac\\uace0_\\uc218\\uc2b5\", \"\\uc870\\uc9c1\\uc6d0\", \"\\uc190_\\ubc18\\uc7a5\", \"\\ub3d9\\uc9c0\", \"\\ubcd1\\uc6d0_\\uce58\\ub8cc\", \"\\uc54c\\ub730_\\ud3f0\", \"\\ucd95\\uc804\", \"\\uc120\\ud0dd_\\uacfc\\ubaa9\", \"\\ub124\\uc774\\ubc84_\\ube14\\ub85c\\uadf8\", \"\\uc190\\uc601\\ub798_\\uc911\\uc559\", \"\\ud655\\uc9c4\", \"\\uc544\\uc2dc\\uc544_\\uacbd\\uc81c\", \"\\uc7a5\\uba74_\\uc54c\", \"\\ud14c\\uc2ac\\ub77c\", \"\\uacbd\\uc81c_\\ub208\", \"\\ub3d9\\uc0dd_\\uc724\\uc5ec\\uc21c\", \"\\uc720\\uc601\\ucca0_\\uac15\\ud638\\uc21c\", \"\\uc2dc\\uc120_\\uc0ac\\uc9c4\", \"\\ub9c8\\uc2a4\\ud06c_\\uc601\\uc5ed\", \"\\ube44\\uc11c_\\uc678\\uc2e0\", \"\\uce74\\uce74\\uc624\\ud1a1_\\uce74\\uce74\\uc624\\ud1a1\", \"\\ub313\\uae00_\\uc8fc\\uc694\", \"\\uc804\\uc870_\\uc870\\ub450\\uc21c\", \"\\uc774\\ubbf8\\uc9c0_\\uc8fc\\uc18c\", \"\\uc18c\\ub984_\\uacf5\\ud1b5\\uc810\", \"\\ub274\\uc2a4_\\uc724\\uc5ec\\uc815\", \"\\uc785\\uc0ac_\\uc784\\uc6d0\", \"\\ud559\\uc0dd\", \"\\uba83_\\ub0ab\", \"\\uc815\\ubbfc_\\ubb38\\uc81c\", \"\\uc190_\\ub2e8\\ubc1c\\uba38\\ub9ac\", \"\\uc81c\\uc791_\\ud300\", \"\\uc8fc\\uc18c_\\ubcf5\\uc0ac\", \"\\uc9c1\\uc6d0\", \"\\ubcf5\\uc0ac_\\uc2a4\\ud06c\\ub7a9\", \"\\uc138\\uacc4_\\ucc3d\", \"\\uc0ac\\uacfc_\\uac24\\ub7ed\\uc2dc\", \"\\ubb38\\uc81c\", \"\\uac1c\", \"\\uc9c0\\ub09c\\ud574\", \"\\uacbd\\uc6b0\", \"\\uc2dc\\uc7a5\", \"\\uc608\\ube44_\\uba85\\ub2e8\", \"\\uba85\\ub2e8_\\uc774\\ub984\", \"\\ub2f9\\uc77c_\\uc608\\uc57d\", \"\\uc720\\uac00\\uc871_\\uc0ac\\uacfc\", \"\\uc804\\ubcf4\", \"\\ubcf4\\uc88c\\uad00\", \"\\ubc31\\uc2e0_\\uacbd\\uc6b0\", \"\\uc778\\ucc9c_\\uc9c0\\ubc29\", \"\\ub137\\ud50c\\ub9ad\\uc2a4\", \"\\uc9c4\\ud589_\\uc804\\ub9dd\", \"\\uce74\\uce74\\uc624_\\ub124\\uc774\\ubc84\", \"\\ud654\\ubcf4\", \"\\uc794\\uc5ec_\\ubc31\\uc2e0\", \"\\uae30\\uc790_\\uba83\", \"\\ub0b4\\uc77c_\\uc794\\uc5ec\", \"\\ub2e4\\uc591_\\ud504\\ub85c\\uadf8\\ub7a8\", \"\\uc9c4\\ub2e8_\\uae30\\uc900\", \"\\ubd81\\ud56d\", \"\\uba85\\ub2e8_\\ub4f1\\ub85d\", \"\\ub2f4\\ubc30_\\uad11\\uace0\", \"\\uad70_\\uc218\\uc1a1\\uae30\", \"\\uc678\\ubd80_\\ub178\\ucd9c\", \"\\ub3c4\\ub07c\", \"\\uc778\\uad6c_\\ub300\\ube44\", \"\\uacf5\\uad70_\\ud2b9\\uc218\", \"\\uc2dc\\ub178\", \"\\ud655\\uc778_\\uc758\\ud639\", \"\\uc804\\ud654_\\uc608\\ube44\", \"\\ubc8c\\uae08_\\ubd80\\uacfc\", \"\\ube44\\ud589\\ub2e8_\\uc911\\uc0ac\", \"\\ucf54\\ub85c\\ub098_\\ubc29\\uc811\", \"\\uc885\\ub300_\\uc751\\ucd94\", \"\\uc5d1\\uc2a4\\ud3ec\", \"\\uc608\\uc57d_\\uc811\\uc885\", \"\\uae30\\uc219\\uc0ac\", \"\\ub86f\\ub370\\ud638\\ud154\", \"\\uc758\\ub8cc_\\uae30\\uad00\", \"\\uc608\\uc57d\", \"\\ud68c\\ubd84\", \"\\ubc31\\uc2e0_\\uc608\\uc57d\", \"\\uc544\\uc2a4\\ud2b8\\ub77c_\\uce74\", \"\\ucd94_\\uc9c4\\ub2e8\", \"\\ud604\\ucda9\\uc6d0\", \"\\uc580\\uc13c_\\ubc31\\uc2e0\", \"\\ud56d\\ub9cc\", \"\\uace0\\uc7a5\", \"\\uad70\\uc0ac_\\uacbd\\ucc30\", \"\\uc608\\ubc29_\\uc811\\uc885\", \"\\ud654\\uc774\\uc790_\\ubaa8\\ub354\", \"\\uc0ac\\uc804_\\uc608\\uc57d\", \"\\ubc29\\uc5ed_\\ub2f9\\uad6d\", \"\\uc0ac\\ub9dd_\\uc0ac\\uac74\", \"\\uc704\\ud0c1_\\uc758\\ub8cc\", \"\\uc811\\uc885\", \"\\ubd80\\uc0b0\", \"\\uad6d\\ubc29\\ubd80\", \"\\uc555\\uc218\\uc218\\uc0c9\", \"\\ubc31\\uc2e0\", \"\\ubc31\\uc2e0_\\uc811\\uc885\", \"\\uacbd\\uc6b0\", \"\\uacc4\\ud68d\", \"\\uc218\\uc0ac\", \"\\uc608\\uc815\", \"\\uc9c4\\ud589\", \"\\uae30\\uc790\", \"\\ub300\\uc0c1\", \"\\ucd1d\\uc7a5\", \"\\ubc1c\\uc0dd\", \"\\uc11c\\ube44\\uc2a4\", \"\\uc815\\ubd80\", \"\\uc62c\\ud574\", \"\\ucd5c\\uadfc\", \"\\uc9c0\\ub09c\\ub2ec\", \"\\uc8fc\", \"\\uacbd\\ucc30\", \"\\ud655\\uc778\", \"\\ub54c\\ubb38\", \"\\uc9c0\\ub09c\\ud574\", \"\\uc870\\uc0ac\", \"\\uc0c1\\ud669\", \"\\uace0\\ub839_\\uc811\\uc885\", \"\\uc811\\uc885_\\uc0ac\\uc804\", \"\\uc791\\uc0ac\", \"\\uc6a9\\uc0b0_\\uc0c1\\uac00\", \"\\ub4dc\\ub860_\\uc790\\uc728\", \"\\ud658\\uacbd\\uc815\\ud654\", \"\\ubca0\\ub4dc\", \"\\ub178\\ud6c4_\\uc8fc\\ud0dd\", \"\\uc194\\uc232\", \"\\uc2a4\\ub9c8\\ud2b8_\\uacf5\\uc7a5\", \"\\uc6a9\\uc0b0_\\ubc38\\ub9ac\", \"\\uc8fc\\ub825_\\uc0b0\\uc5c5\", \"\\uc9d1\\uc218\\ub9ac\", \"\\uc791\\uace1\", \"\\ud074\\ub9ad\", \"\\ud14c\\uc2a4\\ud2b8_\\ubca0\\ub4dc\", \"\\uac1c\\ubc1c_\\uc5f0\\uad6c\", \"\\uad6c\\ub9ac_\\uc2dc\\ubbfc\", \"\\ub300\\ud55c\\ubbfc\\uad6d_\\uad6d\\ud68c\", \"\\uc8fc\\ud589_\\ud14c\\uc2a4\\ud2b8\", \"\\ub3c8_\\ub178\", \"\\uc6d0\\ud6a8_\\uc0c1\\uac00\", \"\\ud504\\ub85c\\uc81d\\ud2b8_\\uccad\\ub144\", \"\\ube44\\ud575\\ud654\", \"\\ucc45\\uc784_\\uc800\\ud574\", \"\\uc2ec\\uc758_\\uaddc\\uc815\", \"\\uc758\\uc815_\\ub300\\uc0c1\", \"\\uc704\\ubc30_\\uacbd\\uc6b0\", \"\\uce74_\\ud14c\\uc2a4\\ud2b8\", \"\\uc2a4\\ub9c8\\ud2b8_\\uc81c\\uc870\", \"\\uc784\\uae08_\\uccb4\\ubd88\", \"\\ubc1c\\uba85\\uc790\", \"\\ubcf4\\uc218_\\uacf5\\uc0ac\", \"\\ud1f4\\uc0ac\", \"\\ud2b9\\ud5c8\\uccad\", \"\\ub0a0\\uc528\", \"\\uc9c0\\uc6d0_\\uc5c5\\uc885\", \"\\ub180\\uc774\\ud130\", \"\\uadfc\\ub85c\\ubcf5\\uc9c0\\uacf5\\ub2e8\", \"\\ubcf4\\uc815\", \"\\ud2b9\\ubcc4_\\uace0\\uc6a9\", \"\\uc2dc\\uc0c1\\uc2dd\", \"\\uace0\\uc6a9_\\uc720\\uc9c0\", \"\\ubc1c\\uba85\", \"\\ubc29\\uc1a1_\\ud1b5\\uc2e0\", \"\\uc120\\uc815\", \"\\uacf5\\uc57d_\\uc774\\ud589\", \"\\ud574\\uc218\\uc695\\uc7a5\", \"\\uadfc\\ub85c\\uc790\", \"\\uc9c0\\uc6d0\", \"\\uace0\\uc6a9\\ubd80\", \"\\ubd81\\ud55c\", \"\\uad6c\\ubbfc\", \"\\ube45_\\ub370\\uc774\\ud130\", \"\\uc0ac\\uc5c5\", \"\\ub300\\ud559\", \"\\ud55c\\uad6d\", \"\\uad50\\uc721\", \"\\uccad\\uc18c\\ub144\", \"\\uae30\\uc5c5\", \"\\uc6b4\\uc601\", \"\\uc9d1\", \"\\ubd84\\uc57c\", \"\\uac1c\", \"\\uc758\\uc6d0\", \"\\uc9c0\\uc5ed\", \"\\uccad\\ub144\", \"\\uad6d\\uac00\", \"\\uac1c\\ubc1c\", \"\\uc0b0\\uc5c5\", \"\\uc2dc\\uc7a5\", \"\\ucd94\\uc9c4\", \"\\ucc38\\uc5ec\", \"\\uc544\\uc2dc\\uc544_\\uacbd\\uc81c\", \"\\ub124\\uc774\\ubc84_\\ube14\\ub85c\\uadf8\", \"\\uc628\\ub77c\\uc778\", \"\\ubbf8\\uad6d\", \"\\uc9c0\\ub09c\\ud574\", \"\\uc9c4\\ud589\", \"\\ud3c9\\uac00\", \"\\uacbd\\uc6b0\", \"\\uc608\\uc815\", \"\\ud559\\uc0dd\", \"\\ub9c8\\uc744_\\uacf5\\ub3d9\\uccb4\", \"\\uc815\\uc6b0\\uc131\", \"\\uacfc\\uae30_\\uc815\\ud1b5\\ubd80\", \"\\ub178\\ub798_\\uad50\\uc2e4\", \"\\uacbd\\uc2e4\\ub828\", \"\\uc7ac\\uc9c8_\\uac1c\\uc120\", \"\\ub178\\uc778_\\ubcf5\\uc9c0\", \"\\ubd80\\ub3d9\\uc0b0_\\uc7ac\\uc0b0\", \"\\uc2e4\\ucc9c_\\uc2dc\\ubbfc\", \"\\uc11c\\uc6b8\\uc2dc_\\ub178\\uc778\", \"\\uacbd\\uc81c_\\uc815\\uc758\", \"\\uad00\\ub9ac\\uc778\", \"\\ud65c\\ub3d9_\\ud504\\ub85c\\uadf8\\ub7a8\", \"\\ubc31\\uc2e0_\\ud53c\\uc2f1\", \"\\uc6b4\\uc804\\uae30\\uc0ac\", \"\\uc74c\\uc2dd\\ubb3c_\\uc12d\\ucde8\", \"\\uc7ac\\uc0b0_\\uc5b5\", \"\\uacf5\\uc9c1\\uc790_\\uc7ac\\uc0b0\", \"\\uc8fc\\uc81c_\\uc9c4\\ud589\", \"\\uc811\\uc885_\\ucc28\\uc9c8\", \"\\uc785\\uc18c\", \"\\uc774\\uc804_\\uc0ac\\uac74\", \"\\uad00\\ubcf4\", \"\\uc790\\uce58\\uad6c_\\uc0c1\\ud669\", \"\\ucc28\\uad00_\\uc220\", \"\\uba85\\ubd80\", \"\\ub300\\uc785_\\uc218\\ud5d8\", \"\\uc11c\\ucca0\\ubaa8_\\ud654\\uc131\", \"\\ubc18\\ub824_\\ud574\\ubcc0\", \"\\ud559\\uae30_\\uc804\\uba74\", \"\\uc9c0\\uc790_\\uccb4\\uc7a5\", \"\\uae40\\uc601\\uc218\", \"\\ub300\\uad6c\\uc2dc_\\uac00\\uc9dc\", \"\\uace0\\ub824\\ud56d\\uacf5\", \"\\ubc14\\ub451\", \"\\uccb4\\ub0a9\", \"\\ub4f1\\uad50\", \"\\uad50\\uc721\\ubd80\", \"\\ube44\\ud589\\ub2e8_\\uc555\\uc218\\uc218\\uc0c9\", \"\\uc5b4\\ub974\\uc2e0\", \"\\uae30\\uc628\", \"\\ube14\\ub799\\ubc15\\uc2a4\", \"\\ud559\\ub144\\ub3c4\", \"\\ud574\\uc591_\\uc4f0\\ub808\\uae30\", \"\\ubc31\\uc2e0_\\uc811\\uc885\", \"\\ucc28\\uad00\", \"\\uc811\\uc885\", \"\\uc790\\uc0b4\", \"\\ud0dd\\uc2dc_\\uae30\\uc0ac\", \"\\uc77c\\uc0c1_\\ud68c\\ubcf5\", \"\\uc811\\uc885_\\uc811\\uc885\", \"\\uc724\\uc5ec\\uc21c_\\uc785\\uc0ac\", \"\\uc774\\uc6a9\\uad6c_\\ubc95\\ubb34\\ubd80\", \"\\uc2a4\\ud06c\\ub7a9_\\ub313\\uae00\", \"\\uc811\\uc885_\\uc608\\uc57d\", \"\\ud300\", \"\\uc99d\\uac70\\uc778_\\uba78\", \"\\uc54c_\\uc81c\\uc791\", \"\\ud559\\uad50\", \"\\ubb38\\uc81c_\\uc7a5\\uba74\", \"\\uc8fc\\uc694_\\ub274\\uc2a4\", \"\\ud654\\uc774\\uc790_\\ubc31\\uc2e0\", \"\\uacbd\\uc6b0\", \"\\uc7ac\\uc0b0\", \"\\uc6b4\\uc601\", \"\\ubc1c\\ud45c\", \"\\ud559\\uc0dd\", \"\\uacc4\\ud68d\", \"\\uad6d\\ubbfc\", \"\\uc2dc\\uc791\", \"\\ud310\\ub2e8\", \"\\uc0c1\\ud669\", \"\\uc2dc\\uc7a5\", \"\\uc2dc\\uc124\", \"\\ub54c\\ubb38\", \"\\uc5b5\", \"\\uad00\\ub9ac\", \"\\uc815\\ubd80\", \"\\uad50\\uc721\", \"\\ub0b4\\uc6a9\", \"\\ud3c9\\uac00\", \"\\uac1c\", \"\\ucd94\\uc9c4\", \"\\uc9c0\\ub09c\\ud574\", \"\\uc62c\\ud574\", \"\\uc9c0\\uc5ed\"], \"Freq\": [247.0, 307.0, 329.0, 454.0, 666.0, 749.0, 316.0, 122.0, 955.0, 308.0, 189.0, 718.0, 206.0, 225.0, 170.0, 189.0, 964.0, 147.0, 102.0, 154.0, 510.0, 278.0, 584.0, 175.0, 478.0, 286.0, 477.0, 119.0, 125.0, 479.0, 71.56295398352607, 74.424775589611, 43.36911366286268, 29.3144943226026, 46.816193852264625, 33.323436278737965, 295.6232666304286, 24.981272711587266, 83.03667702685813, 85.4309710766566, 24.007878184037722, 27.897119559014648, 17.806036519961975, 50.428370987403305, 37.18071141860499, 19.098023150329674, 14.237586273567704, 15.582984982200287, 30.284746853897154, 14.884257784276727, 13.53350597617009, 22.611297081058638, 21.967433114016846, 16.174387273747403, 13.466576439150002, 32.20251843086841, 12.188542984936559, 12.027249508350598, 12.042667772646224, 12.06128749143466, 156.13324477084728, 115.6524264944605, 117.37652215207113, 296.2287001370671, 107.37084529744222, 41.51054205199445, 160.50679950587624, 35.136949693755525, 113.50414090365705, 49.692240841748855, 104.23982651961107, 64.28241911078517, 50.04553054247692, 143.04870144523824, 98.49869515324133, 122.9484130767558, 71.5092929238903, 261.5663906912977, 55.92956978345561, 79.88550190640478, 358.30824356244705, 356.90238325822764, 300.64163109009473, 364.42792323220027, 254.63697900974418, 352.5135923497564, 360.0322351681415, 346.933169167944, 347.6885266212547, 346.0423063906335, 230.37403427579298, 304.37210038938343, 315.1753649107372, 337.6739756246306, 334.93735077056294, 329.39025393105067, 215.1285258901646, 220.1125680820471, 219.3697563169172, 309.4827143050328, 217.72307528495287, 210.02891174851254, 208.8964701509248, 210.97881655598192, 208.11594699845534, 229.2703556007524, 232.52801299286804, 209.8054230970932, 265.026354737608, 247.1186483471076, 235.57899355030895, 51.07079041496033, 19.679568092348518, 19.208699364978145, 13.133864063852474, 12.255981412230147, 17.419762670359816, 10.518441248784992, 12.651850791276143, 10.296955105235055, 11.95978823081912, 19.973834530220113, 29.24960386713884, 12.336456988290996, 8.687071096970586, 25.920089139928365, 11.494405753258249, 7.145773980638754, 8.62910843761926, 8.756603404458765, 8.705262829859992, 9.734163924061562, 9.211795939269493, 13.543314187022728, 44.054664476516365, 9.732452655092212, 30.275122511693816, 7.0085718008999045, 12.022898059842532, 10.641966639533074, 11.832385132982363, 122.22179966532177, 27.28856479381084, 72.93003745544713, 17.647761491031762, 17.132511683607078, 34.94712899811891, 36.4211754989217, 48.83688035932774, 23.258480436488966, 63.42073377285458, 28.35304925829457, 28.085149224211353, 258.4444620748111, 43.007361185891824, 184.05896572333512, 66.95729617707418, 339.5819359266509, 77.58681373156229, 77.18724036136008, 129.70544194770858, 51.085746688607536, 41.80618566739361, 193.89098015739523, 167.08897698696947, 187.663330792273, 159.13277391721624, 189.2376247488733, 147.91628358968612, 185.69017169196442, 224.74426603994038, 180.7947899012238, 206.9172430693667, 177.7158219886504, 278.65850231064996, 173.04112624596306, 174.56334551111536, 222.05567791591247, 170.1348052447338, 169.93738376886705, 255.82966313378952, 165.7492529902558, 165.02087544818565, 246.4615370532365, 181.04536845242546, 207.6556827727559, 162.12786375993613, 186.2743115590308, 160.45592808652535, 192.11210228340497, 190.79244915827323, 175.4595860950048, 192.9461124751791, 181.79511305418904, 41.694388827321134, 13.497232886338468, 17.07076697379256, 15.655980267853296, 13.16964637016773, 20.341122633157234, 21.27350939185692, 12.99627076941924, 26.50319905627671, 7.625703433422338, 13.92106059170543, 21.5709191117877, 43.57052603799092, 9.344143548321147, 11.562822623487847, 9.182408081088255, 8.14454868350876, 36.07244631067511, 11.365895141103183, 21.62780651585681, 7.938724788745134, 5.782875204164436, 6.847128440763466, 12.514369931250751, 10.041790486861196, 18.686621561399555, 6.802548487310519, 8.86631761860458, 33.61477257945548, 12.049437422744854, 41.92094849798145, 26.87022897660666, 41.01926246217093, 23.132152967460573, 23.44616702590818, 62.400000336559664, 22.44119298746961, 22.30141900874168, 31.570818905536154, 21.999759967934967, 26.28344491703872, 38.68294393045093, 29.88495255129742, 32.73107101525615, 76.622071954532, 140.59140357100347, 156.9595669844036, 56.22221576524437, 140.55987973177332, 81.03982697565904, 218.46744156774645, 81.500579101006, 131.28483383595648, 173.5853478887273, 94.24462055146249, 75.22117481981408, 131.39261933524165, 193.71246992450745, 106.29130460179033, 171.53832786515576, 153.00043529192257, 75.2394295272759, 99.79839745353804, 109.56016569145042, 90.89854921876142, 170.05016661074947, 157.8263291727815, 156.15166106129237, 112.83761917815751, 141.445646669974, 109.73069002822376, 120.22050673787356, 107.30739140020944, 101.81057359742867, 127.21736514245421, 115.537231205946, 130.74242084855896, 122.7702867740237, 106.62294465572072, 118.90399488378205, 114.76801864463302, 117.6773447225555, 117.89324662216748, 114.0179542235942, 119.01047883897026, 117.03167958014278, 109.09498500716332, 28.145807741108477, 41.324618170788575, 19.852485434044144, 13.450466035114681, 19.53179307124175, 10.252497268853222, 8.661904854830494, 16.84375472327346, 26.873565312486377, 16.056106526176638, 11.097852630094582, 10.97977645957361, 8.27503732176976, 15.83557732819737, 9.504413478099229, 9.017343941169239, 7.896350057664183, 9.577915552355522, 7.838853499614854, 10.426194235604127, 6.824558134230187, 9.417431519692007, 6.878559178127888, 7.385859481860645, 10.597182315644726, 8.04378143568419, 11.175407093839961, 10.585183785534895, 28.3519829028845, 12.283240010995403, 12.493695126249099, 45.754995821150494, 24.73868907035479, 89.97281440431111, 43.239057115782444, 20.776403980172606, 43.50151716677433, 21.142889219447788, 105.13292601743973, 31.37521206546657, 26.16588288216786, 46.47662311011585, 28.453568342636302, 14.516416237793553, 31.12704697156551, 34.35390651785891, 30.00233383912197, 20.323608533879593, 21.17106120361193, 38.74246272097196, 23.27465833788904, 95.90235297787706, 278.4725910488792, 29.012922814700932, 97.46796696197934, 257.45663658464275, 151.24839194897473, 56.90497045115047, 149.61283704822606, 148.20103006302597, 146.25399257666686, 144.27064988166688, 142.97996820562332, 141.47094763499067, 140.57964951138018, 138.86992625527398, 137.53310160431366, 138.4083739716509, 134.8921077347554, 131.95852784310063, 131.10508411374565, 141.7475779205027, 142.55817835277543, 130.06578187294198, 129.100665492418, 127.33650192827265, 138.0622666499307, 115.1555530242052, 121.67451733805852, 121.39477992885614, 120.2293022088415, 137.60064434661882, 131.2769999546628, 126.80629533978477, 129.45078144132174, 121.6747711594304, 120.43281351833781, 30.056216938090525, 17.1938304306957, 12.342255919294008, 39.960661430758265, 13.802556492547458, 11.537430953848622, 11.17082783543569, 9.317890593755445, 9.854440234641812, 8.03172120853186, 8.86371045581174, 218.67683541905168, 8.90865339084206, 7.899863662179554, 8.89203168349035, 12.234823793438036, 6.482635250088228, 6.578897177245328, 24.408401545702528, 13.763351403964947, 13.492215726151237, 8.61992911150278, 19.265738451689703, 13.770108572633584, 6.666539731834808, 8.142420509122346, 5.6514495634512745, 7.437783524966509, 7.518620515767075, 62.227615200555825, 57.4596351935788, 54.98401104630965, 34.448961347075254, 12.557266364598455, 10.976106036075587, 91.3361508275341, 183.34023497342082, 49.884528498363736, 32.57534224909842, 163.37729625439115, 28.377571697391897, 32.64570875398078, 110.26871710660537, 20.021535127368075, 16.438140627574604, 80.83637779570888, 97.0533325589854, 37.644188669445825, 78.61559831889029, 53.03737782707864, 68.06138884260714, 36.4091210024236, 150.43037557065296, 69.91657544914858, 60.747031022516396, 51.72352290424592, 115.81597550491169, 140.47703184187225, 161.77354649524744, 118.04453853024147, 109.91173050188408, 113.69034083455715, 126.23199271524466, 112.81926093298958, 100.88766987265711, 96.41923549555958, 95.40652727450217, 81.22737003827794, 98.06166908751115, 92.24397875709846, 97.97863919282304, 96.31795257467377, 84.27160055245844, 89.46976881650198, 86.241765898924, 92.94981352048114, 89.20891911821042, 84.57115828111799, 84.17576208260375, 39.925403339556645, 38.81567952885444, 18.94904475454446, 34.330852153251854, 28.742306137233484, 14.6441340614985, 23.70568572583968, 11.50225864723127, 10.571894532121721, 29.54809512178843, 14.527657501613527, 10.658040530121822, 12.12384125921939, 10.474042904001527, 11.261059548163574, 27.308235857328082, 10.249961013549267, 10.440470341617708, 12.710906508556223, 16.241774495353837, 45.340685847676745, 11.049758678292914, 10.92574449198088, 25.396152043984067, 8.783239227855875, 8.734202609994774, 12.228967354739266, 8.692286125667678, 7.266807592278332, 15.67004468993955, 27.43220156697718, 25.57943933859437, 30.82585091807019, 35.43213904596351, 26.84576453561924, 56.81368734484534, 36.584185951369705, 82.94584176514641, 29.249063363835486, 33.78919964389158, 36.037206945004144, 21.82759097845289, 55.619804090003846, 25.725648911294527, 24.913296780169546, 125.95697267145205, 30.14641388216448, 56.41813756166283, 61.46608568306974, 212.74828409402903, 30.334066055078523, 93.96994936350747, 47.74186357455953, 48.024769422188136, 161.89190375085315, 119.11411773489958, 170.01385402249593, 128.6932487935138, 59.74965961726213, 136.66115012353555, 137.2778840799102, 100.4277927498084, 95.22275253953154, 141.73081974721737, 121.53371659369887, 120.94773860665936, 87.4716230170549, 97.01887423920952, 82.96372866445095, 79.37777733808043, 110.69366993791583, 98.53549335086107, 93.1488061379566, 116.6107986898864, 109.71877852391808, 81.96091469260081, 86.16602182985358, 100.11276171444656, 96.04602478097308, 89.13254033583934, 97.5714132220182, 88.83226203512513, 84.65360534808286, 21.276549265478025, 13.974481306477633, 11.285518443241221, 12.465527903583792, 42.69882591423689, 12.119310255733039, 33.51047666962905, 39.60366920197709, 11.943367104805219, 14.489558845806963, 11.846598371794917, 10.597135962293807, 27.30175717330598, 12.602461540060723, 13.42075152797239, 13.128245400040674, 17.554625987891608, 12.862142682346818, 7.0489627282193625, 6.952616927276814, 9.285679897442034, 10.104555680374965, 8.230912901034124, 8.753687633459437, 5.863881493806234, 7.00532611524899, 6.900645312366346, 10.266004028440411, 33.77936255318812, 51.22762624215352, 57.68868440488481, 31.63192497917116, 11.395612947128232, 14.871623397142283, 11.120997016199599, 13.453087072071861, 73.44371568540284, 123.00670859481954, 12.451545564779323, 70.88471745906725, 34.920412807531406, 39.25091657153105, 20.886343271838456, 34.60519198735599, 205.63831648533764, 98.66328449374147, 179.15110430469824, 31.99934721303177, 127.12898653030037, 32.75440715144309, 33.90587381332604, 44.18872008814198, 54.45647041673311, 44.01400821525012, 41.7450356543763, 76.99867118090249, 48.399032697822626, 43.189543078075005, 89.18998135774243, 43.007272999843295, 42.46462387097606, 58.65382220498262, 133.76137993086647, 43.7124337757447, 97.57458913649505, 85.00818596595278, 84.50103584483696, 89.44648965683474, 79.32808550929772, 84.86749283857519, 73.53901865183154, 91.48685038137553, 85.5486726840865, 65.5806991114343, 90.11352856401616, 70.44406999486314, 64.96536706027818, 74.23944190642563, 69.37681456485782, 70.7041118231667, 72.52020940803887, 73.88973847975838, 69.99887942167317, 72.77033961869007, 68.75983171434048, 69.6772464056318], \"Total\": [247.0, 307.0, 329.0, 454.0, 666.0, 749.0, 316.0, 122.0, 955.0, 308.0, 189.0, 718.0, 206.0, 225.0, 170.0, 189.0, 964.0, 147.0, 102.0, 154.0, 510.0, 278.0, 584.0, 175.0, 478.0, 286.0, 477.0, 119.0, 125.0, 479.0, 73.15682592175021, 76.11263704463217, 44.62023985214364, 30.381528161969452, 48.616718529229786, 34.70736836957336, 307.9727622733921, 26.077520822940166, 87.16761026837683, 89.99826959420838, 25.346994550172507, 29.618025528451334, 18.92298882909008, 53.65404425838862, 39.58214573021065, 20.353260335709244, 15.219245890612722, 16.7162406554796, 32.599595792637786, 16.040897432241472, 14.590644497423604, 24.37930571921648, 23.710929932432098, 17.459329738738067, 14.555275422636187, 34.80876991807325, 13.19032416664253, 13.085290094446824, 13.102070001118802, 13.12999989149961, 170.39511988500757, 126.50126913751731, 128.89035643949694, 329.5694345802464, 118.73175483559473, 45.38022974462345, 189.16337901982243, 38.98458622604408, 133.5755367974456, 56.61694363317344, 124.41416138905015, 75.58195219243417, 57.75850799496116, 189.36719683685436, 125.53547405917833, 165.97888706955695, 89.04588551802382, 421.10730680849355, 67.4521947448551, 103.17086239561918, 665.3460816724614, 663.4337824183199, 536.9932934781627, 684.5124992700177, 437.38245901333556, 664.4786977672582, 683.5490806029442, 664.2980079272238, 667.0804588336696, 670.5317577204302, 396.78286752149006, 575.8049717396362, 607.9423246026896, 670.1550707309616, 668.1559108730559, 669.4581584662265, 371.2177659903325, 388.8262323893924, 388.2915164311453, 669.0704296783961, 394.9593414722311, 373.6732333480064, 372.5169888182687, 380.0901442987938, 373.97297491640563, 454.0033591753695, 479.7727091950286, 384.3269606777409, 883.5609810678769, 866.3473102174482, 988.5767892070031, 52.92763563062556, 20.83316124435796, 20.392513286214715, 14.02841656643627, 13.158186007969519, 18.742093326000084, 11.448274006520965, 13.912101528903735, 11.344432541573548, 13.181476380671056, 22.03352202690057, 32.40328977943181, 13.838147329184807, 9.774176553118982, 29.19940216870082, 12.949965554757199, 8.05304217141257, 9.760316502250236, 9.95807464713724, 9.931815365561974, 11.141671029835496, 10.548958010215042, 15.509684556297133, 50.46744223395272, 11.16114019546746, 34.72706538604534, 8.041896494173436, 13.826351888442588, 12.271570967123186, 13.655076636491335, 147.20051692002542, 32.072483477890145, 89.16469826294099, 20.827395043422108, 20.201639124318394, 43.162822641927065, 45.9438588396263, 63.26384640164011, 28.772374690943952, 88.17182924483632, 36.297212940399326, 36.60325540121192, 471.9912541142857, 60.57766822783778, 354.1949852059481, 107.59942561291174, 786.2711909289216, 130.61198914632604, 132.0640900914006, 258.41727964542474, 80.30477702405773, 62.279796951635205, 460.6772437273444, 398.28358279302313, 468.47743664956823, 375.73703024241024, 482.0108802183315, 350.7456693363127, 481.3615295478854, 646.6055467623496, 476.66238970066036, 580.1857088397339, 479.75851014270893, 955.0521989319413, 476.5166380592024, 484.9700619572347, 698.5331223442431, 479.0413440926014, 478.5424799690337, 964.3119198301852, 479.196582493438, 478.18096499916174, 988.5767892070031, 577.6562491120807, 742.9802542263257, 477.17906425735714, 649.1666209859936, 477.2801940535243, 872.2502007550548, 855.8481294696343, 646.5363455601422, 1050.7287472969904, 871.7585349123184, 44.269093246773075, 14.437098582795905, 18.486946191654482, 17.02859370775288, 14.422923042167776, 22.347551728179372, 23.487621148800905, 14.478391610017136, 29.614202029756708, 8.557978311377187, 15.741888580302442, 24.44020949068354, 49.39391374910229, 10.646011790029606, 13.183035409894954, 10.550396296368556, 9.392723522777555, 41.67798502465804, 13.140198370514925, 25.10162764783558, 9.26796920239969, 6.783877567023261, 8.033726841597682, 14.724507187367005, 11.851053653082888, 22.130723191686858, 8.08176974993504, 10.546254094300991, 39.98604733611993, 14.420465602706598, 52.93236588591713, 33.84782331243315, 53.35733232958659, 29.174373874211128, 29.613956336797987, 86.71800722637124, 29.151046850653263, 29.181004102930135, 44.4796438747904, 29.24761863651079, 36.61643076917474, 59.64505161364967, 45.21593432261348, 52.25882122783998, 166.9673469949358, 408.9927127055604, 510.1425567252199, 115.95222774332912, 453.4375852123611, 199.9409886623962, 883.5609810678769, 206.85819893241492, 498.4664294982562, 786.2711909289216, 294.434862536344, 207.30627514627037, 531.6789221061523, 1050.7287472969904, 383.7510505174475, 871.7585349123184, 722.0428899283573, 214.13738151741845, 354.1949852059481, 427.3667917041671, 304.388536936971, 988.5767892070031, 872.2502007550548, 855.8481294696343, 460.6772437273444, 749.8203209788303, 447.4320069126359, 547.5239436893722, 433.31699860957724, 391.5583952359508, 677.8456674632639, 556.0749853125877, 763.6623130970818, 666.7907145300455, 487.57852428350515, 695.3785528139115, 650.3604014736123, 718.3074970513619, 744.1120699712196, 659.7946513347143, 964.3119198301852, 955.0521989319413, 713.6822122808941, 29.044170135393394, 42.955832383892144, 20.934985579563104, 14.616502502889198, 21.486839638265298, 11.331737482211897, 9.60857834044046, 19.015548392016402, 30.386780296524655, 18.196600664036243, 12.60840088875055, 12.55177864342077, 9.525226557011102, 18.247136869928624, 11.02566381234528, 10.46864667960245, 9.214470537382875, 11.180444209935215, 9.158563212052098, 12.228754224588545, 8.022162666891077, 11.072173592353842, 8.091465332175943, 8.713318014389403, 12.507567631225436, 9.54273606510723, 13.275790501286346, 12.587807230488718, 33.83830495762591, 14.822634054753683, 15.082555295607168, 57.646764000247494, 30.516832426222845, 119.33098041319897, 55.50089182588129, 25.839986690611546, 56.81127948620174, 26.333656232093304, 154.52195319679714, 41.927724951982064, 34.7341247327037, 67.71940931870215, 38.82701770470952, 18.0278314157665, 44.267187917019235, 49.966839847636614, 42.532929313437556, 27.089012484031915, 28.71144949828842, 62.079883278327166, 32.51436142581697, 206.85819893241492, 955.0521989319413, 44.1945535052606, 240.06912298395838, 964.3119198301852, 477.41706427610825, 115.8731966148281, 479.7865399638706, 476.63232563929984, 477.22499954660634, 478.5424799690337, 477.17906425735714, 479.0268143320725, 477.5076556305355, 477.2801940535243, 479.196582493438, 484.9700619572347, 473.4964817673054, 479.0413440926014, 478.18096499916174, 547.9550101091745, 558.5383415246492, 477.24592371299764, 481.3615295478854, 474.2076922945537, 577.6562491120807, 409.834269291739, 482.0108802183315, 479.75851014270893, 476.5166380592024, 871.7585349123184, 770.0910937154996, 866.3473102174482, 1050.7287472969904, 744.1120699712196, 122.90107821132689, 31.24182231303266, 18.61819123245861, 13.38956005488531, 43.66621456222981, 15.14259443787843, 12.68145598849066, 12.320814767721673, 10.385558319692151, 11.017777712814633, 9.04859297622394, 10.02878822713675, 247.91403187878387, 10.101816374169747, 8.973130641348417, 10.158855773665296, 13.98793401232309, 7.456737959478955, 7.585505586271306, 28.236291702349543, 15.944412922035449, 15.676868146139151, 10.085463304097757, 22.593274561779648, 16.205299863617036, 7.878126804077663, 9.652620328407396, 6.7137722644200455, 8.852873369549501, 8.958720697955227, 77.41907793962619, 74.38042853858633, 72.14459027317332, 45.188073107704675, 15.461376849738608, 13.386567080108666, 143.01865010733889, 316.4277802247668, 75.00061758331113, 46.6762472380109, 308.56911560899727, 41.197895286548246, 49.396983916722505, 225.8286481443831, 28.05709422063415, 21.846345904155964, 188.15801042864055, 245.25257289994775, 70.07919181261946, 206.78901839043044, 126.11051755134523, 191.22920940244103, 72.5958957502558, 666.7907145300455, 202.58881812147158, 168.3585098617424, 130.49295417528424, 510.1425567252199, 749.8203209788303, 1050.7287472969904, 650.3604014736123, 581.7404378118408, 686.650289170514, 872.2502007550548, 763.6623130970818, 596.1283292430971, 556.0749853125877, 542.238389458352, 388.9385628512581, 652.5596446957386, 562.4834569274561, 672.2590169681444, 659.7946513347143, 447.4320069126359, 649.1666209859936, 617.0320714227256, 988.5767892070031, 866.3473102174482, 742.9802542263257, 855.8481294696343, 41.17318116881575, 40.129745568476295, 20.303970750324037, 37.19206275323329, 31.32510165695772, 15.96705513022146, 26.135720551552996, 12.720983191129683, 11.70748141765278, 32.74129021774723, 16.164010619299173, 11.908225989320757, 13.582037188450743, 11.761699885562619, 12.653656894346785, 30.76406495790622, 11.566449993449604, 11.7910703542115, 14.37330030227318, 18.47783100975551, 51.73459072956248, 12.68985853674217, 12.580467880763637, 29.32348389874269, 10.181351757800758, 10.165308637457134, 14.253445069985007, 10.149124802885098, 8.53395685391681, 18.404935826871153, 32.42181451521508, 30.277437384662946, 37.540270406923035, 43.617082151015566, 33.648642214909515, 77.31157701119389, 48.81159304848711, 125.0125694215069, 38.18741802169159, 45.54778103099891, 49.447904783044144, 27.63657265646102, 85.45084057311564, 35.04379811790556, 33.74824689090771, 286.64832681581606, 44.24256053492324, 104.3181986158617, 119.9715313841941, 718.3074970513619, 45.06916236716371, 240.5928675351347, 87.8312185813665, 89.35761795627307, 584.1364502249436, 393.8360301543495, 729.489191165199, 498.2505682938794, 136.29621372112308, 644.2721040649797, 675.7277913864448, 374.9597811353467, 343.680066389378, 770.0910937154996, 586.563710287473, 713.6822122808941, 363.708132656772, 463.6434778530539, 333.92507987414575, 308.84966675331566, 744.1120699712196, 570.429975648066, 511.8135397689775, 964.3119198301852, 955.0521989319413, 385.6048343769369, 487.57852428350515, 866.3473102174482, 872.2502007550548, 667.3635533363426, 1050.7287472969904, 686.650289170514, 547.9550101091745, 22.38782266963256, 15.068857857180696, 12.25795944153098, 13.715546136736167, 47.08186858539783, 13.394065691634136, 37.051124882195296, 43.98440636596867, 13.457590834963712, 16.39308287150551, 13.42140617869483, 12.04436240086353, 31.082736841884184, 14.388511257853049, 15.329798797646053, 15.03773771040081, 20.12278473519394, 14.863540880499203, 8.181367782088735, 8.120433586707145, 10.870504420630857, 11.837619075061609, 9.657733804062453, 10.349529916473573, 6.947197309324177, 8.320601002147356, 8.198838666340302, 12.201105078983957, 40.15744262726095, 61.03945894257094, 69.94604859814642, 38.174927227199255, 13.624544801433442, 18.069616516625338, 13.34617054969032, 16.390322148039814, 102.34263880702014, 189.82875486671415, 15.371700060051293, 127.99780855630627, 54.29214055788968, 66.74275377971534, 30.079189770913864, 60.493106677148276, 749.8203209788303, 278.2294272505413, 666.7907145300455, 57.46858726842444, 454.0033591753695, 60.02522642262764, 63.711766878050696, 96.29335480237405, 133.53162402298676, 96.26986006793622, 88.97007078632488, 233.20534011187704, 115.61897296235281, 96.32981449904608, 329.8188398105094, 96.39699684118409, 96.32419439241283, 175.3141636484316, 1050.7287472969904, 102.58477954640105, 675.7277913864448, 489.15018113521876, 547.9550101091745, 650.3604014736123, 489.72266218011566, 677.8456674632639, 446.77520467371016, 855.8481294696343, 744.1120699712196, 327.88937627170776, 988.5767892070031, 472.6097774741908, 380.3106057842983, 652.5596446957386, 498.2505682938794, 572.6965830360875, 667.3635533363426, 770.0910937154996, 570.429975648066, 866.3473102174482, 562.4834569274561, 713.6822122808941], \"Category\": [\"Default\", \"Default\", \"Default\", \"Default\", \"Default\", \"Default\", \"Default\", \"Default\", \"Default\", \"Default\", \"Default\", \"Default\", \"Default\", \"Default\", \"Default\", \"Default\", \"Default\", \"Default\", \"Default\", \"Default\", \"Default\", \"Default\", \"Default\", \"Default\", \"Default\", \"Default\", \"Default\", \"Default\", \"Default\", \"Default\", \"Topic1\", \"Topic1\", \"Topic1\", \"Topic1\", \"Topic1\", \"Topic1\", \"Topic1\", \"Topic1\", \"Topic1\", \"Topic1\", \"Topic1\", \"Topic1\", \"Topic1\", \"Topic1\", \"Topic1\", \"Topic1\", \"Topic1\", \"Topic1\", \"Topic1\", \"Topic1\", \"Topic1\", \"Topic1\", \"Topic1\", \"Topic1\", \"Topic1\", \"Topic1\", \"Topic1\", \"Topic1\", \"Topic1\", \"Topic1\", \"Topic1\", \"Topic1\", \"Topic1\", \"Topic1\", \"Topic1\", \"Topic1\", \"Topic1\", \"Topic1\", \"Topic1\", \"Topic1\", \"Topic1\", \"Topic1\", \"Topic1\", \"Topic1\", \"Topic1\", \"Topic1\", \"Topic1\", \"Topic1\", \"Topic1\", \"Topic1\", \"Topic1\", \"Topic1\", \"Topic1\", \"Topic1\", \"Topic1\", \"Topic1\", \"Topic1\", \"Topic1\", \"Topic1\", \"Topic1\", \"Topic1\", \"Topic1\", \"Topic1\", \"Topic1\", \"Topic1\", \"Topic1\", \"Topic1\", \"Topic1\", \"Topic1\", \"Topic1\", \"Topic1\", \"Topic1\", \"Topic1\", \"Topic1\", \"Topic1\", \"Topic1\", \"Topic1\", \"Topic1\", \"Topic1\", \"Topic1\", \"Topic1\", \"Topic2\", \"Topic2\", \"Topic2\", \"Topic2\", \"Topic2\", \"Topic2\", \"Topic2\", \"Topic2\", \"Topic2\", \"Topic2\", \"Topic2\", \"Topic2\", \"Topic2\", \"Topic2\", \"Topic2\", \"Topic2\", \"Topic2\", \"Topic2\", \"Topic2\", \"Topic2\", \"Topic2\", \"Topic2\", \"Topic2\", \"Topic2\", \"Topic2\", \"Topic2\", \"Topic2\", \"Topic2\", \"Topic2\", \"Topic2\", \"Topic2\", \"Topic2\", \"Topic2\", \"Topic2\", \"Topic2\", \"Topic2\", \"Topic2\", \"Topic2\", \"Topic2\", \"Topic2\", \"Topic2\", \"Topic2\", \"Topic2\", \"Topic2\", \"Topic2\", \"Topic2\", \"Topic2\", \"Topic2\", \"Topic2\", \"Topic2\", \"Topic2\", \"Topic2\", \"Topic2\", \"Topic2\", \"Topic2\", \"Topic2\", \"Topic2\", \"Topic2\", \"Topic2\", \"Topic2\", \"Topic2\", \"Topic2\", \"Topic2\", \"Topic2\", \"Topic2\", \"Topic2\", \"Topic2\", \"Topic2\", \"Topic2\", \"Topic2\", \"Topic2\", \"Topic2\", \"Topic2\", \"Topic2\", \"Topic2\", \"Topic2\", \"Topic2\", \"Topic2\", \"Topic2\", \"Topic2\", \"Topic2\", \"Topic2\", \"Topic2\", \"Topic3\", \"Topic3\", \"Topic3\", \"Topic3\", \"Topic3\", \"Topic3\", \"Topic3\", \"Topic3\", \"Topic3\", \"Topic3\", \"Topic3\", \"Topic3\", \"Topic3\", \"Topic3\", \"Topic3\", \"Topic3\", \"Topic3\", \"Topic3\", \"Topic3\", \"Topic3\", \"Topic3\", \"Topic3\", \"Topic3\", \"Topic3\", \"Topic3\", \"Topic3\", \"Topic3\", \"Topic3\", \"Topic3\", \"Topic3\", \"Topic3\", \"Topic3\", \"Topic3\", \"Topic3\", \"Topic3\", \"Topic3\", \"Topic3\", \"Topic3\", \"Topic3\", \"Topic3\", \"Topic3\", \"Topic3\", \"Topic3\", \"Topic3\", \"Topic3\", \"Topic3\", \"Topic3\", \"Topic3\", \"Topic3\", \"Topic3\", \"Topic3\", \"Topic3\", \"Topic3\", \"Topic3\", \"Topic3\", \"Topic3\", \"Topic3\", \"Topic3\", \"Topic3\", \"Topic3\", \"Topic3\", \"Topic3\", \"Topic3\", \"Topic3\", \"Topic3\", \"Topic3\", \"Topic3\", \"Topic3\", \"Topic3\", \"Topic3\", \"Topic3\", \"Topic3\", \"Topic3\", \"Topic3\", \"Topic3\", \"Topic3\", \"Topic3\", \"Topic3\", \"Topic3\", \"Topic3\", \"Topic3\", \"Topic3\", \"Topic3\", \"Topic3\", \"Topic3\", \"Topic3\", \"Topic3\", \"Topic4\", \"Topic4\", \"Topic4\", \"Topic4\", \"Topic4\", \"Topic4\", \"Topic4\", \"Topic4\", \"Topic4\", \"Topic4\", \"Topic4\", \"Topic4\", \"Topic4\", \"Topic4\", \"Topic4\", \"Topic4\", \"Topic4\", \"Topic4\", \"Topic4\", \"Topic4\", \"Topic4\", \"Topic4\", \"Topic4\", \"Topic4\", \"Topic4\", \"Topic4\", \"Topic4\", \"Topic4\", \"Topic4\", \"Topic4\", \"Topic4\", \"Topic4\", \"Topic4\", \"Topic4\", \"Topic4\", \"Topic4\", \"Topic4\", \"Topic4\", \"Topic4\", \"Topic4\", \"Topic4\", \"Topic4\", \"Topic4\", \"Topic4\", \"Topic4\", \"Topic4\", \"Topic4\", \"Topic4\", \"Topic4\", \"Topic4\", \"Topic4\", \"Topic4\", \"Topic4\", \"Topic4\", \"Topic4\", \"Topic4\", \"Topic4\", \"Topic4\", \"Topic4\", \"Topic4\", \"Topic4\", \"Topic4\", \"Topic4\", \"Topic4\", \"Topic4\", \"Topic4\", \"Topic4\", \"Topic4\", \"Topic4\", \"Topic4\", \"Topic4\", \"Topic4\", \"Topic4\", \"Topic4\", \"Topic4\", \"Topic4\", \"Topic4\", \"Topic4\", \"Topic4\", \"Topic4\", \"Topic4\", \"Topic4\", \"Topic4\", \"Topic4\", \"Topic4\", \"Topic4\", \"Topic5\", \"Topic5\", \"Topic5\", \"Topic5\", \"Topic5\", \"Topic5\", \"Topic5\", \"Topic5\", \"Topic5\", \"Topic5\", \"Topic5\", \"Topic5\", \"Topic5\", \"Topic5\", \"Topic5\", \"Topic5\", \"Topic5\", \"Topic5\", \"Topic5\", \"Topic5\", \"Topic5\", \"Topic5\", \"Topic5\", \"Topic5\", \"Topic5\", \"Topic5\", \"Topic5\", \"Topic5\", \"Topic5\", \"Topic5\", \"Topic5\", \"Topic5\", \"Topic5\", \"Topic5\", \"Topic5\", \"Topic5\", \"Topic5\", \"Topic5\", \"Topic5\", \"Topic5\", \"Topic5\", \"Topic5\", \"Topic5\", \"Topic5\", \"Topic5\", \"Topic5\", \"Topic5\", \"Topic5\", \"Topic5\", \"Topic5\", \"Topic5\", \"Topic5\", \"Topic5\", \"Topic5\", \"Topic5\", \"Topic5\", \"Topic5\", \"Topic5\", \"Topic5\", \"Topic5\", \"Topic5\", \"Topic5\", \"Topic5\", \"Topic5\", \"Topic5\", \"Topic5\", \"Topic5\", \"Topic5\", \"Topic5\", \"Topic5\", \"Topic5\", \"Topic5\", \"Topic5\", \"Topic5\", \"Topic5\", \"Topic5\", \"Topic5\", \"Topic5\", \"Topic5\", \"Topic5\", \"Topic6\", \"Topic6\", \"Topic6\", \"Topic6\", \"Topic6\", \"Topic6\", \"Topic6\", \"Topic6\", \"Topic6\", \"Topic6\", \"Topic6\", \"Topic6\", \"Topic6\", \"Topic6\", \"Topic6\", \"Topic6\", \"Topic6\", \"Topic6\", \"Topic6\", \"Topic6\", \"Topic6\", \"Topic6\", \"Topic6\", \"Topic6\", \"Topic6\", \"Topic6\", \"Topic6\", \"Topic6\", \"Topic6\", \"Topic6\", \"Topic6\", \"Topic6\", \"Topic6\", \"Topic6\", \"Topic6\", \"Topic6\", \"Topic6\", \"Topic6\", \"Topic6\", \"Topic6\", \"Topic6\", \"Topic6\", \"Topic6\", \"Topic6\", \"Topic6\", \"Topic6\", \"Topic6\", \"Topic6\", \"Topic6\", \"Topic6\", \"Topic6\", \"Topic6\", \"Topic6\", \"Topic6\", \"Topic6\", \"Topic6\", \"Topic6\", \"Topic6\", \"Topic6\", \"Topic6\", \"Topic6\", \"Topic6\", \"Topic6\", \"Topic6\", \"Topic6\", \"Topic6\", \"Topic6\", \"Topic6\", \"Topic6\", \"Topic6\", \"Topic6\", \"Topic6\", \"Topic6\", \"Topic6\", \"Topic6\", \"Topic6\", \"Topic6\", \"Topic6\", \"Topic6\", \"Topic6\", \"Topic6\", \"Topic6\", \"Topic6\", \"Topic7\", \"Topic7\", \"Topic7\", \"Topic7\", \"Topic7\", \"Topic7\", \"Topic7\", \"Topic7\", \"Topic7\", \"Topic7\", \"Topic7\", \"Topic7\", \"Topic7\", \"Topic7\", \"Topic7\", \"Topic7\", \"Topic7\", \"Topic7\", \"Topic7\", \"Topic7\", \"Topic7\", \"Topic7\", \"Topic7\", \"Topic7\", \"Topic7\", \"Topic7\", \"Topic7\", \"Topic7\", \"Topic7\", \"Topic7\", \"Topic7\", \"Topic7\", \"Topic7\", \"Topic7\", \"Topic7\", \"Topic7\", \"Topic7\", \"Topic7\", \"Topic7\", \"Topic7\", \"Topic7\", \"Topic7\", \"Topic7\", \"Topic7\", \"Topic7\", \"Topic7\", \"Topic7\", \"Topic7\", \"Topic7\", \"Topic7\", \"Topic7\", \"Topic7\", \"Topic7\", \"Topic7\", \"Topic7\", \"Topic7\", \"Topic7\", \"Topic7\", \"Topic7\", \"Topic7\", \"Topic7\", \"Topic7\", \"Topic7\", \"Topic7\", \"Topic7\", \"Topic7\", \"Topic7\", \"Topic7\", \"Topic7\", \"Topic7\", \"Topic7\", \"Topic7\", \"Topic7\", \"Topic7\", \"Topic7\", \"Topic7\", \"Topic7\", \"Topic7\", \"Topic7\", \"Topic7\", \"Topic7\", \"Topic7\", \"Topic7\", \"Topic7\", \"Topic7\", \"Topic7\"], \"logprob\": [30.0, 29.0, 28.0, 27.0, 26.0, 25.0, 24.0, 23.0, 22.0, 21.0, 20.0, 19.0, 18.0, 17.0, 16.0, 15.0, 14.0, 13.0, 12.0, 11.0, 10.0, 9.0, 8.0, 7.0, 6.0, 5.0, 4.0, 3.0, 2.0, 1.0, -7.4867, -7.4475, -7.9876, -8.3792, -7.9111, -8.2511, -6.0682, -8.5392, -7.338, -7.3096, -8.5789, -8.4288, -8.8778, -7.8368, -8.1415, -8.8077, -9.1014, -9.0111, -8.3467, -9.057, -9.1522, -8.6389, -8.6678, -8.9739, -9.1571, -8.2853, -9.2568, -9.2702, -9.2689, -9.2673, -6.7066, -7.0067, -6.9919, -6.0662, -7.081, -8.0314, -6.679, -8.1981, -7.0255, -7.8515, -7.1106, -7.594, -7.8444, -6.7941, -7.1673, -6.9456, -7.4875, -6.1906, -7.7332, -7.3767, -5.8759, -5.8799, -6.0514, -5.859, -6.2175, -5.8922, -5.8711, -5.9082, -5.906, -5.9108, -6.3176, -6.0391, -6.0042, -5.9352, -5.9434, -5.9601, -6.3861, -6.3632, -6.3666, -6.0224, -6.3741, -6.4101, -6.4155, -6.4056, -6.4192, -6.3224, -6.3083, -6.4111, -6.1775, -6.2475, -6.2953, -7.7176, -8.6712, -8.6955, -9.0756, -9.1448, -8.7932, -9.2977, -9.113, -9.319, -9.1693, -8.6564, -8.275, -9.1383, -9.489, -8.3958, -9.209, -9.6843, -9.4957, -9.481, -9.4869, -9.3752, -9.4303, -9.0449, -7.8654, -9.3754, -8.2405, -9.7037, -9.164, -9.286, -9.18, -6.845, -8.3444, -7.3613, -8.7802, -8.8098, -8.097, -8.0557, -7.7623, -8.5041, -7.501, -8.3061, -8.3156, -6.0961, -7.8894, -6.4356, -7.4468, -5.8231, -7.2994, -7.3046, -6.7856, -7.7173, -7.9178, -6.3835, -6.5323, -6.4162, -6.5811, -6.4078, -6.6542, -6.4267, -6.2359, -6.4535, -6.3185, -6.4706, -6.0208, -6.4973, -6.4885, -6.2479, -6.5142, -6.5154, -6.1063, -6.5403, -6.5447, -6.1436, -6.4521, -6.3149, -6.5624, -6.4236, -6.5728, -6.3927, -6.3996, -6.4834, -6.3884, -6.4479, -7.7286, -8.8565, -8.6216, -8.7081, -8.8811, -8.4463, -8.4015, -8.8943, -8.1817, -9.4274, -8.8256, -8.3876, -7.6846, -9.2242, -9.0112, -9.2417, -9.3616, -7.8734, -9.0284, -8.385, -9.3872, -9.7041, -9.5351, -8.9321, -9.1522, -8.5312, -9.5417, -9.2767, -7.944, -8.97, -7.7232, -8.1679, -7.7449, -8.3177, -8.3043, -7.3254, -8.3481, -8.3543, -8.0067, -8.3679, -8.19, -7.8036, -8.0616, -7.9706, -7.1201, -6.5131, -6.403, -7.4297, -6.5133, -7.064, -6.0723, -7.0584, -6.5816, -6.3023, -6.9131, -7.1385, -6.5808, -6.1926, -6.7928, -6.3142, -6.4285, -7.1383, -6.8558, -6.7625, -6.9492, -6.3229, -6.3975, -6.4081, -6.733, -6.5071, -6.7609, -6.6696, -6.7833, -6.8359, -6.6131, -6.7094, -6.5857, -6.6487, -6.7897, -6.6807, -6.7161, -6.691, -6.6892, -6.7226, -6.6798, -6.6965, -6.7667, -7.8903, -7.5062, -8.2394, -8.6287, -8.2556, -8.9002, -9.0687, -8.4037, -7.9365, -8.4516, -8.8209, -8.8316, -9.1144, -8.4654, -8.9759, -9.0285, -9.1613, -8.9682, -9.1686, -8.8834, -9.3072, -8.9851, -9.2993, -9.2281, -8.8671, -9.1428, -8.814, -8.8682, -7.883, -8.7194, -8.7025, -7.4044, -8.0193, -6.7282, -7.4609, -8.1939, -7.4549, -8.1764, -6.5725, -7.7817, -7.9632, -7.3887, -7.8794, -8.5524, -7.7896, -7.691, -7.8264, -8.2159, -8.175, -7.5707, -8.0803, -6.6644, -5.5984, -7.8599, -6.6482, -5.6768, -6.2088, -7.1863, -6.2196, -6.2291, -6.2423, -6.256, -6.265, -6.2756, -6.2819, -6.2941, -6.3038, -6.2975, -6.3232, -6.3452, -6.3517, -6.2736, -6.2679, -6.3596, -6.3671, -6.3808, -6.3, -6.4814, -6.4263, -6.4286, -6.4383, -6.3033, -6.3504, -6.385, -6.3644, -6.4263, -6.3549, -7.7429, -8.3014, -8.633, -7.4581, -8.5211, -8.7004, -8.7327, -8.914, -8.8581, -9.0626, -8.964, -5.7584, -8.959, -9.0791, -8.9608, -8.6417, -9.2769, -9.2621, -7.9511, -8.524, -8.5439, -8.9919, -8.1877, -8.5235, -9.2489, -9.0489, -9.4141, -9.1394, -9.1286, -7.0152, -7.0949, -7.1389, -7.6065, -8.6157, -8.7503, -6.6314, -5.9346, -7.2363, -7.6624, -6.0499, -7.8004, -7.6603, -6.4431, -8.1492, -8.3464, -6.7536, -6.5707, -7.5178, -6.7814, -7.175, -6.9256, -7.5512, -6.1325, -6.8987, -7.0393, -7.2001, -6.394, -6.2009, -6.0598, -6.3749, -6.4463, -6.4125, -6.3079, -6.4202, -6.532, -6.5773, -6.5878, -6.7487, -6.5604, -6.6215, -6.5612, -6.5783, -6.7119, -6.6521, -6.6888, -6.6139, -6.655, -6.7084, -6.7131, -7.44, -7.4682, -8.1853, -7.591, -7.7687, -8.443, -7.9613, -8.6845, -8.7689, -7.741, -8.451, -8.7607, -8.6319, -8.7782, -8.7057, -7.8199, -8.7998, -8.7814, -8.5846, -8.3395, -7.3128, -8.7246, -8.7359, -7.8925, -8.9542, -8.9598, -8.6232, -8.9646, -9.1437, -8.3753, -7.8153, -7.8853, -7.6987, -7.5594, -7.8369, -7.0873, -7.5274, -6.7089, -7.7512, -7.6069, -7.5425, -8.0439, -7.1085, -7.8796, -7.9116, -6.2911, -7.721, -7.0943, -7.0086, -5.7669, -7.7148, -6.5841, -7.2612, -7.2553, -6.0401, -6.347, -5.9912, -6.2696, -7.0369, -6.2095, -6.205, -6.5176, -6.5708, -6.1731, -6.3269, -6.3317, -6.6557, -6.5521, -6.7086, -6.7528, -6.4203, -6.5366, -6.5929, -6.3682, -6.4291, -6.7208, -6.6708, -6.5208, -6.5622, -6.6369, -6.5465, -6.6403, -6.6885, -7.9208, -8.3412, -8.5549, -8.4555, -7.2243, -8.4836, -7.4666, -7.2995, -8.4982, -8.305, -8.5064, -8.6178, -7.6715, -8.4445, -8.3816, -8.4037, -8.1131, -8.4241, -9.0255, -9.0393, -8.75, -8.6654, -8.8705, -8.8089, -9.2096, -9.0318, -9.0468, -8.6496, -7.4586, -7.0421, -6.9234, -7.5243, -8.5452, -8.279, -8.5696, -8.3792, -6.6819, -6.1662, -8.4566, -6.7174, -7.4254, -7.3084, -7.9393, -7.4344, -5.6523, -6.3867, -5.7902, -7.5127, -6.1332, -7.4894, -7.4548, -7.19, -6.981, -7.1939, -7.2468, -6.6346, -7.0989, -7.2128, -6.4877, -7.2171, -7.2298, -6.9068, -6.0824, -7.2008, -6.3978, -6.5357, -6.5417, -6.4848, -6.6048, -6.5373, -6.6806, -6.4622, -6.5293, -6.7951, -6.4774, -6.7236, -6.8046, -6.6711, -6.7389, -6.7199, -6.6946, -6.6758, -6.7299, -6.6911, -6.7478, -6.7345], \"loglift\": [30.0, 29.0, 28.0, 27.0, 26.0, 25.0, 24.0, 23.0, 22.0, 21.0, 20.0, 19.0, 18.0, 17.0, 16.0, 15.0, 14.0, 13.0, 12.0, 11.0, 10.0, 9.0, 8.0, 7.0, 6.0, 5.0, 4.0, 3.0, 2.0, 1.0, 1.539, 1.5386, 1.5326, 1.5253, 1.5233, 1.5204, 1.5201, 1.5181, 1.5125, 1.509, 1.5068, 1.5012, 1.5002, 1.499, 1.4985, 1.4974, 1.4944, 1.4908, 1.4874, 1.4862, 1.4858, 1.4858, 1.4847, 1.4846, 1.4833, 1.4832, 1.4821, 1.4767, 1.4767, 1.4761, 1.4736, 1.4714, 1.4675, 1.4544, 1.4605, 1.4719, 1.3968, 1.4571, 1.3982, 1.4306, 1.3841, 1.3991, 1.4177, 1.2805, 1.3185, 1.2609, 1.3417, 1.0848, 1.3737, 1.3053, 0.9421, 0.9411, 0.981, 0.9307, 1.0201, 0.9271, 0.9199, 0.9114, 0.9094, 0.8995, 1.0174, 0.9235, 0.9041, 0.8756, 0.8705, 0.8518, 1.0155, 0.9921, 0.99, 0.7901, 0.9655, 0.9849, 0.9826, 0.9724, 0.975, 0.8778, 0.8367, 0.9557, 0.3569, 0.3066, 0.1268, 1.6318, 1.6106, 1.6077, 1.6017, 1.5965, 1.5944, 1.5828, 1.5726, 1.5707, 1.5703, 1.5694, 1.5652, 1.5527, 1.5496, 1.5484, 1.5483, 1.548, 1.5444, 1.539, 1.5357, 1.5325, 1.532, 1.532, 1.5317, 1.5306, 1.5304, 1.53, 1.5278, 1.5251, 1.5243, 1.4816, 1.506, 1.4666, 1.5019, 1.5028, 1.4564, 1.4353, 1.4087, 1.4548, 1.3381, 1.4205, 1.4027, 1.0653, 1.325, 1.013, 1.1932, 0.828, 1.1467, 1.1305, 0.9782, 1.2152, 1.269, 0.8022, 0.7989, 0.7527, 0.8084, 0.7326, 0.8041, 0.715, 0.6108, 0.6981, 0.6365, 0.6745, 0.4358, 0.6546, 0.6458, 0.5215, 0.6324, 0.6322, 0.3406, 0.6059, 0.6036, 0.2785, 0.5073, 0.3928, 0.588, 0.4191, 0.5775, 0.1546, 0.1666, 0.3633, -0.0273, 0.0999, 1.7995, 1.7921, 1.7797, 1.7754, 1.7685, 1.7653, 1.7604, 1.7514, 1.7484, 1.7441, 1.7365, 1.7345, 1.734, 1.729, 1.7283, 1.7205, 1.7168, 1.715, 1.7143, 1.7104, 1.7046, 1.6998, 1.6996, 1.6968, 1.6937, 1.6902, 1.6871, 1.6859, 1.6858, 1.6798, 1.6262, 1.6285, 1.5964, 1.6273, 1.6259, 1.5303, 1.5978, 1.5905, 1.5166, 1.5746, 1.5278, 1.4264, 1.4453, 1.3915, 1.0805, 0.7916, 0.6807, 1.1355, 0.6882, 0.9563, 0.4621, 0.928, 0.5252, 0.3488, 0.7202, 0.8456, 0.4616, 0.1685, 0.5756, 0.2337, 0.3078, 0.8135, 0.5927, 0.4982, 0.6508, 0.0992, 0.1498, 0.1581, 0.4527, 0.1915, 0.4539, 0.3433, 0.4636, 0.5124, 0.1864, 0.2881, 0.0945, 0.1672, 0.3392, 0.0933, 0.1248, 0.0505, 0.017, 0.1038, -0.2328, -0.2399, -0.0188, 2.0593, 2.052, 2.0376, 2.0076, 1.9953, 1.9906, 1.987, 1.9694, 1.9678, 1.9655, 1.9631, 1.9569, 1.95, 1.9489, 1.9422, 1.9415, 1.9363, 1.936, 1.9351, 1.9312, 1.929, 1.9288, 1.9283, 1.9254, 1.9249, 1.9198, 1.9185, 1.9174, 1.9138, 1.9028, 1.9024, 1.8597, 1.8808, 1.8083, 1.841, 1.8726, 1.8238, 1.8711, 1.7056, 1.8008, 1.8074, 1.7143, 1.7798, 1.8741, 1.7385, 1.716, 1.7417, 1.8033, 1.786, 1.6192, 1.7564, 1.322, 0.8582, 1.6698, 1.1893, 0.7701, 0.9412, 1.3796, 0.9254, 0.9225, 0.908, 0.8916, 0.8855, 0.871, 0.8679, 0.8561, 0.8424, 0.8368, 0.835, 0.8014, 0.7967, 0.7385, 0.7251, 0.7907, 0.7747, 0.7759, 0.6594, 0.8212, 0.7141, 0.7165, 0.7136, 0.2445, 0.3215, 0.1691, -0.0032, 0.2798, 2.1521, 2.1337, 2.0928, 2.0909, 2.0837, 2.0797, 2.0778, 2.0744, 2.0639, 2.0608, 2.0532, 2.0489, 2.0469, 2.0467, 2.045, 2.0392, 2.0385, 2.0324, 2.03, 2.0267, 2.0253, 2.0223, 2.0154, 2.0131, 2.0095, 2.0054, 2.0022, 2.0001, 1.9982, 1.9971, 1.954, 1.9143, 1.9008, 1.901, 1.9643, 1.9739, 1.724, 1.6266, 1.7646, 1.8127, 1.5365, 1.7996, 1.7582, 1.4555, 1.835, 1.888, 1.3275, 1.2454, 1.5509, 1.2053, 1.3062, 1.1393, 1.4823, 0.6834, 1.1085, 1.153, 1.247, 0.6897, 0.4976, 0.3013, 0.4659, 0.506, 0.374, 0.2394, 0.26, 0.3959, 0.4202, 0.4348, 0.6062, 0.2771, 0.3645, 0.2465, 0.2481, 0.5029, 0.1906, 0.2046, -0.1918, -0.1009, -0.0007, -0.1468, 2.1605, 2.158, 2.1223, 2.1113, 2.1053, 2.1048, 2.0937, 2.0906, 2.0893, 2.0887, 2.0846, 2.0804, 2.0777, 2.0754, 2.0747, 2.0722, 2.0705, 2.0697, 2.0684, 2.0623, 2.0594, 2.0529, 2.0503, 2.0475, 2.0436, 2.0396, 2.0381, 2.0364, 2.0306, 2.0305, 2.0242, 2.0227, 1.9943, 1.9835, 1.9655, 1.8833, 1.903, 1.7811, 1.9247, 1.8927, 1.875, 1.9554, 1.7619, 1.8822, 1.8878, 1.369, 1.8077, 1.5767, 1.5226, 0.9745, 1.7954, 1.2512, 1.5817, 1.5704, 0.9081, 0.9955, 0.7349, 0.8376, 1.3667, 0.6407, 0.5975, 0.8739, 0.9078, 0.4987, 0.6172, 0.4162, 0.7663, 0.6271, 0.7988, 0.8327, 0.2859, 0.4353, 0.4876, 0.0787, 0.0275, 0.6428, 0.4581, 0.0333, -0.0149, 0.1781, -0.1853, 0.1462, 0.3237, 2.289, 2.2645, 2.2573, 2.2444, 2.2422, 2.2399, 2.2395, 2.235, 2.2206, 2.2165, 2.2151, 2.2119, 2.2102, 2.2074, 2.207, 2.2042, 2.2034, 2.1953, 2.191, 2.1847, 2.1824, 2.1817, 2.1801, 2.1725, 2.1704, 2.1679, 2.1676, 2.1673, 2.167, 2.1647, 2.1473, 2.1519, 2.1613, 2.1452, 2.1576, 2.1425, 2.0081, 1.9061, 2.1293, 1.749, 1.8986, 1.8091, 1.9752, 1.7814, 1.0462, 1.3032, 1.0257, 1.7544, 1.067, 1.7342, 1.7092, 1.561, 1.443, 1.5573, 1.5832, 1.2318, 1.4691, 1.5378, 1.0322, 1.5328, 1.5209, 1.245, 0.2788, 1.4869, 0.4048, 0.59, 0.4705, 0.3561, 0.5197, 0.2621, 0.5357, 0.104, 0.1768, 0.7306, -0.0552, 0.4365, 0.5728, 0.1663, 0.3684, 0.2481, 0.1205, -0.004, 0.242, -0.137, 0.2382, 0.0134]}, \"token.table\": {\"Topic\": [1, 2, 3, 4, 5, 6, 7, 1, 2, 3, 4, 5, 6, 7, 1, 2, 3, 4, 2, 1, 2, 3, 4, 5, 6, 7, 3, 1, 2, 3, 4, 5, 6, 7, 6, 2, 1, 1, 3, 4, 4, 5, 1, 2, 3, 4, 5, 6, 7, 1, 2, 4, 1, 1, 3, 7, 1, 2, 3, 4, 5, 6, 7, 1, 1, 1, 2, 3, 4, 6, 7, 1, 2, 3, 4, 5, 6, 7, 3, 1, 2, 3, 4, 5, 6, 7, 1, 2, 3, 4, 5, 6, 7, 1, 3, 4, 1, 2, 3, 4, 5, 6, 7, 1, 2, 4, 6, 1, 3, 7, 1, 2, 3, 4, 5, 6, 7, 1, 2, 3, 4, 5, 6, 7, 1, 2, 3, 4, 5, 6, 7, 2, 7, 2, 1, 2, 3, 4, 5, 6, 7, 1, 2, 3, 4, 5, 6, 7, 1, 3, 4, 1, 2, 3, 4, 7, 1, 2, 3, 4, 7, 6, 1, 2, 3, 4, 5, 6, 7, 1, 4, 1, 4, 1, 2, 3, 4, 5, 6, 7, 1, 2, 3, 4, 6, 7, 1, 2, 3, 4, 5, 1, 5, 7, 3, 4, 1, 2, 5, 1, 2, 3, 4, 5, 6, 7, 1, 2, 3, 4, 5, 6, 7, 1, 3, 7, 7, 1, 2, 3, 4, 5, 6, 7, 3, 7, 7, 1, 2, 3, 4, 5, 6, 7, 1, 2, 3, 4, 5, 6, 7, 2, 7, 1, 2, 3, 4, 5, 6, 7, 2, 3, 7, 6, 1, 2, 3, 4, 5, 6, 7, 1, 2, 3, 4, 5, 6, 7, 2, 3, 1, 2, 3, 4, 5, 6, 7, 1, 2, 3, 4, 5, 6, 7, 1, 2, 3, 4, 5, 6, 7, 3, 1, 2, 3, 4, 5, 6, 7, 3, 5, 2, 1, 2, 3, 4, 5, 6, 7, 1, 2, 3, 5, 7, 2, 3, 1, 2, 3, 4, 5, 6, 7, 1, 3, 4, 6, 7, 1, 2, 3, 4, 5, 6, 7, 1, 2, 1, 2, 3, 4, 5, 6, 7, 4, 5, 1, 2, 3, 4, 5, 6, 7, 1, 2, 3, 4, 5, 6, 7, 1, 2, 3, 4, 5, 6, 7, 5, 1, 2, 4, 5, 6, 7, 1, 2, 3, 4, 5, 6, 3, 5, 7, 1, 2, 3, 4, 5, 1, 2, 3, 4, 5, 6, 7, 1, 4, 6, 1, 2, 3, 4, 5, 6, 7, 1, 2, 3, 4, 5, 6, 7, 4, 1, 3, 4, 5, 1, 2, 3, 4, 5, 6, 7, 1, 2, 3, 4, 5, 6, 7, 5, 1, 2, 3, 4, 5, 6, 7, 5, 7, 2, 4, 7, 6, 1, 2, 3, 4, 5, 6, 7, 1, 2, 3, 4, 5, 6, 7, 1, 2, 3, 4, 5, 6, 7, 5, 1, 2, 3, 4, 5, 6, 7, 1, 4, 5, 1, 2, 3, 4, 5, 6, 7, 4, 5, 1, 7, 1, 2, 3, 4, 5, 6, 7, 2, 1, 2, 3, 4, 5, 6, 7, 1, 2, 3, 4, 5, 6, 7, 7, 1, 2, 3, 4, 5, 6, 7, 1, 2, 3, 4, 5, 6, 7, 6, 7, 1, 2, 3, 4, 5, 6, 7, 5, 2, 1, 2, 3, 4, 5, 6, 4, 2, 5, 6, 2, 3, 1, 2, 3, 4, 5, 6, 7, 1, 3, 4, 6, 7, 5, 6, 2, 3, 4, 7, 2, 3, 4, 7, 1, 2, 3, 4, 5, 6, 7, 4, 1, 2, 3, 4, 5, 6, 7, 1, 4, 6, 3, 5, 1, 2, 3, 4, 5, 6, 7, 7, 1, 2, 3, 4, 5, 7, 4, 1, 2, 3, 4, 5, 6, 7, 5, 5, 7, 3, 4, 5, 1, 2, 3, 4, 5, 6, 7, 1, 2, 3, 4, 5, 6, 7, 1, 2, 3, 4, 5, 6, 7, 1, 2, 3, 4, 5, 6, 7, 1, 2, 3, 4, 5, 6, 7, 1, 2, 4, 6, 7, 4, 7, 1, 2, 3, 4, 5, 6, 1, 2, 3, 4, 5, 7, 1, 2, 3, 4, 5, 6, 7, 2, 4, 7, 1, 2, 3, 5, 6, 1, 2, 3, 5, 6, 1, 2, 3, 4, 5, 6, 7, 1, 2, 3, 4, 5, 6, 7, 1, 2, 3, 4, 5, 6, 1, 2, 3, 4, 5, 6, 7, 1, 3, 4, 1, 2, 3, 4, 5, 6, 7, 5, 1, 2, 3, 4, 5, 6, 7, 1, 2, 3, 4, 5, 6, 7, 1, 7, 1, 5, 1, 2, 3, 4, 5, 6, 7, 1, 2, 4, 7, 1, 5, 6, 1, 2, 3, 4, 5, 6, 7, 1, 2, 3, 4, 5, 6, 7, 1, 2, 3, 4, 1, 2, 3, 4, 5, 6, 7, 1, 2, 3, 4, 5, 6, 7, 1, 2, 3, 6, 1, 2, 3, 4, 6, 5, 1, 2, 3, 4, 5, 1, 2, 3, 4, 5, 6, 7, 3, 1, 2, 3, 4, 6, 7, 1, 2, 3, 4, 5, 6, 7, 1, 2, 3, 4, 5, 6, 7, 4, 5, 3, 4, 5, 6, 1, 2, 3, 4, 5, 6, 7, 5, 1, 2, 3, 4, 5, 6, 7, 2, 4, 1, 2, 3, 5, 6, 7, 1, 2, 3, 4, 5, 6, 7, 1, 5, 6, 2, 3, 7, 5, 1, 2, 3, 4, 5, 6, 7, 1, 2, 3, 4, 5, 6, 7, 1, 2, 3, 4, 5, 6, 7, 1, 2, 3, 4, 5, 6, 7, 3, 4, 1, 2, 3, 4, 5, 6, 7, 1, 2, 3, 4, 5, 6, 7, 1, 2, 3, 4, 5, 6, 7, 1, 2, 3, 4, 5, 6, 7, 1, 2, 3, 4, 5, 6, 7, 2, 1, 2, 3, 4, 5, 6, 7, 1, 2, 3, 4, 5, 6, 7, 1, 2, 3, 4, 5, 6, 7, 1, 2, 3, 4, 5, 6, 7, 1, 2, 3, 4, 5, 6, 7, 4, 7, 3, 7, 1, 2, 3, 4, 5, 6, 7, 1, 2, 3, 4, 6, 7, 1, 2, 3, 4, 5, 1, 2, 3, 4, 5, 6, 7, 4, 1, 1, 2, 3, 4, 5, 6, 7, 1, 2, 1, 2, 3, 4, 5, 6, 7, 2, 1, 2, 3, 4, 5, 6, 7, 2, 4, 5, 6, 1, 2, 3, 4, 5, 6, 7, 6, 1, 2, 3, 4, 5, 6, 7, 1, 2, 3, 4, 5, 6, 7, 2, 4, 1, 2, 6, 5, 6, 1, 2, 3, 4, 5, 6, 7, 1, 2, 3, 4, 5, 6, 7, 5, 1, 2, 3, 4, 5, 6, 7, 1, 2, 3, 4, 5, 6, 7, 1, 2, 3, 4, 5, 6, 7, 1, 2, 3, 4, 5, 6, 7, 1, 2, 3, 4, 5, 6, 7, 1, 2, 3, 4, 5, 6, 7, 1, 2, 3, 4, 5, 7, 7, 2, 3, 3, 6, 4, 2, 4, 1, 2, 3, 4, 5, 6, 7, 1, 2, 3, 4, 5, 6, 7, 2, 7, 1, 2, 3, 4, 5, 6, 7, 1, 2, 3, 4, 5, 6, 7, 1, 2, 3, 4, 5, 6, 7, 1, 2, 3, 4, 5, 6, 7, 1, 2, 3, 4, 5, 6, 7, 1, 2, 3, 4, 5, 6, 7, 1, 2, 3, 4, 5, 6, 7, 1, 1, 3, 5, 1, 2, 3, 4, 5, 1, 2, 3, 4, 5, 6, 7, 2, 1, 2, 3, 2, 1, 2, 3, 4, 5, 6, 7, 1, 2, 3, 4, 5, 6, 7, 4, 5, 1, 2, 3, 4, 5, 6, 7, 1, 2, 3, 4, 5, 7, 1, 2, 3, 4, 5, 6, 7, 1, 2, 3, 4, 5, 6, 7, 1, 2, 3, 4, 5, 6, 7, 1, 4, 5, 5, 6, 5, 6, 7, 1, 2, 3, 4, 5, 6, 7, 2, 7, 1, 7, 5, 6, 3, 6, 2, 3, 5, 6, 7, 1, 2, 3, 4, 5, 6, 7, 5, 4, 1, 2, 3, 4, 5, 6, 7, 1, 2, 3, 4, 5, 6, 7, 1, 2, 3, 4, 5, 6, 7, 1, 2, 3, 4, 5, 6, 7, 3, 5, 1, 2, 3, 5, 6, 7, 4, 7, 3, 4, 6, 7, 1, 2, 3, 4, 5, 6, 7, 2, 1, 2, 3, 4, 5, 6, 7, 3, 6, 7, 1, 2, 3, 4, 6, 7, 1, 2, 3, 4, 5, 6, 7, 1, 2, 3, 4, 5, 6, 7, 1, 2, 3, 4, 5, 6, 7, 1, 2, 3, 4, 5, 6, 7, 1, 2, 3, 4, 5, 6, 7, 1, 2, 6, 7, 1, 2, 3, 4, 5, 6, 7, 1, 2, 3, 4, 5, 6, 7, 2, 3, 1, 7, 1, 2, 3, 4, 5, 6, 7, 3, 5, 1, 4, 6, 1, 2, 3, 4, 5, 6, 7, 1, 5, 1, 2, 3, 4, 5, 6, 7, 1, 5, 1, 4, 2, 6, 2, 2, 3, 4, 5, 6, 1, 2, 3, 4, 5, 6, 7, 4, 7, 1, 2, 3, 4, 5, 6, 7, 1, 2, 3, 4, 5, 6, 7, 7, 6, 6, 1, 2, 3, 4, 5, 6, 7, 1, 2, 3, 4, 5, 6, 7, 1, 2, 4, 7, 1, 2, 3, 4, 5, 6, 7, 1, 4, 1, 2, 3, 4, 5, 6, 7, 1, 2, 3, 4, 5, 6, 7, 1, 3, 7, 7, 3, 2, 3, 4, 7, 1, 4, 5, 1, 2, 3, 4, 5, 6, 7, 5, 1, 2, 3, 4, 5, 6, 7, 3, 6, 3, 1, 2, 3, 4, 5, 7, 1, 2, 3, 4, 5, 6, 7, 7, 3, 1, 2, 3, 4, 5, 6, 7, 1, 2, 3, 4, 5, 6, 7, 1, 2, 3, 5, 6, 7, 1, 2, 3, 4, 5, 6, 7, 2, 2, 7, 1, 2, 3, 4, 5, 6, 7, 1, 2, 3, 4, 5, 6, 7, 1, 2, 3, 4, 5, 6, 7, 2, 3, 4, 7, 1, 2, 3, 4, 7, 1, 2, 3, 4, 5, 6, 7, 1, 1, 2, 3, 4, 5, 6, 7, 1, 4, 5, 1, 4, 1, 2, 3, 4, 5, 6, 7, 1, 2, 3, 4, 5, 6, 7, 6, 1, 2, 3, 4, 5, 6, 7, 1, 2, 3, 4, 5, 6, 7, 1, 2, 3, 4, 5, 6, 7, 1, 2, 3, 4, 5, 6, 7, 1, 2, 3, 4, 5, 6, 7, 7, 5, 6, 1, 2, 3, 4, 5, 6, 7, 1, 2, 3, 4, 5, 6, 7, 3, 1, 2, 3, 4, 5, 6, 7, 1, 2, 4, 5, 6, 7, 1, 2, 3, 4, 5, 6, 7, 1, 2, 3, 4, 5, 6, 7, 1, 2, 3, 4, 5, 6, 7, 1, 2, 3, 4, 5, 6, 7, 1, 2, 3, 4, 5, 6, 7, 1, 2, 3, 4, 6, 1, 2, 3, 4, 5, 6, 7, 1, 2, 3, 4, 5, 6, 7, 2, 1, 2, 3, 4, 5, 6, 7, 1, 4, 1, 3, 5, 1, 2, 3, 4, 5, 6, 7, 5, 1, 2, 3, 4, 5, 6, 7, 6, 7, 1, 2, 3, 4, 5, 6, 7, 7, 2, 1, 2, 3, 6, 1, 2, 3, 4, 5, 1, 2, 3, 4, 5, 6, 7, 1, 2, 3, 4, 5, 6, 7, 2, 3, 5, 1, 1, 2, 3, 4, 5, 6, 7, 3, 6, 1, 2, 3, 4, 5, 6, 7, 1, 2, 3, 4, 5, 6, 7, 1, 2, 3, 4, 5, 6, 7, 4, 5, 6, 7, 1, 2, 3, 4, 5, 6, 7, 1, 1, 1, 2, 3, 4, 5, 6, 7, 1, 3, 4, 5, 6, 7, 2, 3, 7, 1, 2, 3, 4, 5, 6, 7, 1, 4, 1, 3, 4, 6, 1, 2, 3, 5, 6, 7, 1, 1, 2, 3, 4, 5, 7, 1, 2, 3, 4, 6, 7, 6, 3, 5, 1, 4, 6, 5, 1, 2, 3, 4, 5, 6, 7, 1, 2, 3, 4, 5, 6, 7, 4, 5, 1, 2, 3, 4, 5, 6, 7, 1, 4, 6, 4, 6, 1, 3, 4, 6, 1, 1, 2, 3, 4, 5, 6, 7, 3, 5, 6, 7, 1, 2, 3, 4, 5, 6, 7, 1, 2, 3, 5, 6, 1, 2, 4, 5, 6, 1, 2, 3, 4, 6, 1, 2, 3, 5, 6, 1, 2, 3, 4, 5, 6, 7, 1, 2, 3, 4, 5, 6, 7, 4, 1, 2, 3, 4, 5, 6, 7, 1, 2, 3, 4, 5, 6, 7, 1, 2, 3, 4, 5, 6, 7, 3, 1, 2, 4, 5, 1, 2, 3, 3, 3, 6, 3, 1, 2, 4, 7, 1, 2, 3, 4, 5, 6, 7, 4, 4, 1, 2, 3, 4, 5, 6, 7, 1, 2, 3, 4, 5, 6, 7, 1, 3, 7, 1, 3, 7, 3, 4, 1, 2, 3, 4, 5, 6, 7, 1, 2, 3, 4, 5, 6, 7, 4, 1, 2, 2, 4, 5, 6, 7, 1, 2, 3, 4, 2, 3, 7, 2, 3, 7, 2, 3, 6, 7, 1, 2, 3, 4, 7, 1, 2, 3, 4, 5, 7, 1, 2, 3, 4, 5, 6, 7, 3, 6, 1, 2, 3, 4, 5, 7, 1, 2, 3, 4, 5, 6, 7, 5, 1, 2, 3, 4, 5, 6, 7, 2, 3, 5, 6, 7, 1, 2, 3, 4, 5, 7, 1, 2, 3, 6, 7, 4, 1, 2, 3, 4, 5, 6, 7, 5, 1, 2, 3, 4, 5, 6, 7, 4, 6, 2, 1, 2, 4, 7, 1, 2, 3, 4, 5, 6, 7, 2, 1, 3, 4, 5, 7, 1, 2, 3, 4, 5, 6, 7, 3, 4], \"Freq\": [0.5619883397011325, 0.0615511038720288, 0.08563631843064877, 0.05619883397011326, 0.11239766794022651, 0.05352269901915548, 0.06957950872490212, 0.1557190700334275, 0.05390275501157106, 0.46116801509899685, 0.1317622900282848, 0.09582712002057077, 0.023956780005142692, 0.07785953501671375, 0.944462603372876, 0.011111324745563247, 0.011111324745563247, 0.022222649491126494, 0.906178746657636, 0.159721364139605, 0.1675126501951955, 0.1298547675931748, 0.170109745547059, 0.09219688499115411, 0.18439376998230822, 0.09609252801894935, 0.8453870028989486, 0.12278203247103404, 0.12577671618983974, 0.23358533006684526, 0.053904306938502754, 0.12278203247103404, 0.2485587486608738, 0.09283519528297696, 0.8645695097167474, 0.9103684332049831, 0.9351097757068557, 0.9255131636916419, 0.04407205541388771, 0.022036027706943854, 0.8285758952684712, 0.07532508138804284, 0.8511161136698071, 0.11630158074991154, 0.01585930646589703, 0.010572870977264686, 0.005286435488632343, 0.005286435488632343, 0.005286435488632343, 0.9202568090361147, 0.030675226967870492, 0.030675226967870492, 0.9545273643049068, 0.919308555726501, 0.028728392366453158, 0.028728392366453158, 0.5830137783194117, 0.0731625133577301, 0.09145314169716262, 0.05029922793343944, 0.08688048461230449, 0.04572657084858131, 0.06858985627287197, 0.9841870405505623, 0.9198878906763208, 0.9077482849147178, 0.023275597049095327, 0.007758532349698442, 0.015517064699396885, 0.007758532349698442, 0.03103412939879377, 0.5013799841451185, 0.08231611679994484, 0.08231611679994484, 0.10027599682902372, 0.07782614679267512, 0.05986626676359625, 0.095786026821754, 0.8371258705410961, 0.5610482374589365, 0.061742150533758554, 0.0939554464644152, 0.056373267878649116, 0.09932432911952463, 0.04831994389598496, 0.0805332398266416, 0.5658054464280067, 0.0617242305194189, 0.084870816964201, 0.0617242305194189, 0.10544556047067397, 0.04629317288956418, 0.07458344521096451, 0.054955319318316403, 0.054955319318316403, 0.8792851090930625, 0.022682981822304972, 0.7145139274026066, 0.045365963644609944, 0.11341490911152485, 0.022682981822304972, 0.022682981822304972, 0.05670745455576243, 0.03086106400945611, 0.8949708562742272, 0.03086106400945611, 0.03086106400945611, 0.021239598810446198, 0.042479197620892396, 0.9133027488491866, 0.1351442990070428, 0.18368204019971313, 0.1846337606152557, 0.1227719336049896, 0.15417870731789393, 0.09326860072317039, 0.12753053568270237, 0.17539122684747646, 0.17539122684747646, 0.24693238516684185, 0.11308118573060982, 0.10385006852811106, 0.0923111720249876, 0.0923111720249876, 0.0854546690765594, 0.3209760740924426, 0.12297135306139034, 0.3126390332069246, 0.037516683984830955, 0.10004449062621587, 0.020842602213794973, 0.8679078976740617, 0.8940940941828306, 0.8814896614135037, 0.25417203328998644, 0.28652120116325747, 0.09704750361981301, 0.14172016401623488, 0.1370988543200533, 0.01848523878472629, 0.06315789918114816, 0.20450199566062652, 0.0937941483857009, 0.17682503384189513, 0.09071893040584185, 0.1814378608116837, 0.1153206742447142, 0.13684720010372753, 0.9347648874871416, 0.025263915878030854, 0.025263915878030854, 0.8831278552221885, 0.03532511420888754, 0.01766255710444377, 0.03532511420888754, 0.03532511420888754, 0.9571530064539473, 0.05534151757343209, 0.05534151757343209, 0.05534151757343209, 0.8301227636014814, 0.9715061810743856, 0.5640092320658123, 0.0618092309113219, 0.097864615609593, 0.046356923183491425, 0.10044000023089808, 0.05665846166871174, 0.07211076939654222, 0.07966998370578876, 0.8763698207636763, 0.10479174873718602, 0.8383339898974882, 0.03510790508178867, 0.105323715245366, 0.04681054010905156, 0.14043162032715467, 0.01170263502726289, 0.6553475615267218, 0.01170263502726289, 0.022188120379369985, 0.06656436113810996, 0.022188120379369985, 0.17750496303495988, 0.6656436113810995, 0.022188120379369985, 0.8085718905611472, 0.0673809908800956, 0.0112301651466826, 0.1010714863201434, 0.0112301651466826, 0.09154849093639626, 0.7323879274911701, 0.09154849093639626, 0.8585349803271284, 0.0903721031923293, 0.061708207093725397, 0.061708207093725397, 0.8639148993121556, 0.022602670096606218, 0.022602670096606218, 0.022602670096606218, 0.022602670096606218, 0.20342403086945596, 0.6780801028981865, 0.045205340193212436, 0.5216762017110302, 0.08094975543791848, 0.07645254680247857, 0.07795161634762521, 0.10043765952482478, 0.06146185135101218, 0.08244882498306512, 0.06727871965636321, 0.06727871965636321, 0.8746233555327219, 0.8973761132485959, 0.14461863320002832, 0.12358319564366056, 0.17880121922912592, 0.086771179920017, 0.14987749258912025, 0.1472480628945743, 0.170912930145488, 0.08302639581222698, 0.9132903539344969, 0.828351677764701, 0.2125342858286923, 0.1730367636835371, 0.2463893048102539, 0.10532672572041388, 0.07711420990244587, 0.0677100379631232, 0.11849256643546562, 0.1364775161879837, 0.15052667226615848, 0.14450560537551216, 0.09433004795345933, 0.0762668472815203, 0.2589058762977926, 0.1384845384848658, 0.8959658085883555, 0.08959658085883555, 0.031607434838904276, 0.03687534064538832, 0.0579469638713245, 0.15803717419452137, 0.03687534064538832, 0.031607434838904276, 0.6479524141975376, 0.022589123170551804, 0.9487431731631757, 0.022589123170551804, 0.8480994260566199, 0.0455418934703088, 0.0341564201027316, 0.0455418934703088, 0.0910837869406176, 0.0683128402054632, 0.5465027216437056, 0.1821675738812352, 0.10784148249325073, 0.2501922393843417, 0.19842832778758135, 0.09058684529433061, 0.06901854879568046, 0.20921247603690643, 0.0733322080954105, 0.8904291892616111, 0.10274182953018589, 0.1490639613756556, 0.2879180623831156, 0.17969354248024239, 0.08984677124012119, 0.05513324598825618, 0.07555296672464737, 0.1613157938174903, 0.08266867812263004, 0.43242077787221866, 0.22129769220519424, 0.06486311668083279, 0.047057555239035556, 0.1017460653816985, 0.05087303269084925, 0.09503529113639311, 0.08909558544036855, 0.2791661677131548, 0.07127646835229484, 0.36232204745749874, 0.047517645568196556, 0.0593970569602457, 0.8844499242094631, 0.23597514517877483, 0.16540313914400107, 0.310957901590722, 0.04190212858314693, 0.09042038273205391, 0.05954513009184038, 0.09703650829781395, 0.06271789402907291, 0.8780505164070207, 0.9344382639093917, 0.04251745637496535, 0.04251745637496535, 0.21790196392169742, 0.05314682046870669, 0.43048924579652414, 0.015944046140612005, 0.19664323573421474, 0.03376786230880643, 0.03376786230880643, 0.7766608331025479, 0.06753572461761286, 0.03376786230880643, 0.06352477943791845, 0.8893469121308585, 0.018892032941721468, 0.0566760988251644, 0.7934653835523016, 0.037784065883442935, 0.018892032941721468, 0.0566760988251644, 0.018892032941721468, 0.026186635593743735, 0.026186635593743735, 0.13093317796871867, 0.7594124322185684, 0.05237327118748747, 0.10835904026572019, 0.1500355942140741, 0.02500593236901235, 0.041676553948353914, 0.07501779710703704, 0.5084539581699178, 0.08335310789670783, 0.9278421412695473, 0.8704414443871148, 0.5464097538972436, 0.06765073143489682, 0.05464097538972436, 0.1118839019884832, 0.09887414594331075, 0.05203902418068986, 0.06765073143489682, 0.06467729295511648, 0.8408048084165143, 0.229716604313933, 0.20643451603887222, 0.15055750417872635, 0.06053342951515802, 0.08226337857188142, 0.21264307291222176, 0.058981290296820636, 0.16576985006519748, 0.018418872229466386, 0.03683774445893277, 0.018418872229466386, 0.055256616688399166, 0.07367548891786554, 0.6446605280313236, 0.21737356571489863, 0.21344512778029204, 0.17154178981115495, 0.10475834492284271, 0.14797116220351533, 0.06023604833063456, 0.0851161552498097, 0.890928885127324, 0.02514016049823869, 0.08380053499412898, 0.7542048149471607, 0.016760106998825797, 0.02514016049823869, 0.10056064199295477, 0.8981415414842645, 0.030342619644738666, 0.048548191431581865, 0.015171309822369333, 0.006068523928947733, 0.0030342619644738666, 0.026195203832307765, 0.10478081532923106, 0.8382465226338485, 0.9169868475698725, 0.023715177092324288, 0.03952529515387381, 0.007905059030774762, 0.015810118061549524, 0.5312435164379681, 0.08277165270279956, 0.07374201786249415, 0.06922720044234144, 0.09631610496325765, 0.052672869901781535, 0.09481116582320676, 0.054803118271557726, 0.8768498923449236, 0.054803118271557726, 0.037357677976009564, 0.6350805255921625, 0.17433583055471127, 0.037357677976009564, 0.02490511865067304, 0.04981023730134608, 0.037357677976009564, 0.14332208322514908, 0.20846848469112594, 0.2762207422157419, 0.12768694687331464, 0.052117121172781486, 0.13811037110787094, 0.052117121172781486, 0.8033679005448918, 0.01734702749309062, 0.10408216495854374, 0.7979632646821686, 0.06938810997236249, 0.012934673417090052, 0.09054271391963037, 0.012934673417090052, 0.012934673417090052, 0.025869346834180105, 0.7372763847741329, 0.11641206075381047, 0.2514420449945763, 0.18334315780854518, 0.17286640593377117, 0.09254464156050377, 0.07159113781095575, 0.10651364406020244, 0.1239748971848258, 0.8915505992006618, 0.11622401385404281, 0.2921306294169184, 0.12250639298128836, 0.29108356622904413, 0.04292959070284464, 0.11517695066616855, 0.018847137381736673, 0.8665879794767527, 0.874919589811944, 0.026989733865827762, 0.053979467731655524, 0.9176509514381439, 0.943323312333875, 0.5561899226715362, 0.048131820231190635, 0.08556768041100557, 0.048131820231190635, 0.13102551062935228, 0.050805810244034556, 0.08021970038531773, 0.06399356510325191, 0.015998391275812977, 0.015998391275812977, 0.18398149967184924, 0.03999597818953244, 0.6639332379462385, 0.007999195637906489, 0.0960251146738348, 0.35487542379460685, 0.10646262713838206, 0.2755503290640477, 0.037575044872370136, 0.11063763212420095, 0.018787522436185068, 0.8859265453232059, 0.5381094684365924, 0.05577044910967484, 0.10098973217157337, 0.08591663781760718, 0.09043856612379704, 0.054263139674278225, 0.07536547176983087, 0.035415415400202495, 0.07083083080040499, 0.8499699696048599, 0.08553206104231179, 0.4219581678087381, 0.2280854961128314, 0.059872442729618246, 0.04846816792397667, 0.10834061065359492, 0.04846816792397667, 0.05371091034109793, 0.9130854757986648, 0.07339694753653639, 0.8073664229019003, 0.5043608781939553, 0.08207055710256668, 0.09400809268112184, 0.08654713294452487, 0.09102370878648305, 0.056703293998136985, 0.08654713294452487, 0.9600079299254886, 0.18787900944450361, 0.1392317659276232, 0.0989719781895153, 0.18787900944450361, 0.16942660673120413, 0.12413434552583273, 0.0922620135664973, 0.04816971388538274, 0.6743759943953583, 0.09633942777076548, 0.01605657129512758, 0.03211314259025516, 0.0802828564756379, 0.06422628518051032, 0.8537794540021818, 0.19701499197180766, 0.20851951705045335, 0.17112981054485482, 0.1567491541965477, 0.07477941301119707, 0.10354072570781132, 0.08772200372467348, 0.20820847693356834, 0.0558608108846159, 0.10918249400174924, 0.09902598293181909, 0.060939066419580974, 0.30215620433042234, 0.16504330488636515, 0.9044547686757795, 0.06957344374429072, 0.09009382860579752, 0.3352328506262233, 0.11104588176993647, 0.29123353898153154, 0.03980890101186402, 0.10476026582069478, 0.027237669113380644, 0.8923734813792114, 0.9608435292284561, 0.8302176113294132, 0.014825314488025234, 0.029650628976050468, 0.014825314488025234, 0.044475943464075705, 0.07412657244012617, 0.9366630193481295, 0.07731770839571554, 0.019329427098928886, 0.8698242194517998, 0.8288014373365485, 0.16304290570555052, 0.10070655601383795, 0.3335904667958382, 0.11539292876585598, 0.310511881042667, 0.03147079875432436, 0.08602018326181991, 0.020980532502882905, 0.11074600824848826, 0.036915336082829424, 0.7383067216565884, 0.07383067216565885, 0.036915336082829424, 0.03192328028017386, 0.925775128125042, 0.00977109845570452, 0.25404855984831753, 0.01954219691140904, 0.71329018726643, 0.05001744691562382, 0.8502965975656049, 0.07502617037343573, 0.02500872345781191, 0.034190817803937935, 0.034190817803937935, 0.7521979916866345, 0.034190817803937935, 0.1025724534118138, 0.034190817803937935, 0.034190817803937935, 0.8398750362647858, 0.2387270291762664, 0.24884258126000652, 0.17196438542358172, 0.11329418333788914, 0.09407463437878295, 0.041473763543334416, 0.09103996875366092, 0.05910461539088629, 0.827464615472408, 0.05910461539088629, 0.074701750942997, 0.8217192603729669, 0.09220857178316914, 0.3394951961107591, 0.11106941601154466, 0.29967785829529975, 0.0419129871741678, 0.09220857178316914, 0.023052142945792286, 0.938009931107993, 0.02879013096473556, 0.05758026192947112, 0.02879013096473556, 0.7485434050831246, 0.11516052385894224, 0.02879013096473556, 0.8894056562047132, 0.11816556732674602, 0.2452830715721849, 0.12353672947796174, 0.25602539587461637, 0.08772898180319022, 0.11100401779179171, 0.05729239627963443, 0.9228125825480917, 0.9602512843012161, 0.8412853828940314, 0.8661469228390558, 0.873861491408693, 0.07944195376442663, 0.17604225641016205, 0.21760778917367252, 0.344749418803234, 0.036675470085450426, 0.11491647293441133, 0.0684608774928408, 0.04401056410254051, 0.23056843374664132, 0.20877340767108818, 0.19730234131553387, 0.15830071570664928, 0.09062142420887893, 0.055061118506660615, 0.060796651684437764, 0.07261637010883892, 0.0518688357920278, 0.0518688357920278, 0.06224260295043336, 0.30083924759376124, 0.01037376715840556, 0.4460719878114391, 0.1948404108642852, 0.18253470070443562, 0.21945183118398437, 0.059477599105939694, 0.11280234313195459, 0.1763818456245108, 0.05537569571932316, 0.18830803789112094, 0.4192992310375626, 0.11298482273467256, 0.07281244131790009, 0.03012928606257935, 0.06779089364080354, 0.107963275057576, 0.04801368572090482, 0.8642463429762869, 0.04801368572090482, 0.04801368572090482, 0.04801368572090482, 0.07492786011364164, 0.8242064612500579, 0.9611239572454018, 0.01948224237659598, 0.0032470403960993305, 0.00974112118829799, 0.0032470403960993305, 0.0032470403960993305, 0.9155191774581207, 0.035212276056081564, 0.005868712676013594, 0.02934356338006797, 0.005868712676013594, 0.005868712676013594, 0.11813452126184791, 0.044300445473192965, 0.044300445473192965, 0.6792734972556255, 0.029533630315461978, 0.059067260630923955, 0.014766815157730989, 0.12450992077383288, 0.024901984154766577, 0.8466674612620636, 0.11414287876393762, 0.11414287876393762, 0.028535719690984406, 0.028535719690984406, 0.7419287119655946, 0.0660557884932858, 0.0330278942466429, 0.0330278942466429, 0.0330278942466429, 0.8587252504127154, 0.11434085303685801, 0.21208384031030114, 0.15860182840596432, 0.14200396264254944, 0.1751996941693792, 0.07192408497479777, 0.1254060968791346, 0.22283544850588222, 0.13697224816416614, 0.09199628608041009, 0.13083916242547214, 0.13083916242547214, 0.11243990520939011, 0.17377076259633017, 0.02963116879026434, 0.05926233758052868, 0.11852467516105736, 0.02963116879026434, 0.02963116879026434, 0.7407792197566084, 0.07136597466056467, 0.1348023965810666, 0.23788658220188225, 0.007929552740062741, 0.4202662952233253, 0.023788658220188226, 0.10308418562081564, 0.06581809525337373, 0.032909047626686866, 0.8885442859205455, 0.05684685509509528, 0.19014292911118078, 0.3077571120665503, 0.06664803700804274, 0.22738742038038112, 0.019602363825894923, 0.13329607401608548, 0.9462635844725455, 0.04284834617919531, 0.06427251926879296, 0.12854503853758592, 0.021424173089597653, 0.7069977119567226, 0.021424173089597653, 0.021424173089597653, 0.08135282319418789, 0.19337966169110238, 0.18804505033410646, 0.050678807891461314, 0.18671139749485746, 0.024005751106481676, 0.2747324848852903, 0.06949989349691851, 0.9034986154599408, 0.11295767580270803, 0.7907037306189563, 0.7410581078812407, 0.12049725331402288, 0.01807458799710343, 0.024099450662804577, 0.04217403865990801, 0.04217403865990801, 0.01807458799710343, 0.952188545085206, 0.011472151145604891, 0.022944302291209782, 0.011472151145604891, 0.9468578198686937, 0.03826181099646704, 0.9182834639152089, 0.5380658425162821, 0.06462802019050316, 0.07965779232782948, 0.08566970118276, 0.08717267839649263, 0.06312504297677053, 0.08116076954156211, 0.1379815430063217, 0.1774048410081279, 0.2989600098470303, 0.14126681783980555, 0.12155516883890244, 0.09198769533754779, 0.0328527483348385, 0.17414655433185516, 0.03482931086637103, 0.03482931086637103, 0.7314155281937916, 0.038271050762517675, 0.019135525381258837, 0.6314723375815415, 0.09567762690629418, 0.019135525381258837, 0.09567762690629418, 0.11481315228755301, 0.8467629922690256, 0.02646134350840705, 0.039692015262610576, 0.02646134350840705, 0.02646134350840705, 0.02646134350840705, 0.013230671754203525, 0.026638060652210534, 0.0799141819566316, 0.05327612130442107, 0.8257798802185266, 0.15368476447263016, 0.02195496635323288, 0.06586489905969864, 0.02195496635323288, 0.746468856009918, 0.924544341290665, 0.05151052329618945, 0.025755261648094725, 0.18028683153666308, 0.7211473261466523, 0.025755261648094725, 0.07053782683204032, 0.39210733150751825, 0.11410530811065346, 0.2531063198090859, 0.04564212324426139, 0.09958281435111575, 0.02489570358777894, 0.9395960861239777, 0.02273533014586082, 0.02273533014586082, 0.02273533014586082, 0.02273533014586082, 0.02273533014586082, 0.9094132058344329, 0.205596250338826, 0.3797236868502807, 0.16993159466780516, 0.0650355485765674, 0.04615426028014461, 0.04615426028014461, 0.08601475779481496, 0.19744426356254338, 0.07404159883595376, 0.1925081569734798, 0.08391381201408094, 0.34552746123445094, 0.049361065890635845, 0.059233279068763016, 0.9308023114010016, 0.04654011557005008, 0.7149610788236102, 0.02306326060721323, 0.24216423637573892, 0.011531630303606615, 0.058189588674965716, 0.041563991910689796, 0.0789715846303106, 0.1579431692606212, 0.199507161171311, 0.3907015239604841, 0.07065878624817265, 0.8046413904585236, 0.07565175447371705, 0.1600325575405553, 0.20076811764178756, 0.07856143733809079, 0.13675509462556543, 0.2764198721155046, 0.06983238874496958, 0.05258854382657961, 0.8940052450518534, 0.029965799832008817, 0.059931599664017635, 0.1648118990760485, 0.13484609924403967, 0.014982899916004409, 0.584333096724172, 0.09602802729141532, 0.3277478322772219, 0.10229072472346415, 0.2943467793062948, 0.037576184592292956, 0.12107881701961062, 0.02087565810682942, 0.06820471970200494, 0.03410235985100247, 0.8525589962750617, 0.06505461309376233, 0.13010922618752466, 0.780655357125148, 0.8929846425311541, 0.06714592596834984, 0.03357296298417492, 0.1678648149208746, 0.06714592596834984, 0.07833691362974148, 0.5371674077467987, 0.044763950645566555, 0.24236787376628538, 0.22574836242231153, 0.21189876963566665, 0.12326137580113943, 0.113566660850488, 0.030469104130618735, 0.052628452589250536, 0.022590095442126194, 0.13554057265275718, 0.04518019088425239, 0.700292958705912, 0.04518019088425239, 0.04518019088425239, 0.022590095442126194, 0.09443531748079109, 0.36305133164837466, 0.12801231925173903, 0.25182751328210956, 0.037774126992316436, 0.10282956792352808, 0.020985626106842466, 0.06746439238168304, 0.8095727085801965, 0.29992270559494316, 0.1765582719728722, 0.24672886724414192, 0.05885275732429073, 0.0848837846023424, 0.07017059527126972, 0.06224810870838443, 0.23531969901782995, 0.1202745128313353, 0.17256777927974196, 0.041834613158725324, 0.35559421184916523, 0.015687979934521996, 0.06275191973808798, 0.1386662310985865, 0.07532486627577538, 0.11641115697165287, 0.1694809491204946, 0.11812308575064777, 0.277332462197173, 0.1044276555186886, 0.029015080426909465, 0.033850927164727714, 0.12089616844545611, 0.2659715705800034, 0.3820318922876413, 0.048358467378182446, 0.11606032170763786, 0.2483909636601338, 0.1296746942637463, 0.2191684973471769, 0.1461123315647846, 0.1004522279507894, 0.1004522279507894, 0.05661852848135403, 0.9317144842977226, 0.16189106022230546, 0.08094553011115273, 0.12627502697339826, 0.12951284817784436, 0.1748423450400899, 0.2557878751512426, 0.0679942452933683, 0.18811748773672154, 0.2231704357621976, 0.18227532973247554, 0.13086433929511065, 0.09814825447133298, 0.07010589605095213, 0.1063272756772774, 0.25672529540024325, 0.3479710329220164, 0.11444380638324096, 0.06031497903981618, 0.047942675647033375, 0.07423382035669684, 0.09588535129406675, 0.14655270894750164, 0.10798620659289594, 0.23654121444158158, 0.12855500784868565, 0.20825911271487074, 0.11055730674986966, 0.06170640376736911, 0.835917702927612, 0.08037670220457807, 0.008037670220457808, 0.032150680881831234, 0.016075340440915617, 0.008037670220457808, 0.024113010661373422, 0.06100133866450477, 0.8540187413030669, 0.08195978917700418, 0.8195978917700417, 0.07674909616387174, 0.09768066784492767, 0.09768066784492767, 0.0837262867242237, 0.13605521592686354, 0.43956300530217446, 0.06977190560351976, 0.06284498302263274, 0.06767921248591217, 0.39640681598891414, 0.46408602847482633, 0.004834229463279441, 0.004834229463279441, 0.13710662711208432, 0.03427665677802108, 0.7883631058944849, 0.8177447854739647, 0.08177447854739647, 0.19005607731671095, 0.06501918434519059, 0.405119533227726, 0.045013281469747334, 0.19505755303557176, 0.015004427156582444, 0.08502508722063384, 0.8734994578049643, 0.9097577776251488, 0.08962842574112802, 0.3710199949283904, 0.12506291963878327, 0.2522102212715463, 0.0396032578856147, 0.10005033571102663, 0.022928201933776933, 0.06447584387485089, 0.9026618142479125, 0.0971496130833052, 0.3189041646865019, 0.1393885752934379, 0.28511299491839576, 0.044350910320639335, 0.09292571686229194, 0.023231429215572984, 0.9221012451722292, 0.08517506589799333, 0.3864039574884575, 0.09348482842462681, 0.2679898414839302, 0.037393931369850725, 0.11010435347789381, 0.020774406316583737, 0.18808956093867102, 0.7053358535200163, 0.047022390234667755, 0.047022390234667755, 0.022627222602915702, 0.1583905582204099, 0.022627222602915702, 0.6561894554845553, 0.0678816678087471, 0.045254445205831405, 0.022627222602915702, 0.9395701438751785, 0.5551314685869102, 0.044726232066243946, 0.09997628344219235, 0.06314291585822675, 0.11576201240674903, 0.044726232066243946, 0.07892864482278343, 0.24409511660237848, 0.22518633996416607, 0.16502205066076292, 0.09626286288544504, 0.18908776638212418, 0.04297449235957368, 0.03953653297080779, 0.8787940426443036, 0.0732328368870253, 0.030542473841118082, 0.061084947682236164, 0.9162742152335425, 0.05433325111299779, 0.8693320178079647, 0.0830997364528682, 0.051937335283042625, 0.062324802339651146, 0.062324802339651146, 0.28046161052843016, 0.010387467056608524, 0.4570485504907751, 0.7754127293540676, 0.03877063646770337, 0.06784861381848091, 0.05815595470155507, 0.03877063646770337, 0.009692659116925843, 0.019385318233851687, 0.8885360916476807, 0.22669530646977162, 0.12438149558518442, 0.2628060632525671, 0.10231381088458719, 0.10632611719378669, 0.07623381987479046, 0.10030765772998744, 0.03618393685898005, 0.03618393685898005, 0.03618393685898005, 0.03618393685898005, 0.03618393685898005, 0.796046610897561, 0.03618393685898005, 0.07940778842133088, 0.35524536925332234, 0.11911168263199633, 0.30091372454399073, 0.031345179639999034, 0.09612521756266369, 0.01880710778399942, 0.16773949990506518, 0.11284293629977112, 0.11589274538895411, 0.1982375907968952, 0.1036935090322221, 0.1036935090322221, 0.2012873998860782, 0.2316161444057746, 0.13424884803137255, 0.18735828241741, 0.14310042042904544, 0.08408993777789268, 0.09441677224184442, 0.12539727563369962, 0.1881437026084187, 0.1599221472171559, 0.15857826362709576, 0.1639537979873363, 0.06719417950300668, 0.14917107849667482, 0.1155739887451715, 0.025886289405788524, 0.1876755981919668, 0.019414717054341394, 0.6795150969019488, 0.03882943410868279, 0.04530100646012992, 0.8916900615541977, 0.10789850269906777, 0.8631880215925422, 0.09837379617921285, 0.8853641656129156, 0.9553386088559886, 0.907707808837014, 0.0453853904418507, 0.048611475488710996, 0.13287136633581006, 0.14259366143355226, 0.035648415358388065, 0.5282447003106595, 0.012963060130322931, 0.09398218594484126, 0.11095994750209315, 0.26547426692089576, 0.12340405376401013, 0.2665112757760555, 0.06947959329570319, 0.12133003605369064, 0.04355437191670946, 0.8531648330844511, 0.09479609256493901, 0.07266701421987394, 0.05190501015705281, 0.06228601218846337, 0.05190501015705281, 0.30104905891090633, 0.010381002031410562, 0.4463830873506542, 0.032216555418335076, 0.14497449938250784, 0.04832483312750261, 0.6282228306575339, 0.06443311083667015, 0.04832483312750261, 0.06443311083667015, 0.11494873493208911, 0.0919589879456713, 0.13793848191850694, 0.0996222369411439, 0.3984889477645756, 0.03831624497736304, 0.11494873493208911, 0.11887179289334232, 0.2649142813051629, 0.3192556723421194, 0.05434139103695649, 0.0713230757360054, 0.023774358578668466, 0.14943882535163036, 0.017712544590191268, 0.11070340368869543, 0.2125505350822952, 0.017712544590191268, 0.4870949762302599, 0.008856272295095634, 0.14612849286907795, 0.08593897133138101, 0.07031370381658447, 0.09375160508877929, 0.07812633757398274, 0.09375160508877929, 0.015625267514796547, 0.5546969967752775, 0.1502296469181222, 0.19254785731759327, 0.18408421523769905, 0.12272281015846603, 0.10791143651865118, 0.0931000628788363, 0.14811373639814868, 0.9453702433034558, 0.03376758215518311, 0.9117247181899439, 0.03376758215518311, 0.18019369090289225, 0.013861053146376326, 0.013861053146376326, 0.013861053146376326, 0.7623579230506979, 0.2741278918757318, 0.4231682991091394, 0.08516594699051862, 0.07718163946015749, 0.04258297349525931, 0.061213024399435254, 0.037260101808351896, 0.9037891679781023, 0.9508067465273413, 0.028812325652343675, 0.8517231429840162, 0.9266904741838925, 0.5796621246191862, 0.05544594235487867, 0.07056756299711832, 0.060486482568958555, 0.10333107438863753, 0.045364861926718916, 0.08064864342527807, 0.05300657948776516, 0.05708400867913171, 0.09378087140143067, 0.21202631795106064, 0.39551063156255545, 0.036696862722298954, 0.14678745088919581, 0.008136625117970994, 0.9763950141565193, 0.03476306660618235, 0.03792334538856257, 0.08848780590664598, 0.1390522664247294, 0.5783310171755791, 0.03792334538856257, 0.08216724834188556, 0.02212973316247684, 0.02212973316247684, 0.04425946632495368, 0.06638919948743052, 0.7524109275242126, 0.1106486658123842, 0.22282084841881705, 0.1368964689631948, 0.13252743271968856, 0.12961474189068442, 0.16602337725323624, 0.12961474189068442, 0.08301168862661812, 0.2567395197727874, 0.09076649688936929, 0.14003973805788403, 0.10632646778468974, 0.127073095645117, 0.21265293556937948, 0.06742654054638861, 0.14755989527831495, 0.2062282873769221, 0.0924471633068961, 0.13511508483315585, 0.16356036585066233, 0.13333725476956168, 0.12267027438799676, 0.06378825098725327, 0.06378825098725327, 0.8292472628342925, 0.06186583413933424, 0.9279875120900136, 0.026887457322142348, 0.9141735489528398, 0.026887457322142348, 0.13762938447327208, 0.1257902976368616, 0.14650869960057997, 0.14354892789147733, 0.09767246640038664, 0.20274436207352983, 0.14502881374602863, 0.06523242823992927, 0.8480215671190804, 0.8656733308339958, 0.1211942663167594, 0.07880308492837833, 0.8668339342121616, 0.09853066342387763, 0.8867759708148987, 0.01377488340994093, 0.19284836773917302, 0.4958958027578735, 0.06887441704970465, 0.2341730179689958, 0.2501029998681367, 0.10349089649716002, 0.48295751698674677, 0.025872724124290005, 0.060369689623343346, 0.05174544824858001, 0.025872724124290005, 0.8962206338976525, 0.9640488906887045, 0.106867829741638, 0.3080308033729566, 0.1089632773836309, 0.3059353557309637, 0.03562260991387933, 0.11315417266761671, 0.023049924061921922, 0.15368936552190374, 0.4013000099738598, 0.19851543046579234, 0.012807447126825312, 0.13661276935280334, 0.06617181015526412, 0.034153192338200834, 0.1393095695821724, 0.5030623346022892, 0.15865812091302967, 0.015478841064685821, 0.11996101825131512, 0.038697102661714555, 0.023218261597028732, 0.09346439345135486, 0.05192466302853048, 0.05192466302853048, 0.041539730422824384, 0.2700082477483585, 0.020769865211412192, 0.4569370346510682, 0.9102607727953922, 0.075855064399616, 0.13655072039979416, 0.054620288159917665, 0.7100637460789296, 0.027310144079958833, 0.027310144079958833, 0.054620288159917665, 0.06649936441625476, 0.8644917374113119, 0.8637653662647375, 0.02399348239624271, 0.04798696479248542, 0.04798696479248542, 0.020976285244955317, 0.09089723606147304, 0.11886561638808013, 0.0769130458981695, 0.6362806524303113, 0.041952570489910634, 0.013984190163303545, 0.9119798118625135, 0.1483214840504906, 0.2472024734174843, 0.15514086262752463, 0.09376645543421817, 0.05114533932775537, 0.20799104659953851, 0.09717614472273521, 0.07015847713236754, 0.8419017255884105, 0.07015847713236754, 0.037483133295459034, 0.07496626659091807, 0.7684042325569103, 0.018741566647729517, 0.018741566647729517, 0.07496626659091807, 0.14943677639673128, 0.28486385500626904, 0.35024244467983895, 0.04202909336158067, 0.03735919409918282, 0.07471838819836564, 0.06537858967356994, 0.08454130103316652, 0.3608470166049791, 0.08660328398519498, 0.28455364737992633, 0.04742560789665439, 0.11753302826562176, 0.018557846568256067, 0.7806558324207394, 0.1354198892974752, 0.007965875841027953, 0.03186350336411181, 0.007965875841027953, 0.007965875841027953, 0.023897627523083862, 0.2854690686506385, 0.2410107710738997, 0.25739014386532977, 0.06317758076694459, 0.04445829757673878, 0.04445829757673878, 0.06551749116572031, 0.30704337118630465, 0.2171770186439716, 0.014977725423722178, 0.014977725423722178, 0.022466588135583266, 0.014977725423722178, 0.4043985864404988, 0.11555413413524605, 0.7098325382593685, 0.016507733447892293, 0.14856960103103065, 0.5519555486075957, 0.06076574847056099, 0.09368052889211485, 0.06582956084310773, 0.09621243507838823, 0.04051049898037399, 0.09114862270584148, 0.3093406911667514, 0.27067310477090745, 0.10208242808502796, 0.08197528315918912, 0.06650824860085154, 0.08661539352669038, 0.08352198661502287, 0.8418431338069916, 0.12471750130473949, 0.08447644696615611, 0.8447644696615612, 0.5223559243881024, 0.07526742426341534, 0.07075137880761041, 0.0903209091160984, 0.1098904394245864, 0.039139060616975974, 0.09182625760136671, 0.08852191808368225, 0.8409582217949814, 0.07594843581054134, 0.7974585760106839, 0.11392265371581199, 0.5279565389676085, 0.1701965158514001, 0.08336155878435925, 0.0989918510564266, 0.03647068196815717, 0.0399440802508388, 0.04168077939217962, 0.9586800896351972, 0.892798098776554, 0.09995797363186934, 0.04997898681593467, 0.11661763590384755, 0.1332772981758258, 0.016659662271978223, 0.03331932454395645, 0.5497688549752814, 0.9434230927204268, 0.04101839533567073, 0.9335113729501614, 0.8724341886856092, 0.12337372413634834, 0.8327726379203513, 0.9070491595736878, 0.8718492170859087, 0.0396295098675413, 0.01981475493377065, 0.01981475493377065, 0.01981475493377065, 0.08574159784898981, 0.345057649880081, 0.11920173359493706, 0.2739548614199431, 0.03555139423006895, 0.11920173359493706, 0.020912584841217028, 0.09199205127060389, 0.827928461435435, 0.022116097233887702, 0.11058048616943851, 0.6634829170166311, 0.11058048616943851, 0.022116097233887702, 0.022116097233887702, 0.044232194467775404, 0.03480162111273754, 0.06960324222547508, 0.13920648445095016, 0.03480162111273754, 0.1218056738945814, 0.06960324222547508, 0.5568259378038006, 0.8696047137053542, 0.8502172387747209, 0.9357775498025072, 0.5181412565836124, 0.07895485814607428, 0.1167873943410682, 0.0805997510241175, 0.09046910829237678, 0.06086103648759892, 0.05592635785346928, 0.016134625255724844, 0.020168281569656055, 0.028235594197518473, 0.020168281569656055, 0.8833707327509351, 0.020168281569656055, 0.012100968941793631, 0.9318962007637043, 0.018637924015274084, 0.018637924015274084, 0.018637924015274084, 0.4856466312786562, 0.15840834324969044, 0.05836096856567542, 0.06252960917750938, 0.07503553101301126, 0.10421601529584897, 0.05627664825975844, 0.9667456262343628, 0.02056905587732687, 0.08797339505173159, 0.3183799059015048, 0.11520325542488659, 0.31628530125741594, 0.03770288359359925, 0.10473023220444236, 0.02094604644088847, 0.1364724870678065, 0.16571659143947934, 0.07798427832446087, 0.06823624353390326, 0.08773231311501847, 0.04874017395278804, 0.42891353078453476, 0.04969491117454734, 0.04969491117454734, 0.8945084011418521, 0.8959191537708477, 0.8978897898441783, 0.020245409284219244, 0.8907980085056467, 0.04049081856843849, 0.04049081856843849, 0.04580200093025582, 0.02290100046512791, 0.9160400186051164, 0.10434131174273283, 0.346413154985873, 0.09808083303816886, 0.2879820204099426, 0.039649698462238474, 0.10642813797758749, 0.01878143611369191, 0.8936853625192628, 0.04499162832695416, 0.19346400180590287, 0.18446567614051204, 0.07348632626735846, 0.2249581416347708, 0.00899832566539083, 0.26845004901749314, 0.9013429498300984, 0.9718476767676354, 0.8530485251153834, 0.03371920437385011, 0.01123973479128337, 0.17983575666053392, 0.12363708270411708, 0.17983575666053392, 0.47206886123390157, 0.04708706330091637, 0.015695687766972125, 0.0627827510678885, 0.23543531650458185, 0.09417412660183273, 0.015695687766972125, 0.5336533840770522, 0.8620229357529314, 0.853383572927893, 0.215448257507027, 0.35678231443163677, 0.17408219206567782, 0.0844557169427546, 0.060325512101967564, 0.046536823621517835, 0.060325512101967564, 0.08590958657334967, 0.32897085590282676, 0.13410276928522874, 0.2723962501106209, 0.02723962501106209, 0.13200741351514705, 0.020953557700816992, 0.034268868763826656, 0.034268868763826656, 0.7539151128041864, 0.06853773752765331, 0.034268868763826656, 0.034268868763826656, 0.1302562925717418, 0.24059103451486424, 0.1517102701717934, 0.10267260708596118, 0.15017784320036112, 0.1088023149716902, 0.11339959588598697, 0.869236724582077, 0.9635797895058404, 0.9290684226162929, 0.09551155521378817, 0.4211191298062478, 0.24529103952631962, 0.05426792909874328, 0.0629507977545422, 0.04558506044294435, 0.07380438357429085, 0.5160083709924153, 0.07755039101620113, 0.08351580570975506, 0.07904174468958962, 0.11334287917752472, 0.05965414693553933, 0.07009362264925871, 0.08435122552831563, 0.33318734083684676, 0.14339708339813656, 0.2678151410524021, 0.04428439340236571, 0.10333025127218665, 0.023196587020286798, 0.055469788735956094, 0.055469788735956094, 0.8320468310393414, 0.055469788735956094, 0.13059416756750603, 0.7835650054050362, 0.02176569459458434, 0.02176569459458434, 0.02176569459458434, 0.21400299549759721, 0.27995360417295734, 0.1426686636650648, 0.13055528656142723, 0.11440411708991045, 0.05114536999313644, 0.06864247025394628, 0.9158858103319021, 0.6221692090447374, 0.05224321602665734, 0.10211174041573935, 0.04986852438908201, 0.05699259930180801, 0.06649136585210934, 0.04986852438908201, 0.24015927436258688, 0.6804512773606628, 0.04002654572709781, 0.09031650304783645, 0.812848527430528, 0.013444396861483934, 0.013444396861483934, 0.13444396861483932, 0.026888793722967867, 0.7663306211045842, 0.026888793722967867, 0.026888793722967867, 0.18103309273494997, 0.1765631398279142, 0.2458474098869691, 0.07598919941960863, 0.1877380220955037, 0.058109387791465426, 0.07375422296609073, 0.923731209826279, 0.08655666770134546, 0.31333513707887056, 0.10733026794966836, 0.23889640285571348, 0.07270760086913018, 0.09521233447148, 0.08655666770134546, 0.5605284156351208, 0.07821326729792383, 0.0744888259980227, 0.09311103249752838, 0.0912488118475778, 0.05027995754866532, 0.052142178198615885, 0.08305286174944781, 0.051908038593404884, 0.06228964631208586, 0.04152643087472391, 0.31144823156042933, 0.020763215437361954, 0.43602752418460106, 0.0557623794534458, 0.6226799038968115, 0.15799340845142978, 0.037174919635630535, 0.06505610936235344, 0.037174919635630535, 0.037174919635630535, 0.287745839918734, 0.31780883811919874, 0.12311513548761753, 0.0815995665441186, 0.06871542445820514, 0.05296813968653312, 0.06728385311532585, 0.8556026555027786, 0.05411890602701381, 0.865902496432221, 0.755146627233432, 0.15842236934967105, 0.015842236934967103, 0.026403728224945175, 0.02112298257995614, 0.005280745644989035, 0.02112298257995614, 0.03603545698462733, 0.03603545698462733, 0.03603545698462733, 0.7747623251694876, 0.054053185476941, 0.018017728492313666, 0.03603545698462733, 0.9195677762979734, 0.3286657805927176, 0.1643328902963588, 0.03459639795712817, 0.008649099489282042, 0.043245497446410215, 0.008649099489282042, 0.41515677548553803, 0.9011910937234994, 0.025267040010939237, 0.008422346670313078, 0.008422346670313078, 0.008422346670313078, 0.04211173335156539, 0.19551537700259136, 0.18945288469243352, 0.17278103083949936, 0.12882796159085477, 0.14549981544378893, 0.07274990772189446, 0.09548425388498648, 0.2851050578526116, 0.1558266510530468, 0.10965579148177368, 0.14659247913879217, 0.1027301625460827, 0.11542714892818282, 0.08426181871757346, 0.0564660733080987, 0.5194878744345081, 0.2823303665404935, 0.04517285864647896, 0.031056340319454284, 0.019763125657834543, 0.047996162311883896, 0.19056100552842775, 0.17514798302245196, 0.15272904119557812, 0.12330418004780619, 0.09107695117167502, 0.1695432475657335, 0.09808287049257311, 0.09466697797132656, 0.18933395594265312, 0.1642750500090667, 0.13086317543095144, 0.055686457630192095, 0.29653038688077293, 0.07100023347849492, 0.02048693635150665, 0.0409738727030133, 0.02048693635150665, 0.14340855446054657, 0.7580166450057462, 0.057186933074386714, 0.042890199805790036, 0.042890199805790036, 0.014296733268596679, 0.014296733268596679, 0.014296733268596679, 0.8292105295786074, 0.05359385494204382, 0.5971886693542026, 0.17609409480957255, 0.03828132495860273, 0.03828132495860273, 0.05359385494204382, 0.06125011993376437, 0.8963807510440305, 0.1976408662457176, 0.21228093041206705, 0.11468050263640404, 0.28060122985503116, 0.06344027805418095, 0.07564033152613883, 0.053680235276614655, 0.97224328144887, 0.013138422722282028, 0.8931469602960971, 0.07149018569282783, 0.857882228313934, 0.13872166483339016, 0.22012032766951167, 0.18114068631136898, 0.13184290459371792, 0.14445396503311703, 0.11006016383475584, 0.07337344255650388, 0.9076240473039433, 0.36537251964777534, 0.08534248634108621, 0.09867724983188093, 0.09067639173740409, 0.029336479679748385, 0.2666952698158944, 0.06400686475581466, 0.8835198898000367, 0.07362665748333638, 0.2947208022182365, 0.1617370256075688, 0.014376624498450561, 0.04312987349535168, 0.03234740512151376, 0.09704221536454129, 0.3558214563366514, 0.8636576352807921, 0.8975314361034089, 0.04950093375325257, 0.8415158738052936, 0.04950093375325257, 0.04950093375325257, 0.8534496864711836, 0.03743200379259577, 0.029945603034076618, 0.07486400758519154, 0.007486400758519154, 0.5791748663386955, 0.048489058577193114, 0.09967195374200807, 0.056570568340058636, 0.09967195374200807, 0.037713712226705755, 0.07812126104103335, 0.1387223949410326, 0.1328608852956369, 0.14849157768335886, 0.18366063555573334, 0.0976918274232624, 0.18170679900726808, 0.11723019290791489, 0.7993778840659684, 0.03475556017678124, 0.13902224070712496, 0.9512239404976459, 0.46183478792887006, 0.09266587977860823, 0.08070899206523942, 0.09416049074277932, 0.10761198942031923, 0.06426827145935732, 0.09714971267112153, 0.09821878506788835, 0.8839690656109952, 0.0273199743858545, 0.764959282803926, 0.08195992315756351, 0.054639948771709, 0.0273199743858545, 0.054639948771709, 0.0273199743858545, 0.11822666621694351, 0.16771689858682684, 0.17871472800235647, 0.17046635594070925, 0.06598697649317778, 0.23920278978776943, 0.05773860443153055, 0.08070657063524303, 0.13206529740312495, 0.09538049256892359, 0.13206529740312495, 0.044021765801041654, 0.4402176580104165, 0.08070657063524303, 0.061011613497761186, 0.061011613497761186, 0.061011613497761186, 0.7931509754708954, 0.23018478331307612, 0.2679494743253777, 0.20860495987747524, 0.01978150481596748, 0.1726385874848071, 0.05934451444790244, 0.041361328251568366, 0.9595189576767565, 0.9636882307779482, 0.17404006052260085, 0.2052780201035805, 0.13090192586315277, 0.15470227602008965, 0.14577714471123832, 0.1204892726694929, 0.0684260067011935, 0.04854616931494146, 0.04854616931494146, 0.07281925397241219, 0.6796463704091805, 0.07281925397241219, 0.07281925397241219, 0.042575618606273895, 0.8940879907317517, 0.042575618606273895, 0.1770594188800366, 0.15777571979409202, 0.1419981478146828, 0.1279736393885413, 0.09992462253625828, 0.17355329177350123, 0.12271444872873824, 0.08944188452828875, 0.8944188452828874, 0.09226692047588385, 0.030755640158627952, 0.7073797236484428, 0.15377820079313975, 0.023168086301859, 0.8108830205650651, 0.023168086301859, 0.069504258905577, 0.046336172603718, 0.023168086301859, 0.9170602954452342, 0.03520427665224047, 0.017602138326120235, 0.017602138326120235, 0.7744940863492904, 0.12321496828284165, 0.03520427665224047, 0.04496438878040421, 0.022482194390202104, 0.7194302204864673, 0.04496438878040421, 0.11241097195101052, 0.04496438878040421, 0.8202525651142971, 0.8764371899962023, 0.11951416227220941, 0.06630176255950823, 0.7956211507140988, 0.06630176255950823, 0.8841153559476904, 0.09214511952043833, 0.2952832239177683, 0.14659450832797005, 0.2952832239177683, 0.03769573071290659, 0.11727560666237605, 0.01675365809462515, 0.012916712864751904, 0.012916712864751904, 0.11625041578276714, 0.012916712864751904, 0.8008361976146181, 0.025833425729503808, 0.025833425729503808, 0.9544687583652656, 0.023279725813786966, 0.03430408537721486, 0.03430408537721486, 0.754689878298727, 0.03430408537721486, 0.06860817075442972, 0.03430408537721486, 0.03430408537721486, 0.09830640212259141, 0.8192200176882618, 0.06553760141506094, 0.07902853762747157, 0.8693139139021874, 0.07739942067101221, 0.03869971033550611, 0.8126939170456283, 0.03869971033550611, 0.9139375551532811, 0.5044015542438824, 0.1718048962053399, 0.006607880623282303, 0.006607880623282303, 0.022026268744274345, 0.006607880623282303, 0.27973361305228417, 0.03250545730443222, 0.03250545730443222, 0.8776473472196699, 0.03250545730443222, 0.2416434586945441, 0.060410864673636024, 0.08630123524805146, 0.4919170409138933, 0.08630123524805146, 0.025890370574415438, 0.008630123524805145, 0.11817598913460117, 0.029543997283650293, 0.7976879266585579, 0.029543997283650293, 0.029543997283650293, 0.022926797270337727, 0.11463398635168863, 0.022926797270337727, 0.022926797270337727, 0.8024379044618204, 0.020223303785823973, 0.06066991135747192, 0.020223303785823973, 0.1415631265007678, 0.728038936289663, 0.11887552473744761, 0.029718881184361903, 0.029718881184361903, 0.029718881184361903, 0.8024097919777714, 0.14150619357244867, 0.13721812710055628, 0.12006586121298675, 0.06432099707838576, 0.09433746238163244, 0.11148972826920198, 0.33018111833571356, 0.19472880117314934, 0.23949404282214917, 0.12758093869964957, 0.1141513662049496, 0.10296005579269964, 0.053718289978799814, 0.16563139410129943, 0.8651090640114715, 0.1932979398636498, 0.17681516979775716, 0.16033239973186456, 0.16782456794363393, 0.05993734569415497, 0.1333605941694948, 0.10938565589183283, 0.531765307993907, 0.07888825997711807, 0.07742736627383812, 0.11248881515255725, 0.08911451590007782, 0.04236591739511897, 0.06720111035087836, 0.49144221463184656, 0.06871228532846486, 0.09410595599333232, 0.08813097466042233, 0.1000809373262423, 0.06572479466200987, 0.09111846532687733, 0.9004579365753977, 0.05759196689287994, 0.8638795033931991, 0.05759196689287994, 0.02879598344643997, 0.06934588851363499, 0.06934588851363499, 0.83215066216362, 0.9348002190382514, 0.07948829959886196, 0.8743712955874816, 0.871326613167233, 0.8977907267518429, 0.025651163621481225, 0.025651163621481225, 0.025651163621481225, 0.2707131331870053, 0.1174792842132287, 0.2604975432554202, 0.09704810435005849, 0.1276948741448138, 0.04086235972634042, 0.0868325144184734, 0.8597099773685147, 0.8725826551598451, 0.10059510114711528, 0.06706340076474351, 0.6538681574562493, 0.01676585019118588, 0.10059510114711528, 0.01676585019118588, 0.06706340076474351, 0.19404591938037827, 0.09702295969018913, 0.10915082965146276, 0.13037460208369164, 0.11521476463209959, 0.08489508972891549, 0.2698451066383385, 0.016382845086173707, 0.14744560577556337, 0.835525099394859, 0.19947345808502834, 0.09973672904251417, 0.6981571032975992, 0.8828818400899313, 0.06791398769922549, 0.21169621202457511, 0.08759843256189315, 0.07847359583669594, 0.25914536299560054, 0.05292405300614378, 0.15512222432835243, 0.15512222432835243, 0.2069941567726461, 0.20425251231208125, 0.13708222302824244, 0.08773262273807517, 0.07676604489581577, 0.23303977914801216, 0.054832889211296976, 0.8824772031383179, 0.9164154775369089, 0.9207936802745865, 0.03564160964554076, 0.07128321929108151, 0.7128321929108152, 0.03564160964554076, 0.10692482893662228, 0.12645453058941103, 0.7745339998601426, 0.01580681632367638, 0.0790340816183819, 0.04474763106774868, 0.8949526213549737, 0.04474763106774868, 0.040916179559802625, 0.9001559503156578, 0.08183235911960525, 0.26840954283639795, 0.009586055101299926, 0.5368190856727959, 0.1821350469246986, 0.0991848547640643, 0.1322464730187524, 0.0330616182546881, 0.14877728214609645, 0.5785783194570417, 0.04770113337393121, 0.07155170006089681, 0.023850566686965606, 0.7393675672959338, 0.07155170006089681, 0.04770113337393121, 0.5266629861932542, 0.09070306984439379, 0.08192535340783955, 0.08046240066841384, 0.0936289753232452, 0.04388858218277118, 0.08338830614726525, 0.8438068287201315, 0.08438068287201314, 0.020244150972575214, 0.10122075486287606, 0.06073245291772564, 0.10122075486287606, 0.668056982094982, 0.04048830194515043, 0.14953720034826315, 0.06270914853314262, 0.36178354922966893, 0.06270914853314262, 0.07235670984593379, 0.19295122625582345, 0.09165183247151613, 0.8974164970047959, 0.03786040547842745, 0.5830502443677827, 0.0757208109568549, 0.03028832438274196, 0.00757208109568549, 0.0757208109568549, 0.18172994629645178, 0.18550442240772297, 0.24258270622548386, 0.5422436962687287, 0.014269570954440227, 0.028539141908880454, 0.011408091385078986, 0.4677317467882384, 0.1768254164687243, 0.005704045692539493, 0.005704045692539493, 0.3365386958598301, 0.05510064927805988, 0.7714090898928384, 0.02755032463902994, 0.08265097391708982, 0.05510064927805988, 0.8681996396368301, 0.19934134009662086, 0.19447935619182524, 0.1409975332390733, 0.17989340447743835, 0.13937687193747475, 0.06968843596873738, 0.07617108117513155, 0.8287904970690932, 0.02499280176235294, 0.3415682907521569, 0.045820136564313725, 0.4040502951580392, 0.07081293832666667, 0.004165466960392157, 0.10830214097019608, 0.9069748697401004, 0.9394343463879524, 0.8671681052774938, 0.03217219915630125, 0.03217219915630125, 0.0643443983126025, 0.8686493772201337, 0.033645602558460885, 0.8187096622558815, 0.10093680767538266, 0.02243040170564059, 0.011215200852820295, 0.011215200852820295, 0.011215200852820295, 0.8494231087710596, 0.03999967062494629, 0.13333223541648762, 0.09333256479154134, 0.6666611770824381, 0.05333289416659505, 0.06991654975032553, 0.5466202980479996, 0.15254519945525571, 0.06991654975032553, 0.04237366651534881, 0.0783912830533953, 0.04025498318958137, 0.07995159646416594, 0.8794675611058254], \"Term\": [\"\\uac00\\uc9c0_\\ud5c8\\uc740\\uc544\", \"\\uac00\\uc9c0_\\ud5c8\\uc740\\uc544\", \"\\uac00\\uc9c0_\\ud5c8\\uc740\\uc544\", \"\\uac00\\uc9c0_\\ud5c8\\uc740\\uc544\", \"\\uac00\\uc9c0_\\ud5c8\\uc740\\uc544\", \"\\uac00\\uc9c0_\\ud5c8\\uc740\\uc544\", \"\\uac00\\uc9c0_\\ud5c8\\uc740\\uc544\", \"\\uac00\\ud574\\uc790\", \"\\uac00\\ud574\\uc790\", \"\\uac00\\ud574\\uc790\", \"\\uac00\\ud574\\uc790\", \"\\uac00\\ud574\\uc790\", \"\\uac00\\ud574\\uc790\", \"\\uac00\\ud574\\uc790\", \"\\uac04\\ubd80_\\uc778\\uc0ac\", \"\\uac04\\ubd80_\\uc778\\uc0ac\", \"\\uac04\\ubd80_\\uc778\\uc0ac\", \"\\uac04\\ubd80_\\uc778\\uc0ac\", \"\\uac10\\uc5fc_\\ucd94\\uac00\", \"\\uac1c\", \"\\uac1c\", \"\\uac1c\", \"\\uac1c\", \"\\uac1c\", \"\\uac1c\", \"\\uac1c\", \"\\uac1c_\\uad50\", \"\\uac1c\\ubc1c\", \"\\uac1c\\ubc1c\", \"\\uac1c\\ubc1c\", \"\\uac1c\\ubc1c\", \"\\uac1c\\ubc1c\", \"\\uac1c\\ubc1c\", \"\\uac1c\\ubc1c\", \"\\uac1c\\ubc1c_\\uc5f0\\uad6c\", \"\\uac1c\\ubcc4_\\ud3ec\\uc7a5\", \"\\uac1c\\ud601_\\uc548\\uc815\", \"\\uac2f\\ubc8c\", \"\\uac2f\\ubc8c\", \"\\uac2f\\ubc8c\", \"\\uac80\\uc0ac_\\uc9c4\\ud589\", \"\\uac80\\uc0ac_\\uc9c4\\ud589\", \"\\uac80\\uc0ac\\uc7a5\", \"\\uac80\\uc0ac\\uc7a5\", \"\\uac80\\uc0ac\\uc7a5\", \"\\uac80\\uc0ac\\uc7a5\", \"\\uac80\\uc0ac\\uc7a5\", \"\\uac80\\uc0ac\\uc7a5\", \"\\uac80\\uc0ac\\uc7a5\", \"\\uac80\\uc0ac\\uc7a5_\\uace0\\uc704\", \"\\uac80\\uc0ac\\uc7a5_\\uace0\\uc704\", \"\\uac80\\uc0ac\\uc7a5_\\uace0\\uc704\", \"\\uac80\\uc7a5_\\uac80\\uc0ac\\uc7a5\", \"\\uac80\\ucc30_\\uac04\\ubd80\", \"\\uac80\\ucc30_\\uac04\\ubd80\", \"\\uac80\\ucc30_\\uac04\\ubd80\", \"\\uac80\\ucc30_\\uac1c\\ud601\", \"\\uac80\\ucc30_\\uac1c\\ud601\", \"\\uac80\\ucc30_\\uac1c\\ud601\", \"\\uac80\\ucc30_\\uac1c\\ud601\", \"\\uac80\\ucc30_\\uac1c\\ud601\", \"\\uac80\\ucc30_\\uac1c\\ud601\", \"\\uac80\\ucc30_\\uac1c\\ud601\", \"\\uac80\\ucc30_\\uace0\\uc704\", \"\\uac80\\ucc30_\\uc624\\uc804\", \"\\uac80\\ucc30_\\uc778\\uc0ac\", \"\\uac80\\ucc30_\\uc778\\uc0ac\", \"\\uac80\\ucc30_\\uc778\\uc0ac\", \"\\uac80\\ucc30_\\uc778\\uc0ac\", \"\\uac80\\ucc30_\\uc778\\uc0ac\", \"\\uac80\\ucc30_\\uc778\\uc0ac\", \"\\uac80\\ud1a0_\\ubb38\\uac74\", \"\\uac80\\ud1a0_\\ubb38\\uac74\", \"\\uac80\\ud1a0_\\ubb38\\uac74\", \"\\uac80\\ud1a0_\\ubb38\\uac74\", \"\\uac80\\ud1a0_\\ubb38\\uac74\", \"\\uac80\\ud1a0_\\ubb38\\uac74\", \"\\uac80\\ud1a0_\\ubb38\\uac74\", \"\\uacbd\\uac01\\uc2ec\", \"\\uacbd\\uace0_\\uc774\\uc6a9\\uad6c\", \"\\uacbd\\uace0_\\uc774\\uc6a9\\uad6c\", \"\\uacbd\\uace0_\\uc774\\uc6a9\\uad6c\", \"\\uacbd\\uace0_\\uc774\\uc6a9\\uad6c\", \"\\uacbd\\uace0_\\uc774\\uc6a9\\uad6c\", \"\\uacbd\\uace0_\\uc774\\uc6a9\\uad6c\", \"\\uacbd\\uace0_\\uc774\\uc6a9\\uad6c\", \"\\uacbd\\uad00_\\ucd08\\uac04\", \"\\uacbd\\uad00_\\ucd08\\uac04\", \"\\uacbd\\uad00_\\ucd08\\uac04\", \"\\uacbd\\uad00_\\ucd08\\uac04\", \"\\uacbd\\uad00_\\ucd08\\uac04\", \"\\uacbd\\uad00_\\ucd08\\uac04\", \"\\uacbd\\uad00_\\ucd08\\uac04\", \"\\uacbd\\uae30\\ub3c4_\\uc8fc\\uc2dd\\ud68c\\uc0ac\", \"\\uacbd\\uae30\\ub3c4_\\uc8fc\\uc2dd\\ud68c\\uc0ac\", \"\\uacbd\\uae30\\ub3c4_\\uc8fc\\uc2dd\\ud68c\\uc0ac\", \"\\uacbd\\uc120_\\uc5f0\\uae30\", \"\\uacbd\\uc120_\\uc5f0\\uae30\", \"\\uacbd\\uc120_\\uc5f0\\uae30\", \"\\uacbd\\uc120_\\uc5f0\\uae30\", \"\\uacbd\\uc120_\\uc5f0\\uae30\", \"\\uacbd\\uc120_\\uc5f0\\uae30\", \"\\uacbd\\uc120_\\uc5f0\\uae30\", \"\\uacbd\\uc120_\\ud765\\ud589\", \"\\uacbd\\uc120_\\ud765\\ud589\", \"\\uacbd\\uc120_\\ud765\\ud589\", \"\\uacbd\\uc120_\\ud765\\ud589\", \"\\uacbd\\uc2e4\\ub828\", \"\\uacbd\\uc2e4\\ub828\", \"\\uacbd\\uc2e4\\ub828\", \"\\uacbd\\uc6b0\", \"\\uacbd\\uc6b0\", \"\\uacbd\\uc6b0\", \"\\uacbd\\uc6b0\", \"\\uacbd\\uc6b0\", \"\\uacbd\\uc6b0\", \"\\uacbd\\uc6b0\", \"\\uacbd\\uc81c\", \"\\uacbd\\uc81c\", \"\\uacbd\\uc81c\", \"\\uacbd\\uc81c\", \"\\uacbd\\uc81c\", \"\\uacbd\\uc81c\", \"\\uacbd\\uc81c\", \"\\uacbd\\uc81c_\\ub208\", \"\\uacbd\\uc81c_\\ub208\", \"\\uacbd\\uc81c_\\ub208\", \"\\uacbd\\uc81c_\\ub208\", \"\\uacbd\\uc81c_\\ub208\", \"\\uacbd\\uc81c_\\ub208\", \"\\uacbd\\uc81c_\\ub208\", \"\\uacbd\\uc81c_\\uc758\\ub8b0\", \"\\uacbd\\uc81c_\\uc815\\uc758\", \"\\uacbd\\uc81c_\\uc9c0\\uc6d0\", \"\\uacbd\\ucc30\", \"\\uacbd\\ucc30\", \"\\uacbd\\ucc30\", \"\\uacbd\\ucc30\", \"\\uacbd\\ucc30\", \"\\uacbd\\ucc30\", \"\\uacbd\\ucc30\", \"\\uacc4\\ud68d\", \"\\uacc4\\ud68d\", \"\\uacc4\\ud68d\", \"\\uacc4\\ud68d\", \"\\uacc4\\ud68d\", \"\\uacc4\\ud68d\", \"\\uacc4\\ud68d\", \"\\uace0\\uac80\", \"\\uace0\\uac80\", \"\\uace0\\uac80\", \"\\uace0\\uac80_\\uc7a5\", \"\\uace0\\uac80_\\uc7a5\", \"\\uace0\\uac80_\\uc7a5\", \"\\uace0\\uac80_\\uc7a5\", \"\\uace0\\uac80_\\uc7a5\", \"\\uace0\\uac80_\\uccad\\uc0ac\", \"\\uace0\\ub824\\ud56d\\uacf5\", \"\\uace0\\ub824\\ud56d\\uacf5\", \"\\uace0\\ub824\\ud56d\\uacf5\", \"\\uace0\\ub824\\ud56d\\uacf5\", \"\\uace0\\ub839_\\uc811\\uc885\", \"\\uace0\\ubbfc_\\uac78\\ub85c\", \"\\uace0\\ubbfc_\\uac78\\ub85c\", \"\\uace0\\ubbfc_\\uac78\\ub85c\", \"\\uace0\\ubbfc_\\uac78\\ub85c\", \"\\uace0\\ubbfc_\\uac78\\ub85c\", \"\\uace0\\ubbfc_\\uac78\\ub85c\", \"\\uace0\\ubbfc_\\uac78\\ub85c\", \"\\uace0\\uc591_\\uad00\\uad11\", \"\\uace0\\uc591_\\uad00\\uad11\", \"\\uace0\\uc591\\uc2dc_\\uc77c\\uc0b0\", \"\\uace0\\uc591\\uc2dc_\\uc77c\\uc0b0\", \"\\uace0\\uc6a9_\\uc720\\uc9c0\", \"\\uace0\\uc6a9_\\uc720\\uc9c0\", \"\\uace0\\uc6a9_\\uc720\\uc9c0\", \"\\uace0\\uc6a9_\\uc720\\uc9c0\", \"\\uace0\\uc6a9_\\uc720\\uc9c0\", \"\\uace0\\uc6a9_\\uc720\\uc9c0\", \"\\uace0\\uc6a9_\\uc720\\uc9c0\", \"\\uace0\\uc6a9\\ubd80\", \"\\uace0\\uc6a9\\ubd80\", \"\\uace0\\uc6a9\\ubd80\", \"\\uace0\\uc6a9\\ubd80\", \"\\uace0\\uc6a9\\ubd80\", \"\\uace0\\uc6a9\\ubd80\", \"\\uace0\\uc704_\\uac04\\ubd80\", \"\\uace0\\uc704_\\uac04\\ubd80\", \"\\uace0\\uc704_\\uac04\\ubd80\", \"\\uace0\\uc704_\\uac04\\ubd80\", \"\\uace0\\uc704_\\uac04\\ubd80\", \"\\uace0\\uc7a5\", \"\\uace0\\uc7a5\", \"\\uace0\\uc7a5\", \"\\uacf5\\uacf5_\\ubcf4\\uac74\", \"\\uacf5\\uacf5_\\ubcf4\\uac74\", \"\\uacf5\\uad70_\\ud2b9\\uc218\", \"\\uacf5\\uad70_\\ud2b9\\uc218\", \"\\uacf5\\uad70_\\ud2b9\\uc218\", \"\\uacf5\\uc57d_\\uc774\\ud589\", \"\\uacf5\\uc57d_\\uc774\\ud589\", \"\\uacf5\\uc57d_\\uc774\\ud589\", \"\\uacf5\\uc57d_\\uc774\\ud589\", \"\\uacf5\\uc57d_\\uc774\\ud589\", \"\\uacf5\\uc57d_\\uc774\\ud589\", \"\\uacf5\\uc57d_\\uc774\\ud589\", \"\\uacf5\\uc9c1\\uc790_\\uc591\\uc2ec\", \"\\uacf5\\uc9c1\\uc790_\\uc591\\uc2ec\", \"\\uacf5\\uc9c1\\uc790_\\uc591\\uc2ec\", \"\\uacf5\\uc9c1\\uc790_\\uc591\\uc2ec\", \"\\uacf5\\uc9c1\\uc790_\\uc591\\uc2ec\", \"\\uacf5\\uc9c1\\uc790_\\uc591\\uc2ec\", \"\\uacf5\\uc9c1\\uc790_\\uc591\\uc2ec\", \"\\uacf5\\uc9c1\\uc790_\\uc7ac\\uc0b0\", \"\\uacf5\\uc9c1\\uc790_\\uc7ac\\uc0b0\", \"\\uacf5\\uc9c1\\uc790_\\uc7ac\\uc0b0\", \"\\uacfc\\uae30_\\uc815\\ud1b5\\ubd80\", \"\\uad00\\ub9ac\", \"\\uad00\\ub9ac\", \"\\uad00\\ub9ac\", \"\\uad00\\ub9ac\", \"\\uad00\\ub9ac\", \"\\uad00\\ub9ac\", \"\\uad00\\ub9ac\", \"\\uad00\\ub9ac\\uc778\", \"\\uad00\\ub9ac\\uc778\", \"\\uad00\\ubcf4\", \"\\uad50\\uc218\", \"\\uad50\\uc218\", \"\\uad50\\uc218\", \"\\uad50\\uc218\", \"\\uad50\\uc218\", \"\\uad50\\uc218\", \"\\uad50\\uc218\", \"\\uad50\\uc721\", \"\\uad50\\uc721\", \"\\uad50\\uc721\", \"\\uad50\\uc721\", \"\\uad50\\uc721\", \"\\uad50\\uc721\", \"\\uad50\\uc721\", \"\\uad50\\uc721_\\uc804\\ubb38\", \"\\uad50\\uc721_\\uc804\\ubb38\", \"\\uad50\\uc721\\ubd80\", \"\\uad50\\uc721\\ubd80\", \"\\uad50\\uc721\\ubd80\", \"\\uad50\\uc721\\ubd80\", \"\\uad50\\uc721\\ubd80\", \"\\uad50\\uc721\\ubd80\", \"\\uad50\\uc721\\ubd80\", \"\\uad50\\ucc28_\\uc811\\uc885\", \"\\uad50\\ucc28_\\uc811\\uc885\", \"\\uad50\\ucc28_\\uc811\\uc885\", \"\\uad6c\\ub9ac_\\uc2dc\\ubbfc\", \"\\uad6c\\ubbfc\", \"\\uad6c\\ubbfc\", \"\\uad6c\\ubbfc\", \"\\uad6c\\ubbfc\", \"\\uad6c\\ubbfc\", \"\\uad6c\\ubbfc\", \"\\uad6c\\ubbfc\", \"\\uad6d\\uac00\", \"\\uad6d\\uac00\", \"\\uad6d\\uac00\", \"\\uad6d\\uac00\", \"\\uad6d\\uac00\", \"\\uad6d\\uac00\", \"\\uad6d\\uac00\", \"\\uad6d\\ub0b4_\\ub3cc\\ud30c\", \"\\uad6d\\ub0b4_\\ub3cc\\ud30c\", \"\\uad6d\\ubbfc\", \"\\uad6d\\ubbfc\", \"\\uad6d\\ubbfc\", \"\\uad6d\\ubbfc\", \"\\uad6d\\ubbfc\", \"\\uad6d\\ubbfc\", \"\\uad6d\\ubbfc\", \"\\uad6d\\ubbfc_\\ud798\", \"\\uad6d\\ubbfc_\\ud798\", \"\\uad6d\\ubbfc_\\ud798\", \"\\uad6d\\ubbfc_\\ud798\", \"\\uad6d\\ubbfc_\\ud798\", \"\\uad6d\\ubbfc_\\ud798\", \"\\uad6d\\ubbfc_\\ud798\", \"\\uad6d\\ubc29\\ubd80\", \"\\uad6d\\ubc29\\ubd80\", \"\\uad6d\\ubc29\\ubd80\", \"\\uad6d\\ubc29\\ubd80\", \"\\uad6d\\ubc29\\ubd80\", \"\\uad6d\\ubc29\\ubd80\", \"\\uad6d\\ubc29\\ubd80\", \"\\uad6d\\ud68c_\\ube44\\uc0c1\", \"\\uad70\", \"\\uad70\", \"\\uad70\", \"\\uad70\", \"\\uad70\", \"\\uad70\", \"\\uad70\", \"\\uad70_\\uc218\\uc1a1\\uae30\", \"\\uad70_\\uc218\\uc1a1\\uae30\", \"\\uad70\\ub300_\\uc131\\ud3ed\\ub825\", \"\\uad70\\uc0ac_\\uacbd\\ucc30\", \"\\uad70\\uc0ac_\\uacbd\\ucc30\", \"\\uad70\\uc0ac_\\uacbd\\ucc30\", \"\\uad70\\uc0ac_\\uacbd\\ucc30\", \"\\uad70\\uc0ac_\\uacbd\\ucc30\", \"\\uad70\\uc0ac_\\uacbd\\ucc30\", \"\\uad70\\uc0ac_\\uacbd\\ucc30\", \"\\uad70\\uc778_\\uc13c\\ud130\", \"\\uad70\\uc778_\\uc13c\\ud130\", \"\\uad70\\uc778_\\uc13c\\ud130\", \"\\uad70\\uc778_\\uc13c\\ud130\", \"\\uad70\\uc778_\\uc13c\\ud130\", \"\\uad8c\\uc900\\uc6b1_\\uc911\\uc559\", \"\\uad8c\\uc900\\uc6b1_\\uc911\\uc559\", \"\\uada4\\ub3c4\", \"\\uada4\\ub3c4\", \"\\uada4\\ub3c4\", \"\\uada4\\ub3c4\", \"\\uada4\\ub3c4\", \"\\uada4\\ub3c4\", \"\\uada4\\ub3c4\", \"\\uadfc\\ub85c\\ubcf5\\uc9c0\\uacf5\\ub2e8\", \"\\uadfc\\ub85c\\ubcf5\\uc9c0\\uacf5\\ub2e8\", \"\\uadfc\\ub85c\\ubcf5\\uc9c0\\uacf5\\ub2e8\", \"\\uadfc\\ub85c\\ubcf5\\uc9c0\\uacf5\\ub2e8\", \"\\uadfc\\ub85c\\ubcf5\\uc9c0\\uacf5\\ub2e8\", \"\\uadfc\\ub85c\\uc790\", \"\\uadfc\\ub85c\\uc790\", \"\\uadfc\\ub85c\\uc790\", \"\\uadfc\\ub85c\\uc790\", \"\\uadfc\\ub85c\\uc790\", \"\\uadfc\\ub85c\\uc790\", \"\\uadfc\\ub85c\\uc790\", \"\\uae09\\uc18d_\\ucda9\\uc804\\uae30\", \"\\uae30_\\uae30\", \"\\uae30\\uc0ac_\\ucd94\\ucc9c\", \"\\uae30\\uc0ac_\\ucd94\\ucc9c\", \"\\uae30\\uc0ac_\\ucd94\\ucc9c\", \"\\uae30\\uc0ac_\\ucd94\\ucc9c\", \"\\uae30\\uc0ac_\\ucd94\\ucc9c\", \"\\uae30\\uc0ac_\\ucd94\\ucc9c\", \"\\uae30\\uc0ac_\\ucd94\\ucc9c\", \"\\uae30\\uc219\\uc0ac\", \"\\uae30\\uc219\\uc0ac\", \"\\uae30\\uc5c5\", \"\\uae30\\uc5c5\", \"\\uae30\\uc5c5\", \"\\uae30\\uc5c5\", \"\\uae30\\uc5c5\", \"\\uae30\\uc5c5\", \"\\uae30\\uc5c5\", \"\\uae30\\uc628\", \"\\uae30\\uc628\", \"\\uae30\\uc628\", \"\\uae30\\uc628\", \"\\uae30\\uc628\", \"\\uae30\\uc628\", \"\\uae30\\uc628\", \"\\uae30\\uc790\", \"\\uae30\\uc790\", \"\\uae30\\uc790\", \"\\uae30\\uc790\", \"\\uae30\\uc790\", \"\\uae30\\uc790\", \"\\uae30\\uc790\", \"\\uae30\\uc790_\\uba83\", \"\\uae30\\ucd08_\\ud559\\ub825\", \"\\uae30\\ucd08_\\ud559\\ub825\", \"\\uae30\\ucd08_\\ud559\\ub825\", \"\\uae30\\ucd08_\\ud559\\ub825\", \"\\uae30\\ucd08_\\ud559\\ub825\", \"\\uae30\\ucd08_\\ud559\\ub825\", \"\\uae40_\\ucd1d\\uc7a5\", \"\\uae40_\\ucd1d\\uc7a5\", \"\\uae40_\\ucd1d\\uc7a5\", \"\\uae40_\\ucd1d\\uc7a5\", \"\\uae40_\\ucd1d\\uc7a5\", \"\\uae40_\\ucd1d\\uc7a5\", \"\\uae40\\uc601\\uc218\", \"\\uae40\\uc601\\uc218\", \"\\uae40\\uc601\\uc218\", \"\\uae40\\uc624\\uc218_\\uac80\\ucc30\", \"\\uae40\\uc624\\uc218_\\uac80\\ucc30\", \"\\uae40\\uc624\\uc218_\\uac80\\ucc30\", \"\\uae40\\uc624\\uc218_\\uac80\\ucc30\", \"\\uae40\\uc624\\uc218_\\uac80\\ucc30\", \"\\uae40\\ud615\\uc11d_\\uce7c\\ub7fc\", \"\\uae40\\ud615\\uc11d_\\uce7c\\ub7fc\", \"\\uae40\\ud615\\uc11d_\\uce7c\\ub7fc\", \"\\uae40\\ud615\\uc11d_\\uce7c\\ub7fc\", \"\\uae40\\ud615\\uc11d_\\uce7c\\ub7fc\", \"\\uae40\\ud615\\uc11d_\\uce7c\\ub7fc\", \"\\uae40\\ud615\\uc11d_\\uce7c\\ub7fc\", \"\\uaf43\\ubc14\\uad6c\\ub2c8\", \"\\uaf43\\ubc14\\uad6c\\ub2c8\", \"\\uaf43\\ubc14\\uad6c\\ub2c8\", \"\\ub098\\uacbd\\uc6d0\", \"\\ub098\\uacbd\\uc6d0\", \"\\ub098\\uacbd\\uc6d0\", \"\\ub098\\uacbd\\uc6d0\", \"\\ub098\\uacbd\\uc6d0\", \"\\ub098\\uacbd\\uc6d0\", \"\\ub098\\uacbd\\uc6d0\", \"\\ub098\\ub77c\", \"\\ub098\\ub77c\", \"\\ub098\\ub77c\", \"\\ub098\\ub77c\", \"\\ub098\\ub77c\", \"\\ub098\\ub77c\", \"\\ub098\\ub77c\", \"\\ub099\\ucc30\\uc790\", \"\\ub09c\\uc774\\ub3c4\", \"\\ub09c\\uc774\\ub3c4\", \"\\ub09c\\uc774\\ub3c4\", \"\\ub09c\\uc774\\ub3c4\", \"\\ub0a0\\uc528\", \"\\ub0a0\\uc528\", \"\\ub0a0\\uc528\", \"\\ub0a0\\uc528\", \"\\ub0a0\\uc528\", \"\\ub0a0\\uc528\", \"\\ub0a0\\uc528\", \"\\ub0b4\\uc6a9\", \"\\ub0b4\\uc6a9\", \"\\ub0b4\\uc6a9\", \"\\ub0b4\\uc6a9\", \"\\ub0b4\\uc6a9\", \"\\ub0b4\\uc6a9\", \"\\ub0b4\\uc6a9\", \"\\ub0b4\\uc77c_\\uc794\\uc5ec\", \"\\ub124\\uc774\\ubc84_\\ube14\\ub85c\\uadf8\", \"\\ub124\\uc774\\ubc84_\\ube14\\ub85c\\uadf8\", \"\\ub124\\uc774\\ubc84_\\ube14\\ub85c\\uadf8\", \"\\ub124\\uc774\\ubc84_\\ube14\\ub85c\\uadf8\", \"\\ub124\\uc774\\ubc84_\\ube14\\ub85c\\uadf8\", \"\\ub124\\uc774\\ubc84_\\ube14\\ub85c\\uadf8\", \"\\ub124\\uc774\\ubc84_\\ube14\\ub85c\\uadf8\", \"\\ub137\\ud50c\\ub9ad\\uc2a4\", \"\\ub178\\ub798_\\uad50\\uc2e4\", \"\\ub178\\uc778_\\ubcf5\\uc9c0\", \"\\ub178\\uc778_\\ubcf5\\uc9c0\", \"\\ub178\\uc778_\\ubcf5\\uc9c0\", \"\\ub178\\ud6c4_\\uc8fc\\ud0dd\", \"\\ub17c\\ub780_\\uae40\\uacbd\\uc728\", \"\\ub17c\\ub780_\\uae40\\uacbd\\uc728\", \"\\ub17c\\ub780_\\uae40\\uacbd\\uc728\", \"\\ub17c\\ub780_\\uae40\\uacbd\\uc728\", \"\\ub17c\\ub780_\\uae40\\uacbd\\uc728\", \"\\ub17c\\ub780_\\uae40\\uacbd\\uc728\", \"\\ub17c\\ub780_\\uae40\\uacbd\\uc728\", \"\\ub180\\uc774\\ud130\", \"\\ub180\\uc774\\ud130\", \"\\ub180\\uc774\\ud130\", \"\\ub180\\uc774\\ud130\", \"\\ub180\\uc774\\ud130\", \"\\ub180\\uc774\\ud130\", \"\\ub180\\uc774\\ud130\", \"\\ub274\\uc2a4_\\uc724\\uc5ec\\uc815\", \"\\ub274\\uc2a4_\\uc724\\uc5ec\\uc815\", \"\\ub274\\uc2a4_\\uc724\\uc5ec\\uc815\", \"\\ub274\\uc2a4_\\uc724\\uc5ec\\uc815\", \"\\ub274\\uc2a4_\\uc724\\uc5ec\\uc815\", \"\\ub274\\uc2a4_\\uc724\\uc5ec\\uc815\", \"\\ub274\\uc2a4_\\uc724\\uc5ec\\uc815\", \"\\ub2e4\\uc591_\\ud504\\ub85c\\uadf8\\ub7a8\", \"\\ub2e8\\ub3c5_\\uc870\\ud76c\\uc5f0\", \"\\ub2e8\\ub3c5_\\uc870\\ud76c\\uc5f0\", \"\\ub2e8\\ub3c5_\\uc870\\ud76c\\uc5f0\", \"\\ub2e8\\ub3c5_\\uc870\\ud76c\\uc5f0\", \"\\ub2e8\\ub3c5_\\uc870\\ud76c\\uc5f0\", \"\\ub2e8\\ub3c5_\\uc870\\ud76c\\uc5f0\", \"\\ub2e8\\ub3c5_\\uc870\\ud76c\\uc5f0\", \"\\ub2f4\\ubc30_\\uad11\\uace0\", \"\\ub2f4\\ubc30_\\uad11\\uace0\", \"\\ub2f4\\ubc30_\\uad11\\uace0\", \"\\ub2f9_\\ub300\\ud45c\", \"\\ub2f9_\\ub300\\ud45c\", \"\\ub2f9_\\ub300\\ud45c\", \"\\ub2f9_\\ub300\\ud45c\", \"\\ub2f9_\\ub300\\ud45c\", \"\\ub2f9_\\ub300\\ud45c\", \"\\ub2f9_\\ub300\\ud45c\", \"\\ub2f9\\uc77c_\\uc608\\uc57d\", \"\\ub2f9\\uc77c_\\uc608\\uc57d\", \"\\ub300\\uad6c\\uc2dc_\\uac00\\uc9dc\", \"\\ub300\\uad6c\\uc2dc_\\uac00\\uc9dc\", \"\\ub300\\uad6d\\ubbfc_\\uc0ac\\uae30\\uadf9\", \"\\ub300\\uad6d\\ubbfc_\\uc0ac\\uae30\\uadf9\", \"\\ub300\\uad6d\\ubbfc_\\uc0ac\\uae30\\uadf9\", \"\\ub300\\uad6d\\ubbfc_\\uc0ac\\uae30\\uadf9\", \"\\ub300\\uad6d\\ubbfc_\\uc0ac\\uae30\\uadf9\", \"\\ub300\\uad6d\\ubbfc_\\uc0ac\\uae30\\uadf9\", \"\\ub300\\uad6d\\ubbfc_\\uc0ac\\uae30\\uadf9\", \"\\ub300\\ubc95\", \"\\ub300\\uc0c1\", \"\\ub300\\uc0c1\", \"\\ub300\\uc0c1\", \"\\ub300\\uc0c1\", \"\\ub300\\uc0c1\", \"\\ub300\\uc0c1\", \"\\ub300\\uc0c1\", \"\\ub300\\uc120_\\uacbd\\uc120\", \"\\ub300\\uc120_\\uacbd\\uc120\", \"\\ub300\\uc120_\\uacbd\\uc120\", \"\\ub300\\uc120_\\uacbd\\uc120\", \"\\ub300\\uc120_\\uacbd\\uc120\", \"\\ub300\\uc120_\\uacbd\\uc120\", \"\\ub300\\uc120_\\uacbd\\uc120\", \"\\ub300\\uc785_\\uc218\\ud5d8\", \"\\ub300\\ud45c\", \"\\ub300\\ud45c\", \"\\ub300\\ud45c\", \"\\ub300\\ud45c\", \"\\ub300\\ud45c\", \"\\ub300\\ud45c\", \"\\ub300\\ud45c\", \"\\ub300\\ud559\", \"\\ub300\\ud559\", \"\\ub300\\ud559\", \"\\ub300\\ud559\", \"\\ub300\\ud559\", \"\\ub300\\ud559\", \"\\ub300\\ud559\", \"\\ub300\\ud55c\\ubbfc\\uad6d_\\uad6d\\ud68c\", \"\\ub300\\ud55c\\ubbfc\\uad6d_\\uad6d\\ud68c\", \"\\ub313\\uae00_\\uc8fc\\uc694\", \"\\ub313\\uae00_\\uc8fc\\uc694\", \"\\ub313\\uae00_\\uc8fc\\uc694\", \"\\ub313\\uae00_\\uc8fc\\uc694\", \"\\ub313\\uae00_\\uc8fc\\uc694\", \"\\ub313\\uae00_\\uc8fc\\uc694\", \"\\ub313\\uae00_\\uc8fc\\uc694\", \"\\ub3c4\\ub07c\", \"\\ub3c4\\uc7a5\", \"\\ub3c4\\uc8fc\", \"\\ub3c4\\uc8fc\", \"\\ub3c4\\uc8fc\", \"\\ub3c4\\uc8fc\", \"\\ub3c4\\uc8fc\", \"\\ub3c4\\uc8fc\", \"\\ub3c5\\ub9bd_\\uc120\\uc5b8\", \"\\ub3c8_\\ub178\", \"\\ub3c8_\\ub178\", \"\\ub3c8_\\ub178\", \"\\ub3cc\\ud30c_\\uac10\\uc5fc\", \"\\ub3cc\\ud30c_\\uac10\\uc5fc\", \"\\ub3d9\\uc0dd_\\uc724\\uc5ec\\uc21c\", \"\\ub3d9\\uc0dd_\\uc724\\uc5ec\\uc21c\", \"\\ub3d9\\uc0dd_\\uc724\\uc5ec\\uc21c\", \"\\ub3d9\\uc0dd_\\uc724\\uc5ec\\uc21c\", \"\\ub3d9\\uc0dd_\\uc724\\uc5ec\\uc21c\", \"\\ub3d9\\uc0dd_\\uc724\\uc5ec\\uc21c\", \"\\ub3d9\\uc0dd_\\uc724\\uc5ec\\uc21c\", \"\\ub3d9\\uc9c0\", \"\\ub3d9\\uc9c0\", \"\\ub3d9\\uc9c0\", \"\\ub3d9\\uc9c0\", \"\\ub3d9\\uc9c0\", \"\\ub4dc\\ub860_\\uc790\\uc728\", \"\\ub4dc\\ub860_\\uc790\\uc728\", \"\\ub4f1\\uad50\", \"\\ub4f1\\uad50\", \"\\ub4f1\\uad50\", \"\\ub4f1\\uad50\", \"\\ub4f1\\uad50_\\uc218\\uc5c5\", \"\\ub4f1\\uad50_\\uc218\\uc5c5\", \"\\ub4f1\\uad50_\\uc218\\uc5c5\", \"\\ub4f1\\uad50_\\uc218\\uc5c5\", \"\\ub4f1\\ub77d_\\uac70\\ub798\\ub7c9\", \"\\ub4f1\\ub77d_\\uac70\\ub798\\ub7c9\", \"\\ub4f1\\ub77d_\\uac70\\ub798\\ub7c9\", \"\\ub4f1\\ub77d_\\uac70\\ub798\\ub7c9\", \"\\ub4f1\\ub77d_\\uac70\\ub798\\ub7c9\", \"\\ub4f1\\ub77d_\\uac70\\ub798\\ub7c9\", \"\\ub4f1\\ub77d_\\uac70\\ub798\\ub7c9\", \"\\ub514\\uc9c0\\ud138_\\ud504\\ub77c\\uc790\", \"\\ub54c\\ubb38\", \"\\ub54c\\ubb38\", \"\\ub54c\\ubb38\", \"\\ub54c\\ubb38\", \"\\ub54c\\ubb38\", \"\\ub54c\\ubb38\", \"\\ub54c\\ubb38\", \"\\ub77c\\uc6b8_\\uce74\\uc2a4\\ud2b8\\ub85c\", \"\\ub77c\\uc6b8_\\uce74\\uc2a4\\ud2b8\\ub85c\", \"\\ub77c\\uc6b8_\\uce74\\uc2a4\\ud2b8\\ub85c\", \"\\ub86f\\ub370\\ud638\\ud154\", \"\\ub86f\\ub370\\ud638\\ud154\", \"\\ub9c8\\uc2a4\\ud06c_\\uc601\\uc5ed\", \"\\ub9c8\\uc2a4\\ud06c_\\uc601\\uc5ed\", \"\\ub9c8\\uc2a4\\ud06c_\\uc601\\uc5ed\", \"\\ub9c8\\uc2a4\\ud06c_\\uc601\\uc5ed\", \"\\ub9c8\\uc2a4\\ud06c_\\uc601\\uc5ed\", \"\\ub9c8\\uc2a4\\ud06c_\\uc601\\uc5ed\", \"\\ub9c8\\uc2a4\\ud06c_\\uc601\\uc5ed\", \"\\ub9c8\\uc744_\\uacf5\\ub3d9\\uccb4\", \"\\ub9cc\\ucde8_\\uc0c1\\ud0dc\", \"\\ub9cc\\ucde8_\\uc0c1\\ud0dc\", \"\\ub9cc\\ucde8_\\uc0c1\\ud0dc\", \"\\ub9cc\\ucde8_\\uc0c1\\ud0dc\", \"\\ub9cc\\ucde8_\\uc0c1\\ud0dc\", \"\\ub9cc\\ucde8_\\uc0c1\\ud0dc\", \"\\uba4d\", \"\\uba83_\\ub0ab\", \"\\uba83_\\ub0ab\", \"\\uba83_\\ub0ab\", \"\\uba83_\\ub0ab\", \"\\uba83_\\ub0ab\", \"\\uba83_\\ub0ab\", \"\\uba83_\\ub0ab\", \"\\uba85\\ub2e8_\\ub4f1\\ub85d\", \"\\uba85\\ub2e8_\\uc774\\ub984\", \"\\uba85\\ubd80\", \"\\uba85\\uc9c0\", \"\\ubaa8\\uc2b5_\\ubd81\\ud55c\", \"\\ubaa8\\uc2b5_\\ubd81\\ud55c\", \"\\ubb38_\\ub300\\ud1b5\\ub839\", \"\\ubb38_\\ub300\\ud1b5\\ub839\", \"\\ubb38_\\ub300\\ud1b5\\ub839\", \"\\ubb38_\\ub300\\ud1b5\\ub839\", \"\\ubb38_\\ub300\\ud1b5\\ub839\", \"\\ubb38_\\ub300\\ud1b5\\ub839\", \"\\ubb38_\\ub300\\ud1b5\\ub839\", \"\\ubb38\\uc81c\", \"\\ubb38\\uc81c\", \"\\ubb38\\uc81c\", \"\\ubb38\\uc81c\", \"\\ubb38\\uc81c\", \"\\ubb38\\uc81c\", \"\\ubb38\\uc81c\", \"\\ubb38\\uc81c_\\uc7a5\\uba74\", \"\\ubb38\\uc81c_\\uc7a5\\uba74\", \"\\ubb38\\uc81c_\\uc7a5\\uba74\", \"\\ubb38\\uc81c_\\uc7a5\\uba74\", \"\\ubb38\\uc81c_\\uc7a5\\uba74\", \"\\ubb38\\uc81c_\\uc7a5\\uba74\", \"\\ubb38\\uc81c_\\uc7a5\\uba74\", \"\\ubbf8\\uad6d\", \"\\ubbf8\\uad6d\", \"\\ubbf8\\uad6d\", \"\\ubbf8\\uad6d\", \"\\ubbf8\\uad6d\", \"\\ubbf8\\uad6d\", \"\\ubbf8\\uad6d\", \"\\ubbfc\\uc8fc\\ub2f9\", \"\\ubbfc\\uc8fc\\ub2f9\", \"\\ubbfc\\uc8fc\\ub2f9\", \"\\ubbfc\\uc8fc\\ub2f9\", \"\\ubbfc\\uc8fc\\ub2f9\", \"\\ubbfc\\uc8fc\\ub2f9\", \"\\ubbfc\\uc8fc\\ub2f9\", \"\\ubbfc\\uc8fc\\ub2f9_\\uad8c\\ub9ac\", \"\\ubbfc\\uc8fc\\ub2f9_\\uad8c\\ub9ac\", \"\\ubbfc\\uc8fc\\ub2f9_\\uad8c\\ub9ac\", \"\\ubbfc\\uc8fc\\ub2f9_\\uad8c\\ub9ac\", \"\\ubbfc\\uc8fc\\ub2f9_\\uad8c\\ub9ac\", \"\\ubc14\\ub451\", \"\\ubc14\\ub451\", \"\\ubc15_\\uc7a5\\uad00\", \"\\ubc15_\\uc7a5\\uad00\", \"\\ubc15_\\uc7a5\\uad00\", \"\\ubc15_\\uc7a5\\uad00\", \"\\ubc15_\\uc7a5\\uad00\", \"\\ubc15_\\uc7a5\\uad00\", \"\\ubc15\\ubc94\\uacc4_\\ubc95\\ubb34\\ubd80\", \"\\ubc15\\ubc94\\uacc4_\\ubc95\\ubb34\\ubd80\", \"\\ubc15\\ubc94\\uacc4_\\ubc95\\ubb34\\ubd80\", \"\\ubc15\\ubc94\\uacc4_\\ubc95\\ubb34\\ubd80\", \"\\ubc15\\ubc94\\uacc4_\\ubc95\\ubb34\\ubd80\", \"\\ubc15\\ubc94\\uacc4_\\ubc95\\ubb34\\ubd80\", \"\\ubc18\\ub824_\\ub3d9\\ubb3c\", \"\\ubc18\\ub824_\\ub3d9\\ubb3c\", \"\\ubc18\\ub824_\\ub3d9\\ubb3c\", \"\\ubc18\\ub824_\\ub3d9\\ubb3c\", \"\\ubc18\\ub824_\\ub3d9\\ubb3c\", \"\\ubc18\\ub824_\\ub3d9\\ubb3c\", \"\\ubc18\\ub824_\\ub3d9\\ubb3c\", \"\\ubc18\\ub824_\\ud574\\ubcc0\", \"\\ubc18\\ub824_\\ud574\\ubcc0\", \"\\ubc18\\ub824_\\ud574\\ubcc0\", \"\\ubc1c\\uba85\", \"\\ubc1c\\uba85\", \"\\ubc1c\\uba85\", \"\\ubc1c\\uba85\", \"\\ubc1c\\uba85\", \"\\ubc1c\\uba85\\uc790\", \"\\ubc1c\\uba85\\uc790\", \"\\ubc1c\\uba85\\uc790\", \"\\ubc1c\\uba85\\uc790\", \"\\ubc1c\\uba85\\uc790\", \"\\ubc1c\\uc0dd\", \"\\ubc1c\\uc0dd\", \"\\ubc1c\\uc0dd\", \"\\ubc1c\\uc0dd\", \"\\ubc1c\\uc0dd\", \"\\ubc1c\\uc0dd\", \"\\ubc1c\\uc0dd\", \"\\ubc1c\\ud45c\", \"\\ubc1c\\ud45c\", \"\\ubc1c\\ud45c\", \"\\ubc1c\\ud45c\", \"\\ubc1c\\ud45c\", \"\\ubc1c\\ud45c\", \"\\ubc1c\\ud45c\", \"\\ubc29\\uc1a1_\\ud1b5\\uc2e0\", \"\\ubc29\\uc1a1_\\ud1b5\\uc2e0\", \"\\ubc29\\uc1a1_\\ud1b5\\uc2e0\", \"\\ubc29\\uc1a1_\\ud1b5\\uc2e0\", \"\\ubc29\\uc1a1_\\ud1b5\\uc2e0\", \"\\ubc29\\uc1a1_\\ud1b5\\uc2e0\", \"\\ubc29\\uc5ed_\\ub2f9\\uad6d\", \"\\ubc29\\uc5ed_\\ub2f9\\uad6d\", \"\\ubc29\\uc5ed_\\ub2f9\\uad6d\", \"\\ubc29\\uc5ed_\\ub2f9\\uad6d\", \"\\ubc29\\uc5ed_\\ub2f9\\uad6d\", \"\\ubc29\\uc5ed_\\ub2f9\\uad6d\", \"\\ubc29\\uc5ed_\\ub2f9\\uad6d\", \"\\ubc30\\ub2ec_\\ud2b9\\uae09\", \"\\ubc30\\ub2ec_\\ud2b9\\uae09\", \"\\ubc30\\ub2ec_\\ud2b9\\uae09\", \"\\ubc31\\uc2e0\", \"\\ubc31\\uc2e0\", \"\\ubc31\\uc2e0\", \"\\ubc31\\uc2e0\", \"\\ubc31\\uc2e0\", \"\\ubc31\\uc2e0\", \"\\ubc31\\uc2e0\", \"\\ubc31\\uc2e0_\\uacbd\\uc6b0\", \"\\ubc31\\uc2e0_\\uc608\\uc57d\", \"\\ubc31\\uc2e0_\\uc608\\uc57d\", \"\\ubc31\\uc2e0_\\uc608\\uc57d\", \"\\ubc31\\uc2e0_\\uc608\\uc57d\", \"\\ubc31\\uc2e0_\\uc608\\uc57d\", \"\\ubc31\\uc2e0_\\uc608\\uc57d\", \"\\ubc31\\uc2e0_\\uc608\\uc57d\", \"\\ubc31\\uc2e0_\\uc811\\uc885\", \"\\ubc31\\uc2e0_\\uc811\\uc885\", \"\\ubc31\\uc2e0_\\uc811\\uc885\", \"\\ubc31\\uc2e0_\\uc811\\uc885\", \"\\ubc31\\uc2e0_\\uc811\\uc885\", \"\\ubc31\\uc2e0_\\uc811\\uc885\", \"\\ubc31\\uc2e0_\\uc811\\uc885\", \"\\ubc31\\uc2e0_\\ud53c\\uc2f1\", \"\\ubc31\\uc2e0_\\ud53c\\uc2f1\", \"\\ubc8c\\uae08_\\ubd80\\uacfc\", \"\\ubc8c\\uae08_\\ubd80\\uacfc\", \"\\ubc95\\ubb34\\ubd80\", \"\\ubc95\\ubb34\\ubd80\", \"\\ubc95\\ubb34\\ubd80\", \"\\ubc95\\ubb34\\ubd80\", \"\\ubc95\\ubb34\\ubd80\", \"\\ubc95\\ubb34\\ubd80\", \"\\ubc95\\ubb34\\ubd80\", \"\\ubc95\\ubb34\\ubd80_\\uac80\\ucc30\", \"\\ubc95\\ubb34\\ubd80_\\uac80\\ucc30\", \"\\ubc95\\ubb34\\ubd80_\\uac80\\ucc30\", \"\\ubc95\\ubb34\\ubd80_\\uac80\\ucc30\", \"\\ubc95\\ubb34\\ubd80_\\uc624\\ud6c4\", \"\\ubca0\\ub4dc\", \"\\ubca0\\ub4dc\", \"\\ubca0\\uc2a4\\ud2b8_\\ucd94\\ucc9c\", \"\\ubca0\\uc2a4\\ud2b8_\\ucd94\\ucc9c\", \"\\ubca0\\uc2a4\\ud2b8_\\ucd94\\ucc9c\", \"\\ubca0\\uc2a4\\ud2b8_\\ucd94\\ucc9c\", \"\\ubca0\\uc2a4\\ud2b8_\\ucd94\\ucc9c\", \"\\ubca0\\uc2a4\\ud2b8_\\ucd94\\ucc9c\", \"\\ubca0\\uc2a4\\ud2b8_\\ucd94\\ucc9c\", \"\\ubcd1\\uc6d0\", \"\\ubcd1\\uc6d0\", \"\\ubcd1\\uc6d0\", \"\\ubcd1\\uc6d0\", \"\\ubcd1\\uc6d0\", \"\\ubcd1\\uc6d0\", \"\\ubcd1\\uc6d0\", \"\\ubcd1\\uc6d0_\\uce58\\ub8cc\", \"\\ubcd1\\uc6d0_\\uce58\\ub8cc\", \"\\ubcd1\\uc6d0_\\uce58\\ub8cc\", \"\\ubcd1\\uc6d0_\\uce58\\ub8cc\", \"\\ubcf4\\uac74_\\uc758\\ub8cc\", \"\\ubcf4\\uac74_\\uc758\\ub8cc\", \"\\ubcf4\\uac74_\\uc758\\ub8cc\", \"\\ubcf4\\uac74_\\uc758\\ub8cc\", \"\\ubcf4\\uac74_\\uc758\\ub8cc\", \"\\ubcf4\\uac74_\\uc758\\ub8cc\", \"\\ubcf4\\uac74_\\uc758\\ub8cc\", \"\\ubcf4\\ubcf5_\\uc6b4\\uc804\", \"\\ubcf4\\ubcf5_\\uc6b4\\uc804\", \"\\ubcf4\\ubcf5_\\uc6b4\\uc804\", \"\\ubcf4\\ubcf5_\\uc6b4\\uc804\", \"\\ubcf4\\ubcf5_\\uc6b4\\uc804\", \"\\ubcf4\\ubcf5_\\uc6b4\\uc804\", \"\\ubcf4\\ubcf5_\\uc6b4\\uc804\", \"\\ubcf4\\uc218_\\uacf5\\uc0ac\", \"\\ubcf4\\uc218_\\uacf5\\uc0ac\", \"\\ubcf4\\uc218_\\uacf5\\uc0ac\", \"\\ubcf4\\uc218_\\uacf5\\uc0ac\", \"\\ubcf4\\uc815\", \"\\ubcf4\\uc815\", \"\\ubcf4\\uc815\", \"\\ubcf4\\uc815\", \"\\ubcf4\\uc815\", \"\\ubcf4\\uc88c\\uad00\", \"\\ubcf4\\ud638\\uc790\", \"\\ubcf4\\ud638\\uc790\", \"\\ubcf4\\ud638\\uc790\", \"\\ubcf4\\ud638\\uc790\", \"\\ubcf4\\ud638\\uc790\", \"\\ubcf5\\uc0ac_\\uc2a4\\ud06c\\ub7a9\", \"\\ubcf5\\uc0ac_\\uc2a4\\ud06c\\ub7a9\", \"\\ubcf5\\uc0ac_\\uc2a4\\ud06c\\ub7a9\", \"\\ubcf5\\uc0ac_\\uc2a4\\ud06c\\ub7a9\", \"\\ubcf5\\uc0ac_\\uc2a4\\ud06c\\ub7a9\", \"\\ubcf5\\uc0ac_\\uc2a4\\ud06c\\ub7a9\", \"\\ubcf5\\uc0ac_\\uc2a4\\ud06c\\ub7a9\", \"\\ubcf8\\ubd80_\\ubcf8\\ubd80\", \"\\ubd80\\ub3d9\\uc0b0_\\uc7ac\\uc0b0\", \"\\ubd80\\ub3d9\\uc0b0_\\uc7ac\\uc0b0\", \"\\ubd80\\ub3d9\\uc0b0_\\uc7ac\\uc0b0\", \"\\ubd80\\ub3d9\\uc0b0_\\uc7ac\\uc0b0\", \"\\ubd80\\ub3d9\\uc0b0_\\uc7ac\\uc0b0\", \"\\ubd80\\ub3d9\\uc0b0_\\uc7ac\\uc0b0\", \"\\ubd80\\ubd84\", \"\\ubd80\\ubd84\", \"\\ubd80\\ubd84\", \"\\ubd80\\ubd84\", \"\\ubd80\\ubd84\", \"\\ubd80\\ubd84\", \"\\ubd80\\ubd84\", \"\\ubd80\\uc0b0\", \"\\ubd80\\uc0b0\", \"\\ubd80\\uc0b0\", \"\\ubd80\\uc0b0\", \"\\ubd80\\uc0b0\", \"\\ubd80\\uc0b0\", \"\\ubd80\\uc0b0\", \"\\ubd80\\uc0b0_\\uacbd\\ucc30\\uccad\", \"\\ubd80\\uc0b0_\\uacbd\\ucc30\\uccad\", \"\\ubd80\\uc0b0\\uc2dc\", \"\\ubd80\\uc0b0\\uc2dc\", \"\\ubd80\\uc0b0\\uc2dc\", \"\\ubd80\\uc0b0\\uc2dc\", \"\\ubd81\\ud55c\", \"\\ubd81\\ud55c\", \"\\ubd81\\ud55c\", \"\\ubd81\\ud55c\", \"\\ubd81\\ud55c\", \"\\ubd81\\ud55c\", \"\\ubd81\\ud55c\", \"\\ubd81\\ud56d\", \"\\ubd84\\uc57c\", \"\\ubd84\\uc57c\", \"\\ubd84\\uc57c\", \"\\ubd84\\uc57c\", \"\\ubd84\\uc57c\", \"\\ubd84\\uc57c\", \"\\ubd84\\uc57c\", \"\\ubd88\\uad50\", \"\\ubd88\\uad50\", \"\\ube14\\ub799\\ubc15\\uc2a4\", \"\\ube14\\ub799\\ubc15\\uc2a4\", \"\\ube14\\ub799\\ubc15\\uc2a4\", \"\\ube14\\ub799\\ubc15\\uc2a4\", \"\\ube14\\ub799\\ubc15\\uc2a4\", \"\\ube14\\ub799\\ubc15\\uc2a4\", \"\\ube44\\uc11c_\\uc678\\uc2e0\", \"\\ube44\\uc11c_\\uc678\\uc2e0\", \"\\ube44\\uc11c_\\uc678\\uc2e0\", \"\\ube44\\uc11c_\\uc678\\uc2e0\", \"\\ube44\\uc11c_\\uc678\\uc2e0\", \"\\ube44\\uc11c_\\uc678\\uc2e0\", \"\\ube44\\uc11c_\\uc678\\uc2e0\", \"\\ube44\\ud575\\ud654\", \"\\ube44\\ud575\\ud654\", \"\\ube44\\ud575\\ud654\", \"\\ube44\\ud589\\ub2e8_\\uc555\\uc218\\uc218\\uc0c9\", \"\\ube44\\ud589\\ub2e8_\\uc555\\uc218\\uc218\\uc0c9\", \"\\ube44\\ud589\\ub2e8_\\uc555\\uc218\\uc218\\uc0c9\", \"\\ube44\\ud589\\ub2e8_\\uc911\\uc0ac\", \"\\ube45_\\ub370\\uc774\\ud130\", \"\\ube45_\\ub370\\uc774\\ud130\", \"\\ube45_\\ub370\\uc774\\ud130\", \"\\ube45_\\ub370\\uc774\\ud130\", \"\\ube45_\\ub370\\uc774\\ud130\", \"\\ube45_\\ub370\\uc774\\ud130\", \"\\ube45_\\ub370\\uc774\\ud130\", \"\\uc0ac\\uac74\", \"\\uc0ac\\uac74\", \"\\uc0ac\\uac74\", \"\\uc0ac\\uac74\", \"\\uc0ac\\uac74\", \"\\uc0ac\\uac74\", \"\\uc0ac\\uac74\", \"\\uc0ac\\uace0_\\uc218\\uc2b5\", \"\\uc0ac\\uace0_\\uc218\\uc2b5\", \"\\uc0ac\\uace0_\\uc218\\uc2b5\", \"\\uc0ac\\uace0_\\uc218\\uc2b5\", \"\\uc0ac\\uace0_\\uc218\\uc2b5\", \"\\uc0ac\\uace0_\\uc218\\uc2b5\", \"\\uc0ac\\uace0_\\uc218\\uc2b5\", \"\\uc0ac\\uacfc_\\uac24\\ub7ed\\uc2dc\", \"\\uc0ac\\uacfc_\\uac24\\ub7ed\\uc2dc\", \"\\uc0ac\\uacfc_\\uac24\\ub7ed\\uc2dc\", \"\\uc0ac\\uacfc_\\uac24\\ub7ed\\uc2dc\", \"\\uc0ac\\uacfc_\\uac24\\ub7ed\\uc2dc\", \"\\uc0ac\\uacfc_\\uac24\\ub7ed\\uc2dc\", \"\\uc0ac\\uacfc_\\uac24\\ub7ed\\uc2dc\", \"\\uc0ac\\ub4dc\", \"\\uc0ac\\ub4dc\", \"\\uc0ac\\ub78c\", \"\\uc0ac\\ub78c\", \"\\uc0ac\\ub78c\", \"\\uc0ac\\ub78c\", \"\\uc0ac\\ub78c\", \"\\uc0ac\\ub78c\", \"\\uc0ac\\ub78c\", \"\\uc0ac\\ub9dd_\\uc0ac\\uac74\", \"\\uc0ac\\ub9dd_\\uc0ac\\uac74\", \"\\uc0ac\\ub9dd_\\uc0ac\\uac74\", \"\\uc0ac\\ub9dd_\\uc0ac\\uac74\", \"\\uc0ac\\ub9dd_\\uc0ac\\uac74\", \"\\uc0ac\\ub9dd_\\uc0ac\\uac74\", \"\\uc0ac\\ub9dd_\\uc0ac\\uac74\", \"\\uc0ac\\uc5c5\", \"\\uc0ac\\uc5c5\", \"\\uc0ac\\uc5c5\", \"\\uc0ac\\uc5c5\", \"\\uc0ac\\uc5c5\", \"\\uc0ac\\uc5c5\", \"\\uc0ac\\uc5c5\", \"\\uc0ac\\uc804_\\uc608\\uc57d\", \"\\uc0ac\\uc804_\\uc608\\uc57d\", \"\\uc0ac\\uc804_\\uc608\\uc57d\", \"\\uc0ac\\uc804_\\uc608\\uc57d\", \"\\uc0ac\\uc804_\\uc608\\uc57d\", \"\\uc0ac\\uc804_\\uc608\\uc57d\", \"\\uc0ac\\uc804_\\uc608\\uc57d\", \"\\uc0ac\\uc9c4\", \"\\uc0ac\\uc9c4\", \"\\uc0ac\\uc9c4\", \"\\uc0ac\\uc9c4\", \"\\uc0ac\\uc9c4\", \"\\uc0ac\\uc9c4\", \"\\uc0ac\\uc9c4\", \"\\uc0ad\\uc81c_\\uc694\\uccad\", \"\\uc0b0\\uc5c5\", \"\\uc0b0\\uc5c5\", \"\\uc0b0\\uc5c5\", \"\\uc0b0\\uc5c5\", \"\\uc0b0\\uc5c5\", \"\\uc0b0\\uc5c5\", \"\\uc0b0\\uc5c5\", \"\\uc0c1\\ud669\", \"\\uc0c1\\ud669\", \"\\uc0c1\\ud669\", \"\\uc0c1\\ud669\", \"\\uc0c1\\ud669\", \"\\uc0c1\\ud669\", \"\\uc0c1\\ud669\", \"\\uc0dd\\uac01\", \"\\uc0dd\\uac01\", \"\\uc0dd\\uac01\", \"\\uc0dd\\uac01\", \"\\uc0dd\\uac01\", \"\\uc0dd\\uac01\", \"\\uc0dd\\uac01\", \"\\uc11c\\ube44\\uc2a4\", \"\\uc11c\\ube44\\uc2a4\", \"\\uc11c\\ube44\\uc2a4\", \"\\uc11c\\ube44\\uc2a4\", \"\\uc11c\\ube44\\uc2a4\", \"\\uc11c\\ube44\\uc2a4\", \"\\uc11c\\ube44\\uc2a4\", \"\\uc11c\\uc6b8_\\uace0\\uac80\", \"\\uc11c\\uc6b8_\\uace0\\uac80\", \"\\uc11c\\uc6b8_\\uace0\\uac80\", \"\\uc11c\\uc6b8_\\uace0\\uac80\", \"\\uc11c\\uc6b8_\\uace0\\uac80\", \"\\uc11c\\uc6b8_\\uace0\\uac80\", \"\\uc11c\\uc6b8_\\uace0\\uac80\", \"\\uc11c\\uc6b8\\uc2dc_\\ub178\\uc778\", \"\\uc11c\\uc6b8\\uc2dc_\\ub178\\uc778\", \"\\uc11c\\ucca0\\ubaa8_\\ud654\\uc131\", \"\\uc11c\\ucca0\\ubaa8_\\ud654\\uc131\", \"\\uc120\\uc815\", \"\\uc120\\uc815\", \"\\uc120\\uc815\", \"\\uc120\\uc815\", \"\\uc120\\uc815\", \"\\uc120\\uc815\", \"\\uc120\\uc815\", \"\\uc120\\ud0dd_\\uacfc\\ubaa9\", \"\\uc120\\ud0dd_\\uacfc\\ubaa9\", \"\\uc120\\ud0dd_\\uacfc\\ubaa9\", \"\\uc120\\ud0dd_\\uacfc\\ubaa9\", \"\\uc120\\ud0dd_\\uacfc\\ubaa9\", \"\\uc120\\ud0dd_\\uacfc\\ubaa9\", \"\\uc124\\ud6c8\", \"\\uc124\\ud6c8\", \"\\uc124\\ud6c8\", \"\\uc131\\uc778_\\ubb3c\", \"\\uc131\\uc778_\\ubb3c\", \"\\uc131\\ucd94\\ud589_\\ud53c\\ud574\", \"\\uc131\\ucd94\\ud589_\\ud53c\\ud574\", \"\\uc131\\ucd94\\ud589_\\ud53c\\ud574\", \"\\uc131\\ucd94\\ud589_\\ud53c\\ud574\", \"\\uc131\\ucd94\\ud589_\\ud53c\\ud574\", \"\\uc131\\ucd94\\ud589_\\ud53c\\ud574\", \"\\uc131\\ucd94\\ud589_\\ud53c\\ud574\", \"\\uc131\\ud3ed\\ub825_\\ucc98\\ubc8c\", \"\\uc138\\uacc4_\\ubcf4\\uac74\", \"\\uc138\\uacc4_\\ucc3d\", \"\\uc138\\uacc4_\\ucc3d\", \"\\uc138\\uacc4_\\ucc3d\", \"\\uc138\\uacc4_\\ucc3d\", \"\\uc138\\uacc4_\\ucc3d\", \"\\uc138\\uacc4_\\ucc3d\", \"\\uc138\\uacc4_\\ucc3d\", \"\\uc18c\\ub098\\uae30\", \"\\uc18c\\ub098\\uae30\", \"\\uc18c\\ub984_\\uacf5\\ud1b5\\uc810\", \"\\uc18c\\ub984_\\uacf5\\ud1b5\\uc810\", \"\\uc18c\\ub984_\\uacf5\\ud1b5\\uc810\", \"\\uc18c\\ub984_\\uacf5\\ud1b5\\uc810\", \"\\uc18c\\ub984_\\uacf5\\ud1b5\\uc810\", \"\\uc18c\\ub984_\\uacf5\\ud1b5\\uc810\", \"\\uc18c\\ub984_\\uacf5\\ud1b5\\uc810\", \"\\uc18c\\ubc29_\\uacf5\\ubb34\\uc6d0\", \"\\uc190_\\ub2e8\\ubc1c\\uba38\\ub9ac\", \"\\uc190_\\ub2e8\\ubc1c\\uba38\\ub9ac\", \"\\uc190_\\ub2e8\\ubc1c\\uba38\\ub9ac\", \"\\uc190_\\ub2e8\\ubc1c\\uba38\\ub9ac\", \"\\uc190_\\ub2e8\\ubc1c\\uba38\\ub9ac\", \"\\uc190_\\ub2e8\\ubc1c\\uba38\\ub9ac\", \"\\uc190_\\ub2e8\\ubc1c\\uba38\\ub9ac\", \"\\uc190_\\ubc18\\uc7a5\", \"\\uc190_\\ubc18\\uc7a5\", \"\\uc190_\\ubc18\\uc7a5\", \"\\uc190_\\ubc18\\uc7a5\", \"\\uc190\\uc601\\ub798_\\uc911\\uc559\", \"\\uc190\\uc601\\ub798_\\uc911\\uc559\", \"\\uc190\\uc601\\ub798_\\uc911\\uc559\", \"\\uc190\\uc601\\ub798_\\uc911\\uc559\", \"\\uc190\\uc601\\ub798_\\uc911\\uc559\", \"\\uc190\\uc601\\ub798_\\uc911\\uc559\", \"\\uc190\\uc601\\ub798_\\uc911\\uc559\", \"\\uc194\\uc232\", \"\\uc1a1\\uc601\\uae38_\\uc870\\uad6d\", \"\\uc1a1\\uc601\\uae38_\\uc870\\uad6d\", \"\\uc1a1\\uc601\\uae38_\\uc870\\uad6d\", \"\\uc1a1\\uc601\\uae38_\\uc870\\uad6d\", \"\\uc1a1\\uc601\\uae38_\\uc870\\uad6d\", \"\\uc1a1\\uc601\\uae38_\\uc870\\uad6d\", \"\\uc1a1\\uc601\\uae38_\\uc870\\uad6d\", \"\\uc218\\uc0ac\", \"\\uc218\\uc0ac\", \"\\uc218\\uc0ac\", \"\\uc218\\uc0ac\", \"\\uc218\\uc0ac\", \"\\uc218\\uc0ac\", \"\\uc218\\uc0ac\", \"\\uc218\\uc0b0\\ubb3c\", \"\\uc218\\uc0b0\\ubb3c\", \"\\uc2a4\\ub9c8\\ud2b8_\\uacf5\\uc7a5\", \"\\uc2a4\\ub9c8\\ud2b8_\\uacf5\\uc7a5\", \"\\uc2a4\\ub9c8\\ud2b8_\\uacf5\\uc7a5\", \"\\uc2a4\\ub9c8\\ud2b8_\\uc81c\\uc870\", \"\\uc2a4\\ub9c8\\ud2b8_\\uc81c\\uc870\", \"\\uc2a4\\ud06c\\ub7a9_\\ub313\\uae00\", \"\\uc2a4\\ud06c\\ub7a9_\\ub313\\uae00\", \"\\uc2a4\\ud06c\\ub7a9_\\ub313\\uae00\", \"\\uc2a4\\ud06c\\ub7a9_\\ub313\\uae00\", \"\\uc2a4\\ud06c\\ub7a9_\\ub313\\uae00\", \"\\uc2a4\\ud06c\\ub7a9_\\ub313\\uae00\", \"\\uc2a4\\ud06c\\ub7a9_\\ub313\\uae00\", \"\\uc2b9\\uc9c4\", \"\\uc2b9\\uc9c4\", \"\\uc2b9\\uc9c4\", \"\\uc2b9\\uc9c4\", \"\\uc2b9\\uc9c4\", \"\\uc2b9\\uc9c4\", \"\\uc2b9\\uc9c4\", \"\\uc2dc\\ub178\", \"\\uc2dc\\ubbfc\", \"\\uc2dc\\ubbfc\", \"\\uc2dc\\ubbfc\", \"\\uc2dc\\ubbfc\", \"\\uc2dc\\ubbfc\", \"\\uc2dc\\ubbfc\", \"\\uc2dc\\ubbfc\", \"\\uc2dc\\uc0c1\\uc2dd\", \"\\uc2dc\\uc0c1\\uc2dd\", \"\\uc2dc\\uc0c1\\uc2dd\", \"\\uc2dc\\uc0c1\\uc2dd\", \"\\uc2dc\\uc0c1\\uc2dd\", \"\\uc2dc\\uc0c1\\uc2dd\", \"\\uc2dc\\uc0c1\\uc2dd\", \"\\uc2dc\\uc120_\\uc0ac\\uc9c4\", \"\\uc2dc\\uc120_\\uc0ac\\uc9c4\", \"\\uc2dc\\uc120_\\uc0ac\\uc9c4\", \"\\uc2dc\\uc120_\\uc0ac\\uc9c4\", \"\\uc2dc\\uc120_\\uc0ac\\uc9c4\", \"\\uc2dc\\uc120_\\uc0ac\\uc9c4\", \"\\uc2dc\\uc120_\\uc0ac\\uc9c4\", \"\\uc2dc\\uc124\", \"\\uc2dc\\uc124\", \"\\uc2dc\\uc124\", \"\\uc2dc\\uc124\", \"\\uc2dc\\uc124\", \"\\uc2dc\\uc124\", \"\\uc2dc\\uc124\", \"\\uc2dc\\uc791\", \"\\uc2dc\\uc791\", \"\\uc2dc\\uc791\", \"\\uc2dc\\uc791\", \"\\uc2dc\\uc791\", \"\\uc2dc\\uc791\", \"\\uc2dc\\uc791\", \"\\uc2dc\\uc7a5\", \"\\uc2dc\\uc7a5\", \"\\uc2dc\\uc7a5\", \"\\uc2dc\\uc7a5\", \"\\uc2dc\\uc7a5\", \"\\uc2dc\\uc7a5\", \"\\uc2dc\\uc7a5\", \"\\uc2e0\\uaddc_\\ud655\\uc9c4\", \"\\uc2e0\\uaddc_\\ud655\\uc9c4\", \"\\uc2e0\\uaddc_\\ud655\\uc9c4\", \"\\uc2e0\\uaddc_\\ud655\\uc9c4\", \"\\uc2e0\\uaddc_\\ud655\\uc9c4\", \"\\uc2e0\\uaddc_\\ud655\\uc9c4\", \"\\uc2e4\\ucc9c_\\uc2dc\\ubbfc\", \"\\uc2ec\\ub824_\\uace0\\uc778\", \"\\uc2ec\\ub824_\\uace0\\uc778\", \"\\uc2ec\\uc758_\\uaddc\\uc815\", \"\\uc2ec\\uc758_\\uaddc\\uc815\", \"\\uc2ec\\ud3c9\", \"\\uc544\\ub3d9_\\ubcf5\\uc9c0\", \"\\uc544\\ub3d9_\\ubcf5\\uc9c0\", \"\\uc544\\uc2a4\\ud2b8\\ub77c_\\uce74\", \"\\uc544\\uc2a4\\ud2b8\\ub77c_\\uce74\", \"\\uc544\\uc2a4\\ud2b8\\ub77c_\\uce74\", \"\\uc544\\uc2a4\\ud2b8\\ub77c_\\uce74\", \"\\uc544\\uc2a4\\ud2b8\\ub77c_\\uce74\", \"\\uc544\\uc2a4\\ud2b8\\ub77c_\\uce74\", \"\\uc544\\uc2a4\\ud2b8\\ub77c_\\uce74\", \"\\uc544\\uc2dc\\uc544_\\uacbd\\uc81c\", \"\\uc544\\uc2dc\\uc544_\\uacbd\\uc81c\", \"\\uc544\\uc2dc\\uc544_\\uacbd\\uc81c\", \"\\uc544\\uc2dc\\uc544_\\uacbd\\uc81c\", \"\\uc544\\uc2dc\\uc544_\\uacbd\\uc81c\", \"\\uc544\\uc2dc\\uc544_\\uacbd\\uc81c\", \"\\uc544\\uc2dc\\uc544_\\uacbd\\uc81c\", \"\\uc548\\uc804\\uc2dc\\uc124\", \"\\uc548\\uc804\\uc2dc\\uc124\", \"\\uc54c_\\uc81c\\uc791\", \"\\uc54c_\\uc81c\\uc791\", \"\\uc54c_\\uc81c\\uc791\", \"\\uc54c_\\uc81c\\uc791\", \"\\uc54c_\\uc81c\\uc791\", \"\\uc54c_\\uc81c\\uc791\", \"\\uc54c_\\uc81c\\uc791\", \"\\uc54c\\ub730_\\ud3f0\", \"\\uc54c\\ub730_\\ud3f0\", \"\\uc54c\\ub730_\\ud3f0\", \"\\uc54c\\ub730_\\ud3f0\", \"\\uc54c\\ub730_\\ud3f0\", \"\\uc54c\\ub730_\\ud3f0\", \"\\uc54c\\ub730_\\ud3f0\", \"\\uc555\\uc218\\uc218\\uc0c9\", \"\\uc555\\uc218\\uc218\\uc0c9\", \"\\uc555\\uc218\\uc218\\uc0c9\", \"\\uc555\\uc218\\uc218\\uc0c9\", \"\\uc555\\uc218\\uc218\\uc0c9\", \"\\uc555\\uc218\\uc218\\uc0c9\", \"\\uc555\\uc218\\uc218\\uc0c9\", \"\\uc575\\ucee4\", \"\\uc575\\ucee4\", \"\\uc575\\ucee4\", \"\\uc575\\ucee4\", \"\\uc575\\ucee4\", \"\\uc575\\ucee4\", \"\\uc575\\ucee4\", \"\\uc580\\uc13c_\\ubc31\\uc2e0\", \"\\uc580\\uc13c_\\ubc31\\uc2e0\", \"\\uc580\\uc13c_\\ubc31\\uc2e0\", \"\\uc580\\uc13c_\\ubc31\\uc2e0\", \"\\uc580\\uc13c_\\ubc31\\uc2e0\", \"\\uc580\\uc13c_\\ubc31\\uc2e0\", \"\\uc580\\uc13c_\\ubc31\\uc2e0\", \"\\uc5b4\\ub974\\uc2e0\", \"\\uc5b4\\ub974\\uc2e0\", \"\\uc5b4\\ub974\\uc2e0\", \"\\uc5b4\\ub974\\uc2e0\", \"\\uc5b4\\ub974\\uc2e0\", \"\\uc5b4\\ub974\\uc2e0\", \"\\uc5b4\\ub974\\uc2e0\", \"\\uc5b5\", \"\\uc5b5\", \"\\uc5b5\", \"\\uc5b5\", \"\\uc5b5\", \"\\uc5b5\", \"\\uc5b5\", \"\\uc5b8\\ub2c8\", \"\\uc5d0\\ub108\\uc9c0_\\uc808\\uc57d\", \"\\uc5d0\\ub108\\uc9c0_\\uc808\\uc57d\", \"\\uc5d0\\ub108\\uc9c0_\\uc808\\uc57d\", \"\\uc5d1\\uc2a4\\ud3ec\", \"\\uc5d1\\uc2a4\\ud3ec\", \"\\uc5d1\\uc2a4\\ud3ec\", \"\\uc5d1\\uc2a4\\ud3ec\", \"\\uc5d1\\uc2a4\\ud3ec\", \"\\uc5ec\\uc131\", \"\\uc5ec\\uc131\", \"\\uc5ec\\uc131\", \"\\uc5ec\\uc131\", \"\\uc5ec\\uc131\", \"\\uc5ec\\uc131\", \"\\uc5ec\\uc131\", \"\\uc5f0\\uae30_\\ucd09\\uad6c\", \"\\uc5f0\\uc218\\uc6d0_\\uc5f0\\uad6c\", \"\\uc5f0\\uc218\\uc6d0_\\uc5f0\\uad6c\", \"\\uc5fc\\ub450_\\uc5f0\\uad6c\", \"\\uc5ff\\uc0c8\", \"\\uc601\\uc0c1_\\ud655\\uc778\", \"\\uc601\\uc0c1_\\ud655\\uc778\", \"\\uc601\\uc0c1_\\ud655\\uc778\", \"\\uc601\\uc0c1_\\ud655\\uc778\", \"\\uc601\\uc0c1_\\ud655\\uc778\", \"\\uc601\\uc0c1_\\ud655\\uc778\", \"\\uc601\\uc0c1_\\ud655\\uc778\", \"\\uc608\\ubc29_\\uc811\\uc885\", \"\\uc608\\ubc29_\\uc811\\uc885\", \"\\uc608\\ubc29_\\uc811\\uc885\", \"\\uc608\\ubc29_\\uc811\\uc885\", \"\\uc608\\ubc29_\\uc811\\uc885\", \"\\uc608\\ubc29_\\uc811\\uc885\", \"\\uc608\\ubc29_\\uc811\\uc885\", \"\\uc608\\ube44_\\uba85\\ub2e8\", \"\\uc608\\ube44_\\uba85\\ub2e8\", \"\\uc608\\uc57d\", \"\\uc608\\uc57d\", \"\\uc608\\uc57d\", \"\\uc608\\uc57d\", \"\\uc608\\uc57d\", \"\\uc608\\uc57d\", \"\\uc608\\uc57d\", \"\\uc608\\uc57d_\\uc811\\uc885\", \"\\uc608\\uc57d_\\uc811\\uc885\", \"\\uc608\\uc57d_\\uc811\\uc885\", \"\\uc608\\uc57d_\\uc811\\uc885\", \"\\uc608\\uc57d_\\uc811\\uc885\", \"\\uc608\\uc57d_\\uc811\\uc885\", \"\\uc608\\uc815\", \"\\uc608\\uc815\", \"\\uc608\\uc815\", \"\\uc608\\uc815\", \"\\uc608\\uc815\", \"\\uc608\\uc815\", \"\\uc608\\uc815\", \"\\uc628\\ub77c\\uc778\", \"\\uc628\\ub77c\\uc778\", \"\\uc628\\ub77c\\uc778\", \"\\uc628\\ub77c\\uc778\", \"\\uc628\\ub77c\\uc778\", \"\\uc628\\ub77c\\uc778\", \"\\uc628\\ub77c\\uc778\", \"\\uc62c\\ud574\", \"\\uc62c\\ud574\", \"\\uc62c\\ud574\", \"\\uc62c\\ud574\", \"\\uc62c\\ud574\", \"\\uc62c\\ud574\", \"\\uc62c\\ud574\", \"\\uc678\\ubd80_\\ub178\\ucd9c\", \"\\uc678\\ubd80_\\ub178\\ucd9c\", \"\\uc678\\ubd80_\\ub178\\ucd9c\", \"\\uc6a9\\uc0b0_\\ubc38\\ub9ac\", \"\\uc6a9\\uc0b0_\\ubc38\\ub9ac\", \"\\uc6a9\\uc0b0_\\uc0c1\\uac00\", \"\\uc6a9\\uc0b0_\\uc0c1\\uac00\", \"\\uc6a9\\uc0b0_\\uc0c1\\uac00\", \"\\uc6b4\\uc601\", \"\\uc6b4\\uc601\", \"\\uc6b4\\uc601\", \"\\uc6b4\\uc601\", \"\\uc6b4\\uc601\", \"\\uc6b4\\uc601\", \"\\uc6b4\\uc601\", \"\\uc6b4\\uc804\\uae30\\uc0ac\", \"\\uc6b4\\uc804\\uae30\\uc0ac\", \"\\uc6b4\\uc804\\uc790_\\ud3ed\\ud589\", \"\\uc6b4\\uc804\\uc790_\\ud3ed\\ud589\", \"\\uc6d0\\ud6a8_\\uc0c1\\uac00\", \"\\uc6d0\\ud6a8_\\uc0c1\\uac00\", \"\\uc704\\ubc30_\\uacbd\\uc6b0\", \"\\uc704\\ubc30_\\uacbd\\uc6b0\", \"\\uc704\\ud0c1_\\uc758\\ub8cc\", \"\\uc704\\ud0c1_\\uc758\\ub8cc\", \"\\uc704\\ud0c1_\\uc758\\ub8cc\", \"\\uc704\\ud0c1_\\uc758\\ub8cc\", \"\\uc704\\ud0c1_\\uc758\\ub8cc\", \"\\uc720_\\ud29c\\ubc84\", \"\\uc720_\\ud29c\\ubc84\", \"\\uc720_\\ud29c\\ubc84\", \"\\uc720_\\ud29c\\ubc84\", \"\\uc720_\\ud29c\\ubc84\", \"\\uc720_\\ud29c\\ubc84\", \"\\uc720_\\ud29c\\ubc84\", \"\\uc720\\uac00\\uc871_\\uc0ac\\uacfc\", \"\\uc720\\uae30_\\ub3d9\\ubb3c\", \"\\uc720\\uc601\\ucca0_\\uac15\\ud638\\uc21c\", \"\\uc720\\uc601\\ucca0_\\uac15\\ud638\\uc21c\", \"\\uc720\\uc601\\ucca0_\\uac15\\ud638\\uc21c\", \"\\uc720\\uc601\\ucca0_\\uac15\\ud638\\uc21c\", \"\\uc720\\uc601\\ucca0_\\uac15\\ud638\\uc21c\", \"\\uc720\\uc601\\ucca0_\\uac15\\ud638\\uc21c\", \"\\uc720\\uc601\\ucca0_\\uac15\\ud638\\uc21c\", \"\\uc724_\\uc804\", \"\\uc724_\\uc804\", \"\\uc724_\\uc804\", \"\\uc724_\\uc804\", \"\\uc724_\\uc804\", \"\\uc724_\\uc804\", \"\\uc724_\\uc804\", \"\\uc724_\\ucd1d\\uc7a5\", \"\\uc724_\\ucd1d\\uc7a5\", \"\\uc724_\\ucd1d\\uc7a5\", \"\\uc724_\\ucd1d\\uc7a5\", \"\\uc724_\\ucd1d\\uc7a5\", \"\\uc724_\\ucd1d\\uc7a5\", \"\\uc724_\\ucd1d\\uc7a5\", \"\\uc724\\uc5ec\\uc21c_\\uc785\\uc0ac\", \"\\uc724\\uc5ec\\uc21c_\\uc785\\uc0ac\", \"\\uc724\\uc5ec\\uc21c_\\uc785\\uc0ac\", \"\\uc724\\uc5ec\\uc21c_\\uc785\\uc0ac\", \"\\uc724\\uc5ec\\uc21c_\\uc785\\uc0ac\", \"\\uc724\\uc5ec\\uc21c_\\uc785\\uc0ac\", \"\\uc724\\uc5ec\\uc21c_\\uc785\\uc0ac\", \"\\uc724\\ud654\\uc12d_\\uc548\\uc0b0\\uc2dc\\uc7a5\", \"\\uc724\\ud654\\uc12d_\\uc548\\uc0b0\\uc2dc\\uc7a5\", \"\\uc74c\\ubaa8\\ub860\", \"\\uc74c\\ubaa8\\ub860\", \"\\uc74c\\ubaa8\\ub860\", \"\\uc74c\\ubaa8\\ub860\", \"\\uc74c\\ubaa8\\ub860\", \"\\uc74c\\ubaa8\\ub860\", \"\\uc74c\\uc2dd\\ubb3c_\\uc12d\\ucde8\", \"\\uc74c\\uc2dd\\ubb3c_\\uc12d\\ucde8\", \"\\uc751\\uc2dc\", \"\\uc751\\uc2dc\", \"\\uc751\\uc2dc\", \"\\uc751\\uc2dc\", \"\\uc758\\ub8cc_\\uae30\\uad00\", \"\\uc758\\ub8cc_\\uae30\\uad00\", \"\\uc758\\ub8cc_\\uae30\\uad00\", \"\\uc758\\ub8cc_\\uae30\\uad00\", \"\\uc758\\ub8cc_\\uae30\\uad00\", \"\\uc758\\ub8cc_\\uae30\\uad00\", \"\\uc758\\ub8cc_\\uae30\\uad00\", \"\\uc758\\uc0ac\\uc18c\\ud1b5\", \"\\uc758\\uc6d0\", \"\\uc758\\uc6d0\", \"\\uc758\\uc6d0\", \"\\uc758\\uc6d0\", \"\\uc758\\uc6d0\", \"\\uc758\\uc6d0\", \"\\uc758\\uc6d0\", \"\\uc758\\uc815_\\ub300\\uc0c1\", \"\\uc758\\uc815_\\ub300\\uc0c1\", \"\\uc758\\uc815_\\ub300\\uc0c1\", \"\\uc774\\uac74\\ud76c_\\ubbf8\\uc220\\uad00\", \"\\uc774\\uac74\\ud76c_\\ubbf8\\uc220\\uad00\", \"\\uc774\\uac74\\ud76c_\\ubbf8\\uc220\\uad00\", \"\\uc774\\uac74\\ud76c_\\ubbf8\\uc220\\uad00\", \"\\uc774\\uac74\\ud76c_\\ubbf8\\uc220\\uad00\", \"\\uc774\\uac74\\ud76c_\\ubbf8\\uc220\\uad00\", \"\\uc774\\uac8c\", \"\\uc774\\uac8c\", \"\\uc774\\uac8c\", \"\\uc774\\uac8c\", \"\\uc774\\uac8c\", \"\\uc774\\uac8c\", \"\\uc774\\uac8c\", \"\\uc774\\ubbf8\\uc9c0_\\uc8fc\\uc18c\", \"\\uc774\\ubbf8\\uc9c0_\\uc8fc\\uc18c\", \"\\uc774\\ubbf8\\uc9c0_\\uc8fc\\uc18c\", \"\\uc774\\ubbf8\\uc9c0_\\uc8fc\\uc18c\", \"\\uc774\\ubbf8\\uc9c0_\\uc8fc\\uc18c\", \"\\uc774\\ubbf8\\uc9c0_\\uc8fc\\uc18c\", \"\\uc774\\ubbf8\\uc9c0_\\uc8fc\\uc18c\", \"\\uc774\\uc131\\uc724_\\uc11c\\uc6b8\", \"\\uc774\\uc131\\uc724_\\uc11c\\uc6b8\", \"\\uc774\\uc131\\uc724_\\uc11c\\uc6b8\", \"\\uc774\\uc131\\uc724_\\uc11c\\uc6b8\", \"\\uc774\\uc131\\uc724_\\uc11c\\uc6b8\", \"\\uc774\\uc131\\uc724_\\uc11c\\uc6b8\", \"\\uc774\\uc131\\uc724_\\uc11c\\uc6b8\", \"\\uc774\\uc57c\\uae30\", \"\\uc774\\uc57c\\uae30\", \"\\uc774\\uc57c\\uae30\", \"\\uc774\\uc57c\\uae30\", \"\\uc774\\uc57c\\uae30\", \"\\uc774\\uc57c\\uae30\", \"\\uc774\\uc57c\\uae30\", \"\\uc774\\uc6a9\\uad6c_\\ubc95\\ubb34\\ubd80\", \"\\uc774\\uc6a9\\uad6c_\\ubc95\\ubb34\\ubd80\", \"\\uc774\\uc6a9\\uad6c_\\ubc95\\ubb34\\ubd80\", \"\\uc774\\uc6a9\\uad6c_\\ubc95\\ubb34\\ubd80\", \"\\uc774\\uc6a9\\uad6c_\\ubc95\\ubb34\\ubd80\", \"\\uc774\\uc6a9\\uad6c_\\ubc95\\ubb34\\ubd80\", \"\\uc774\\uc6a9\\uad6c_\\ubc95\\ubb34\\ubd80\", \"\\uc774\\uc6a9\\uad6c_\\ucc28\\uad00\", \"\\uc774\\uc6a9\\uad6c_\\ucc28\\uad00\", \"\\uc774\\uc6a9\\uad6c_\\ucc28\\uad00\", \"\\uc774\\uc6a9\\uad6c_\\ucc28\\uad00\", \"\\uc774\\uc6a9\\uad6c_\\ud3ed\\ud589\", \"\\uc774\\uc6a9\\uad6c_\\ud3ed\\ud589\", \"\\uc774\\uc6a9\\uad6c_\\ud3ed\\ud589\", \"\\uc774\\uc6a9\\uad6c_\\ud3ed\\ud589\", \"\\uc774\\uc6a9\\uad6c_\\ud3ed\\ud589\", \"\\uc774\\uc6a9\\uad6c_\\ud3ed\\ud589\", \"\\uc774\\uc6a9\\uad6c_\\ud3ed\\ud589\", \"\\uc774\\uc720\", \"\\uc774\\uc720\", \"\\uc774\\uc720\", \"\\uc774\\uc720\", \"\\uc774\\uc720\", \"\\uc774\\uc720\", \"\\uc774\\uc720\", \"\\uc774\\uc7ac\\uc624\", \"\\uc774\\uc7ac\\uc624\", \"\\uc774\\uc804_\\uc0ac\\uac74\", \"\\uc774\\uc804_\\uc0ac\\uac74\", \"\\uc778\\uaca9_\\uad6d\\ubbfc\", \"\\uc778\\uaca9_\\uad6d\\ubbfc\", \"\\uc778\\uaca9_\\uad6d\\ubbfc\", \"\\uc778\\uaca9_\\uad6d\\ubbfc\", \"\\uc778\\uaca9_\\uad6d\\ubbfc\", \"\\uc778\\uaca9_\\uad6d\\ubbfc\", \"\\uc778\\uaca9_\\uad6d\\ubbfc\", \"\\uc778\\uad6c_\\ub300\\ube44\", \"\\uc778\\uad6c_\\ub300\\ube44\", \"\\uc778\\ubbfc\", \"\\uc778\\ubbfc\", \"\\uc778\\ubbfc\", \"\\uc778\\uc0ac\", \"\\uc778\\uc0ac\", \"\\uc778\\uc0ac\", \"\\uc778\\uc0ac\", \"\\uc778\\uc0ac\", \"\\uc778\\uc0ac\", \"\\uc778\\uc0ac\", \"\\uc778\\uc0ac_\\ud611\\uc758\", \"\\uc778\\ucc9c_\\uc9c0\\ubc29\", \"\\uc77c\\uc0c1_\\ud68c\\ubcf5\", \"\\uc77c\\uc0c1_\\ud68c\\ubcf5\", \"\\uc77c\\uc0c1_\\ud68c\\ubcf5\", \"\\uc77c\\uc0c1_\\ud68c\\ubcf5\", \"\\uc77c\\uc0c1_\\ud68c\\ubcf5\", \"\\uc77c\\uc0c1_\\ud68c\\ubcf5\", \"\\uc77c\\uc0c1_\\ud68c\\ubcf5\", \"\\uc77c\\uc120_\\uac80\\ucc30\\uccad\", \"\\uc77c\\uc120_\\uac80\\ucc30\\uccad\", \"\\uc77c\\uc120_\\ubcf5\\uadc0\", \"\\uc77c\\uc815_\\ud569\\uc758\", \"\\uc784\\uae08_\\uccb4\\ubd88\", \"\\uc784\\uae08_\\uccb4\\ubd88\", \"\\uc784\\uc0c1_\\uc2dc\\ud5d8\", \"\\uc784\\uc0c1\\uc2dc\\ud5d8\", \"\\uc784\\uc0c1\\uc2dc\\ud5d8\", \"\\uc784\\uc0c1\\uc2dc\\ud5d8\", \"\\uc784\\uc0c1\\uc2dc\\ud5d8\", \"\\uc784\\uc0c1\\uc2dc\\ud5d8\", \"\\uc785\\uc0ac_\\uc784\\uc6d0\", \"\\uc785\\uc0ac_\\uc784\\uc6d0\", \"\\uc785\\uc0ac_\\uc784\\uc6d0\", \"\\uc785\\uc0ac_\\uc784\\uc6d0\", \"\\uc785\\uc0ac_\\uc784\\uc6d0\", \"\\uc785\\uc0ac_\\uc784\\uc6d0\", \"\\uc785\\uc0ac_\\uc784\\uc6d0\", \"\\uc785\\uc18c\", \"\\uc785\\uc18c\", \"\\uc785\\uc6d0\", \"\\uc785\\uc6d0\", \"\\uc785\\uc6d0\", \"\\uc785\\uc6d0\", \"\\uc785\\uc6d0\", \"\\uc785\\uc6d0\", \"\\uc785\\uc6d0\", \"\\uc790\\uc0b4\", \"\\uc790\\uc0b4\", \"\\uc790\\uc0b4\", \"\\uc790\\uc0b4\", \"\\uc790\\uc0b4\", \"\\uc790\\uc0b4\", \"\\uc790\\uc0b4\", \"\\uc790\\uce58\\uad6c_\\uc0c1\\ud669\", \"\\uc791\\uace1\", \"\\uc791\\uc0ac\", \"\\uc791\\uc131\", \"\\uc791\\uc131\", \"\\uc791\\uc131\", \"\\uc791\\uc131\", \"\\uc791\\uc131\", \"\\uc791\\uc131\", \"\\uc791\\uc131\", \"\\uc794\\uc5ec_\\ubc31\\uc2e0\", \"\\uc794\\uc5ec_\\ubc31\\uc2e0\", \"\\uc794\\uc5ec_\\ubc31\\uc2e0\", \"\\uc794\\uc5ec_\\ubc31\\uc2e0\", \"\\uc794\\uc5ec_\\ubc31\\uc2e0\", \"\\uc794\\uc5ec_\\ubc31\\uc2e0\", \"\\uc794\\uc5ec_\\ubc31\\uc2e0\", \"\\uc7a5_\\uc2b9\\uc9c4\", \"\\uc7a5_\\uc2b9\\uc9c4\", \"\\uc7a5_\\uc2b9\\uc9c4\", \"\\uc7a5_\\uc2b9\\uc9c4\", \"\\uc7a5\\uad00\", \"\\uc7a5\\uad00\", \"\\uc7a5\\uad00\", \"\\uc7a5\\uad00\", \"\\uc7a5\\uad00\", \"\\uc7a5\\uad00\", \"\\uc7a5\\uad00\", \"\\uc7a5\\uad00_\\uae40\\uc624\\uc218\", \"\\uc7a5\\uad00_\\uae40\\uc624\\uc218\", \"\\uc7a5\\uba74_\\uc54c\", \"\\uc7a5\\uba74_\\uc54c\", \"\\uc7a5\\uba74_\\uc54c\", \"\\uc7a5\\uba74_\\uc54c\", \"\\uc7a5\\uba74_\\uc54c\", \"\\uc7a5\\uba74_\\uc54c\", \"\\uc7a5\\uba74_\\uc54c\", \"\\uc7ac\\uc0b0\", \"\\uc7ac\\uc0b0\", \"\\uc7ac\\uc0b0\", \"\\uc7ac\\uc0b0\", \"\\uc7ac\\uc0b0\", \"\\uc7ac\\uc0b0\", \"\\uc7ac\\uc0b0\", \"\\uc7ac\\uc0b0_\\uc5b5\", \"\\uc7ac\\uc0b0_\\uc5b5\", \"\\uc7ac\\uc0b0_\\uc5b5\", \"\\uc7ac\\uc9c8_\\uac1c\\uc120\", \"\\uc804\\ub0a8_\\uc9c0\\uc5ed\", \"\\uc804\\uba74_\\ub4f1\\uad50\", \"\\uc804\\uba74_\\ub4f1\\uad50\", \"\\uc804\\uba74_\\ub4f1\\uad50\", \"\\uc804\\uba74_\\ub4f1\\uad50\", \"\\uc804\\ubcf4\", \"\\uc804\\ubcf4\", \"\\uc804\\ubcf4\", \"\\uc804\\uc870_\\uc870\\ub450\\uc21c\", \"\\uc804\\uc870_\\uc870\\ub450\\uc21c\", \"\\uc804\\uc870_\\uc870\\ub450\\uc21c\", \"\\uc804\\uc870_\\uc870\\ub450\\uc21c\", \"\\uc804\\uc870_\\uc870\\ub450\\uc21c\", \"\\uc804\\uc870_\\uc870\\ub450\\uc21c\", \"\\uc804\\uc870_\\uc870\\ub450\\uc21c\", \"\\uc804\\ud654_\\uc608\\ube44\", \"\\uc811\\uc885\", \"\\uc811\\uc885\", \"\\uc811\\uc885\", \"\\uc811\\uc885\", \"\\uc811\\uc885\", \"\\uc811\\uc885\", \"\\uc811\\uc885\", \"\\uc811\\uc885_\\uad50\\ucc28\", \"\\uc811\\uc885_\\uc0ac\\uc804\", \"\\uc811\\uc885_\\uc5f0\\uad6c\", \"\\uc811\\uc885_\\uc608\\uc57d\", \"\\uc811\\uc885_\\uc608\\uc57d\", \"\\uc811\\uc885_\\uc608\\uc57d\", \"\\uc811\\uc885_\\uc608\\uc57d\", \"\\uc811\\uc885_\\uc608\\uc57d\", \"\\uc811\\uc885_\\uc608\\uc57d\", \"\\uc811\\uc885_\\uc811\\uc885\", \"\\uc811\\uc885_\\uc811\\uc885\", \"\\uc811\\uc885_\\uc811\\uc885\", \"\\uc811\\uc885_\\uc811\\uc885\", \"\\uc811\\uc885_\\uc811\\uc885\", \"\\uc811\\uc885_\\uc811\\uc885\", \"\\uc811\\uc885_\\uc811\\uc885\", \"\\uc811\\uc885_\\ucc28\\uc9c8\", \"\\uc811\\uc885_\\ud654\\uc774\\uc790\", \"\\uc815\\ub3c4\", \"\\uc815\\ub3c4\", \"\\uc815\\ub3c4\", \"\\uc815\\ub3c4\", \"\\uc815\\ub3c4\", \"\\uc815\\ub3c4\", \"\\uc815\\ub3c4\", \"\\uc815\\ubbfc_\\ubb38\\uc81c\", \"\\uc815\\ubbfc_\\ubb38\\uc81c\", \"\\uc815\\ubbfc_\\ubb38\\uc81c\", \"\\uc815\\ubbfc_\\ubb38\\uc81c\", \"\\uc815\\ubbfc_\\ubb38\\uc81c\", \"\\uc815\\ubbfc_\\ubb38\\uc81c\", \"\\uc815\\ubbfc_\\ubb38\\uc81c\", \"\\uc815\\ubcf4_\\ud604\\uc7ac\", \"\\uc815\\ubcf4_\\ud604\\uc7ac\", \"\\uc815\\ubcf4_\\ud604\\uc7ac\", \"\\uc815\\ubcf4_\\ud604\\uc7ac\", \"\\uc815\\ubcf4_\\ud604\\uc7ac\", \"\\uc815\\ubcf4_\\ud604\\uc7ac\", \"\\uc815\\ubd80\", \"\\uc815\\ubd80\", \"\\uc815\\ubd80\", \"\\uc815\\ubd80\", \"\\uc815\\ubd80\", \"\\uc815\\ubd80\", \"\\uc815\\ubd80\", \"\\uc815\\ubd80_\\uace0\\ub839\", \"\\uc815\\uc6a9\\uc0c1\", \"\\uc815\\uc6b0\\uc131\", \"\\uc815\\uce58\", \"\\uc815\\uce58\", \"\\uc815\\uce58\", \"\\uc815\\uce58\", \"\\uc815\\uce58\", \"\\uc815\\uce58\", \"\\uc815\\uce58\", \"\\uc81c\\ubaa9_\\ud310\\ub9e4\", \"\\uc81c\\ubaa9_\\ud310\\ub9e4\", \"\\uc81c\\ubaa9_\\ud310\\ub9e4\", \"\\uc81c\\ubaa9_\\ud310\\ub9e4\", \"\\uc81c\\ubaa9_\\ud310\\ub9e4\", \"\\uc81c\\ubaa9_\\ud310\\ub9e4\", \"\\uc81c\\ubaa9_\\ud310\\ub9e4\", \"\\uc81c\\uc791_\\ud300\", \"\\uc81c\\uc791_\\ud300\", \"\\uc81c\\uc791_\\ud300\", \"\\uc81c\\uc791_\\ud300\", \"\\uc81c\\uc791_\\ud300\", \"\\uc81c\\uc791_\\ud300\", \"\\uc81c\\uc791_\\ud300\", \"\\uc81c\\uc8fc\\uc2dc\", \"\\uc81c\\uc8fc\\uc2dc\", \"\\uc81c\\uc8fc\\uc2dc\", \"\\uc81c\\uc8fc\\uc2dc\", \"\\uc870_\\uad50\\uc721\\uac10\", \"\\uc870_\\uad50\\uc721\\uac10\", \"\\uc870_\\uad50\\uc721\\uac10\", \"\\uc870_\\uad50\\uc721\\uac10\", \"\\uc870_\\uad50\\uc721\\uac10\", \"\\uc870\\uc0ac\", \"\\uc870\\uc0ac\", \"\\uc870\\uc0ac\", \"\\uc870\\uc0ac\", \"\\uc870\\uc0ac\", \"\\uc870\\uc0ac\", \"\\uc870\\uc0ac\", \"\\uc870\\uc0c1\\ucca0_\\uc11c\\uc6b8\", \"\\uc870\\uc9c1_\\uac1c\\ud3b8\", \"\\uc870\\uc9c1_\\uac1c\\ud3b8\", \"\\uc870\\uc9c1_\\uac1c\\ud3b8\", \"\\uc870\\uc9c1_\\uac1c\\ud3b8\", \"\\uc870\\uc9c1_\\uac1c\\ud3b8\", \"\\uc870\\uc9c1_\\uac1c\\ud3b8\", \"\\uc870\\uc9c1_\\uac1c\\ud3b8\", \"\\uc870\\uc9c1\\uc6d0\", \"\\uc870\\uc9c1\\uc6d0\", \"\\uc870\\uc9c1\\uc6d0\", \"\\uc874\\uacbd_\\ub77c\\uc6b8\", \"\\uc874\\uacbd_\\ub77c\\uc6b8\", \"\\uc885\\ub300_\\uc751\\ucd94\", \"\\uc885\\ub300_\\uc751\\ucd94\", \"\\uc885\\ub300_\\uc751\\ucd94\", \"\\uc885\\ub300_\\uc751\\ucd94\", \"\\uc885\\ub300_\\uc751\\ucd94\", \"\\uc885\\ub300_\\uc751\\ucd94\", \"\\uc885\\ub300_\\uc751\\ucd94\", \"\\uc8fc\", \"\\uc8fc\", \"\\uc8fc\", \"\\uc8fc\", \"\\uc8fc\", \"\\uc8fc\", \"\\uc8fc\", \"\\uc8fc\\ub825_\\uc0b0\\uc5c5\", \"\\uc8fc\\uc18c_\\ubcf5\\uc0ac\", \"\\uc8fc\\uc18c_\\ubcf5\\uc0ac\", \"\\uc8fc\\uc18c_\\ubcf5\\uc0ac\", \"\\uc8fc\\uc18c_\\ubcf5\\uc0ac\", \"\\uc8fc\\uc18c_\\ubcf5\\uc0ac\", \"\\uc8fc\\uc18c_\\ubcf5\\uc0ac\", \"\\uc8fc\\uc18c_\\ubcf5\\uc0ac\", \"\\uc8fc\\uc694_\\uae30\\uc0ac\", \"\\uc8fc\\uc694_\\uae30\\uc0ac\", \"\\uc8fc\\uc694_\\uae30\\uc0ac\", \"\\uc8fc\\uc694_\\uae30\\uc0ac\", \"\\uc8fc\\uc694_\\uae30\\uc0ac\", \"\\uc8fc\\uc694_\\uae30\\uc0ac\", \"\\uc8fc\\uc694_\\uae30\\uc0ac\", \"\\uc8fc\\uc694_\\ub274\\uc2a4\", \"\\uc8fc\\uc694_\\ub274\\uc2a4\", \"\\uc8fc\\uc694_\\ub274\\uc2a4\", \"\\uc8fc\\uc694_\\ub274\\uc2a4\", \"\\uc8fc\\uc694_\\ub274\\uc2a4\", \"\\uc8fc\\uc694_\\ub274\\uc2a4\", \"\\uc8fc\\uc694_\\ub274\\uc2a4\", \"\\uc8fc\\uc790\", \"\\uc8fc\\uc790\", \"\\uc8fc\\uc790\", \"\\uc8fc\\uc790\", \"\\uc8fc\\uc790\", \"\\uc8fc\\uc790\", \"\\uc8fc\\uc790\", \"\\uc8fc\\uc7a5\", \"\\uc8fc\\uc7a5\", \"\\uc8fc\\uc7a5\", \"\\uc8fc\\uc7a5\", \"\\uc8fc\\uc7a5\", \"\\uc8fc\\uc7a5\", \"\\uc8fc\\uc7a5\", \"\\uc8fc\\uc81c_\\uc9c4\\ud589\", \"\\uc8fc\\ud589_\\ud14c\\uc2a4\\ud2b8\", \"\\uc8fc\\ud589_\\ud14c\\uc2a4\\ud2b8\", \"\\uc911\\uc559\\uc9c0_\\uac80\\uc7a5\", \"\\uc911\\uc559\\uc9c0_\\uac80\\uc7a5\", \"\\uc911\\uc559\\uc9c0_\\uac80\\uc7a5\", \"\\uc911\\uc559\\uc9c0_\\uac80\\uc7a5\", \"\\uc911\\uc559\\uc9c0_\\uac80\\uc7a5\", \"\\uc911\\uc559\\uc9c0_\\uac80\\uc7a5\", \"\\uc911\\uc559\\uc9c0_\\uac80\\uc7a5\", \"\\uc911\\uc99d_\\ud658\\uc790\", \"\\uc911\\uc99d_\\ud658\\uc790\", \"\\uc911\\uc99d_\\ud658\\uc790\", \"\\uc911\\uc99d_\\ud658\\uc790\", \"\\uc911\\uc99d_\\ud658\\uc790\", \"\\uc911\\uc99d_\\ud658\\uc790\", \"\\uc911\\uc99d_\\ud658\\uc790\", \"\\uc911\\ud654_\\ud56d\\uccb4\", \"\\uc99d\\uac70\\uc778_\\uba78\", \"\\uc99d\\uac70\\uc778_\\uba78\", \"\\uc99d\\uac70\\uc778_\\uba78\", \"\\uc99d\\uac70\\uc778_\\uba78\", \"\\uc99d\\uac70\\uc778_\\uba78\", \"\\uc99d\\uac70\\uc778_\\uba78\", \"\\uc99d\\uac70\\uc778_\\uba78\", \"\\uc9c0_\\uac80\\uc7a5\", \"\\uc9c0_\\uac80\\uc7a5\", \"\\uc9c0_\\uac80\\uc7a5\", \"\\uc9c0_\\uac80\\uc7a5\", \"\\uc9c0_\\uac80\\uc7a5\", \"\\uc9c0_\\uac80\\uc7a5\", \"\\uc9c0\\ub09c\\ub2ec\", \"\\uc9c0\\ub09c\\ub2ec\", \"\\uc9c0\\ub09c\\ub2ec\", \"\\uc9c0\\ub09c\\ub2ec\", \"\\uc9c0\\ub09c\\ub2ec\", \"\\uc9c0\\ub09c\\ub2ec\", \"\\uc9c0\\ub09c\\ub2ec\", \"\\uc9c0\\ub09c\\ud574\", \"\\uc9c0\\ub09c\\ud574\", \"\\uc9c0\\ub09c\\ud574\", \"\\uc9c0\\ub09c\\ud574\", \"\\uc9c0\\ub09c\\ud574\", \"\\uc9c0\\ub09c\\ud574\", \"\\uc9c0\\ub09c\\ud574\", \"\\uc9c0\\uc0ac\", \"\\uc9c0\\uc0ac\", \"\\uc9c0\\uc0ac\", \"\\uc9c0\\uc0ac\", \"\\uc9c0\\uc0ac\", \"\\uc9c0\\uc0ac\", \"\\uc9c0\\uc0ac\", \"\\uc9c0\\uc5ed\", \"\\uc9c0\\uc5ed\", \"\\uc9c0\\uc5ed\", \"\\uc9c0\\uc5ed\", \"\\uc9c0\\uc5ed\", \"\\uc9c0\\uc5ed\", \"\\uc9c0\\uc5ed\", \"\\uc9c0\\uc6d0\", \"\\uc9c0\\uc6d0\", \"\\uc9c0\\uc6d0\", \"\\uc9c0\\uc6d0\", \"\\uc9c0\\uc6d0\", \"\\uc9c0\\uc6d0\", \"\\uc9c0\\uc6d0\", \"\\uc9c0\\uc6d0_\\uc5c5\\uc885\", \"\\uc9c0\\uc6d0_\\uc5c5\\uc885\", \"\\uc9c0\\uc6d0_\\uc5c5\\uc885\", \"\\uc9c0\\uc6d0_\\uc5c5\\uc885\", \"\\uc9c0\\uc6d0_\\uc5c5\\uc885\", \"\\uc9c0\\uc790_\\uccb4\\uc7a5\", \"\\uc9c0\\uc790_\\uccb4\\uc7a5\", \"\\uc9c0\\uc790_\\uccb4\\uc7a5\", \"\\uc9c0\\uc790_\\uccb4\\uc7a5\", \"\\uc9c0\\uc790_\\uccb4\\uc7a5\", \"\\uc9c0\\uc790_\\uccb4\\uc7a5\", \"\\uc9c0\\uc790_\\uccb4\\uc7a5\", \"\\uc9c0\\uc9c0\\uc728\", \"\\uc9c0\\uc9c0\\uc728\", \"\\uc9c0\\uc9c0\\uc728\", \"\\uc9c0\\uc9c0\\uc728\", \"\\uc9c0\\uc9c0\\uc728\", \"\\uc9c0\\uc9c0\\uc728\", \"\\uc9c0\\uc9c0\\uc728\", \"\\uc9c0\\uc9c0\\uc728_\\uc774\\uc7ac\\uba85\", \"\\uc9c1\\uc6d0\", \"\\uc9c1\\uc6d0\", \"\\uc9c1\\uc6d0\", \"\\uc9c1\\uc6d0\", \"\\uc9c1\\uc6d0\", \"\\uc9c1\\uc6d0\", \"\\uc9c1\\uc6d0\", \"\\uc9c1\\uc81c_\\uac1c\\ud3b8\", \"\\uc9c1\\uc81c_\\uac1c\\ud3b8\", \"\\uc9c1\\uc81c_\\uc7a5\\uad00\", \"\\uc9c4\\ub2e8_\\uae30\\uc900\", \"\\uc9c4\\ub2e8_\\uae30\\uc900\", \"\\uc9c4\\ud589\", \"\\uc9c4\\ud589\", \"\\uc9c4\\ud589\", \"\\uc9c4\\ud589\", \"\\uc9c4\\ud589\", \"\\uc9c4\\ud589\", \"\\uc9c4\\ud589\", \"\\uc9c4\\ud589_\\uc804\\ub9dd\", \"\\uc9d1\", \"\\uc9d1\", \"\\uc9d1\", \"\\uc9d1\", \"\\uc9d1\", \"\\uc9d1\", \"\\uc9d1\", \"\\uc9d1\\uc218\\ub9ac\", \"\\uc9d1\\uc218\\ub9ac\", \"\\ucc28\\uad00\", \"\\ucc28\\uad00\", \"\\ucc28\\uad00\", \"\\ucc28\\uad00\", \"\\ucc28\\uad00\", \"\\ucc28\\uad00\", \"\\ucc28\\uad00\", \"\\ucc28\\uad00_\\uc220\", \"\\ucc28\\uad00_\\ucde8\\uc784\", \"\\ucc28\\uae30_\\ub300\\uad8c\", \"\\ucc28\\uae30_\\ub300\\uad8c\", \"\\ucc28\\uae30_\\ub300\\uad8c\", \"\\ucc28\\uae30_\\ub300\\uad8c\", \"\\ucc28\\uc7a5_\\uac80\\uc0ac\", \"\\ucc28\\uc7a5_\\uac80\\uc0ac\", \"\\ucc28\\uc7a5_\\uac80\\uc0ac\", \"\\ucc28\\uc7a5_\\uac80\\uc0ac\", \"\\ucc28\\uc7a5_\\uac80\\uc0ac\", \"\\ucc38\\ub73b_\\ub2e8\\ub3c5\", \"\\ucc38\\ub73b_\\ub2e8\\ub3c5\", \"\\ucc38\\ub73b_\\ub2e8\\ub3c5\", \"\\ucc38\\ub73b_\\ub2e8\\ub3c5\", \"\\ucc38\\ub73b_\\ub2e8\\ub3c5\", \"\\ucc38\\ub73b_\\ub2e8\\ub3c5\", \"\\ucc38\\ub73b_\\ub2e8\\ub3c5\", \"\\ucc38\\uc5ec\", \"\\ucc38\\uc5ec\", \"\\ucc38\\uc5ec\", \"\\ucc38\\uc5ec\", \"\\ucc38\\uc5ec\", \"\\ucc38\\uc5ec\", \"\\ucc38\\uc5ec\", \"\\ucc38\\uc804_\\uc720\\uacf5\\uc790\", \"\\ucc38\\uc804_\\uc720\\uacf5\\uc790\", \"\\ucc38\\uc804_\\uc720\\uacf5\\uc790\", \"\\ucc44\\ub110_\\uc0ac\\uac74\", \"\\ucc44\\uc6a9_\\u524d\", \"\\ucc44\\uc6a9_\\u524d\", \"\\ucc44\\uc6a9_\\u524d\", \"\\ucc44\\uc6a9_\\u524d\", \"\\ucc44\\uc6a9_\\u524d\", \"\\ucc44\\uc6a9_\\u524d\", \"\\ucc44\\uc6a9_\\u524d\", \"\\ucc45\\uc784_\\uc800\\ud574\", \"\\ucc45\\uc784_\\uc800\\ud574\", \"\\ucc9c\\uc548\", \"\\ucc9c\\uc548\", \"\\ucc9c\\uc548\", \"\\ucc9c\\uc548\", \"\\ucc9c\\uc548\", \"\\ucc9c\\uc548\", \"\\ucc9c\\uc548\", \"\\uccad\\ub144\", \"\\uccad\\ub144\", \"\\uccad\\ub144\", \"\\uccad\\ub144\", \"\\uccad\\ub144\", \"\\uccad\\ub144\", \"\\uccad\\ub144\", \"\\uccad\\uc18c\\ub144\", \"\\uccad\\uc18c\\ub144\", \"\\uccad\\uc18c\\ub144\", \"\\uccad\\uc18c\\ub144\", \"\\uccad\\uc18c\\ub144\", \"\\uccad\\uc18c\\ub144\", \"\\uccad\\uc18c\\ub144\", \"\\uccb4\\ub0a9\", \"\\uccb4\\ub0a9\", \"\\uccb4\\ub0a9\", \"\\uccb4\\ub0a9\", \"\\ucd1d\\uc7a5\", \"\\ucd1d\\uc7a5\", \"\\ucd1d\\uc7a5\", \"\\ucd1d\\uc7a5\", \"\\ucd1d\\uc7a5\", \"\\ucd1d\\uc7a5\", \"\\ucd1d\\uc7a5\", \"\\ucd1d\\uc7a5_\\ubc15\\ubc94\\uacc4\", \"\\ucd1d\\uc7a5_\\uc758\\uacac\", \"\\ucd5c\\uadfc\", \"\\ucd5c\\uadfc\", \"\\ucd5c\\uadfc\", \"\\ucd5c\\uadfc\", \"\\ucd5c\\uadfc\", \"\\ucd5c\\uadfc\", \"\\ucd5c\\uadfc\", \"\\ucd94_\\uc9c4\\ub2e8\", \"\\ucd94_\\uc9c4\\ub2e8\", \"\\ucd94_\\uc9c4\\ub2e8\", \"\\ucd94_\\uc9c4\\ub2e8\", \"\\ucd94_\\uc9c4\\ub2e8\", \"\\ucd94_\\uc9c4\\ub2e8\", \"\\ucd94\\uac00_\\uc811\\uc885\", \"\\ucd94\\uac00_\\uc811\\uc885\", \"\\ucd94\\uac00_\\uc811\\uc885\", \"\\ucd94\\uc9c4\", \"\\ucd94\\uc9c4\", \"\\ucd94\\uc9c4\", \"\\ucd94\\uc9c4\", \"\\ucd94\\uc9c4\", \"\\ucd94\\uc9c4\", \"\\ucd94\\uc9c4\", \"\\ucd95\\uc6d0\", \"\\ucd95\\uc6d0\", \"\\ucd95\\uc804\", \"\\ucd95\\uc804\", \"\\ucd95\\uc804\", \"\\ucd95\\uc804\", \"\\ucda9\\uccad_\\ub9dd\\ub860\", \"\\ucda9\\uccad_\\ub9dd\\ub860\", \"\\ucda9\\uccad_\\ub9dd\\ub860\", \"\\ucda9\\uccad_\\ub9dd\\ub860\", \"\\ucda9\\uccad_\\ub9dd\\ub860\", \"\\ucda9\\uccad_\\ub9dd\\ub860\", \"\\uce35_\\ud68c\\uc758\\uc2e4\", \"\\uce58\\uba85\\ub960\", \"\\uce58\\uba85\\ub960\", \"\\uce58\\uba85\\ub960\", \"\\uce58\\uba85\\ub960\", \"\\uce58\\uba85\\ub960\", \"\\uce58\\uba85\\ub960\", \"\\uce74_\\ubc31\\uc2e0\", \"\\uce74_\\ubc31\\uc2e0\", \"\\uce74_\\ubc31\\uc2e0\", \"\\uce74_\\ubc31\\uc2e0\", \"\\uce74_\\ubc31\\uc2e0\", \"\\uce74_\\ubc31\\uc2e0\", \"\\uce74_\\ud14c\\uc2a4\\ud2b8\", \"\\uce74\\ub4dc_\\ub274\\uc2a4\", \"\\uce74\\ub4dc_\\ub274\\uc2a4\", \"\\uce74\\uc2a4\\ud2b8_\\ucd1d\\uc11c\\uae30\", \"\\uce74\\uc2a4\\ud2b8_\\ucd1d\\uc11c\\uae30\", \"\\uce74\\uc2a4\\ud2b8_\\ucd1d\\uc11c\\uae30\", \"\\uce74\\uce74\\uc624_\\ub124\\uc774\\ubc84\", \"\\uce74\\uce74\\uc624\\ud1a1_\\uce74\\uce74\\uc624\\ud1a1\", \"\\uce74\\uce74\\uc624\\ud1a1_\\uce74\\uce74\\uc624\\ud1a1\", \"\\uce74\\uce74\\uc624\\ud1a1_\\uce74\\uce74\\uc624\\ud1a1\", \"\\uce74\\uce74\\uc624\\ud1a1_\\uce74\\uce74\\uc624\\ud1a1\", \"\\uce74\\uce74\\uc624\\ud1a1_\\uce74\\uce74\\uc624\\ud1a1\", \"\\uce74\\uce74\\uc624\\ud1a1_\\uce74\\uce74\\uc624\\ud1a1\", \"\\uce74\\uce74\\uc624\\ud1a1_\\uce74\\uce74\\uc624\\ud1a1\", \"\\ucf54\\ub85c\\ub098_\\ubc29\\uc811\", \"\\ucf54\\ub85c\\ub098_\\ubc29\\uc811\", \"\\ucf54\\ub85c\\ub098_\\ubc29\\uc811\", \"\\ucf54\\ub85c\\ub098_\\ubc29\\uc811\", \"\\ucf54\\ub85c\\ub098_\\ubc29\\uc811\", \"\\ucf54\\ub85c\\ub098_\\ubc29\\uc811\", \"\\ucf54\\ub85c\\ub098_\\ubc29\\uc811\", \"\\ucf54\\ub85c\\ub098_\\uc2e0\\uaddc\", \"\\ucf54\\ub85c\\ub098_\\uc2e0\\uaddc\", \"\\ucf54\\uc2a4\\ud53c_\\uc99d\\uad8c\", \"\\ucf54\\uc2a4\\ud53c_\\uc99d\\uad8c\", \"\\ucf54\\uc2a4\\ud53c_\\uc99d\\uad8c\", \"\\ucf54\\uc2a4\\ud53c_\\uc99d\\uad8c\", \"\\ucf54\\uc2a4\\ud53c_\\uc99d\\uad8c\", \"\\ucf54\\uc2a4\\ud53c_\\uc99d\\uad8c\", \"\\ucf54\\uc2a4\\ud53c_\\uc99d\\uad8c\", \"\\ucfe0\\ubc14\", \"\\ucfe0\\ubc14\", \"\\ucfe0\\ubc14\", \"\\ud074\\ub9ad\", \"\\ud074\\ub9ad\", \"\\ud0a8\\ud14d\\uc2a4\", \"\\ud0a8\\ud14d\\uc2a4\", \"\\ud0a8\\ud14d\\uc2a4\", \"\\ud0a8\\ud14d\\uc2a4\", \"\\ud0c4\\ub825_\\uc778\\uc0ac\", \"\\ud0dd\\uc2dc_\\uae30\\uc0ac\", \"\\ud0dd\\uc2dc_\\uae30\\uc0ac\", \"\\ud0dd\\uc2dc_\\uae30\\uc0ac\", \"\\ud0dd\\uc2dc_\\uae30\\uc0ac\", \"\\ud0dd\\uc2dc_\\uae30\\uc0ac\", \"\\ud0dd\\uc2dc_\\uae30\\uc0ac\", \"\\ud0dd\\uc2dc_\\uae30\\uc0ac\", \"\\ud14c\\uc2a4\\ud2b8_\\ubca0\\ub4dc\", \"\\ud14c\\uc2a4\\ud2b8_\\ubca0\\ub4dc\", \"\\ud14c\\uc2a4\\ud2b8_\\ubca0\\ub4dc\", \"\\ud14c\\uc2a4\\ud2b8_\\ubca0\\ub4dc\", \"\\ud14c\\uc2ac\\ub77c\", \"\\ud14c\\uc2ac\\ub77c\", \"\\ud14c\\uc2ac\\ub77c\", \"\\ud14c\\uc2ac\\ub77c\", \"\\ud14c\\uc2ac\\ub77c\", \"\\ud14c\\uc2ac\\ub77c\", \"\\ud14c\\uc2ac\\ub77c\", \"\\ud1b5\\uc99d\", \"\\ud1b5\\uc99d\", \"\\ud1b5\\uc99d\", \"\\ud1b5\\uc99d\", \"\\ud1b5\\uc99d\", \"\\ud1f4\\uc0ac\", \"\\ud1f4\\uc0ac\", \"\\ud1f4\\uc0ac\", \"\\ud1f4\\uc0ac\", \"\\ud1f4\\uc0ac\", \"\\ud2b9\\ubcc4_\\uace0\\uc6a9\", \"\\ud2b9\\ubcc4_\\uace0\\uc6a9\", \"\\ud2b9\\ubcc4_\\uace0\\uc6a9\", \"\\ud2b9\\ubcc4_\\uace0\\uc6a9\", \"\\ud2b9\\ubcc4_\\uace0\\uc6a9\", \"\\ud2b9\\ud5c8\\uccad\", \"\\ud2b9\\ud5c8\\uccad\", \"\\ud2b9\\ud5c8\\uccad\", \"\\ud2b9\\ud5c8\\uccad\", \"\\ud2b9\\ud5c8\\uccad\", \"\\ud300\", \"\\ud300\", \"\\ud300\", \"\\ud300\", \"\\ud300\", \"\\ud300\", \"\\ud300\", \"\\ud310\\ub2e8\", \"\\ud310\\ub2e8\", \"\\ud310\\ub2e8\", \"\\ud310\\ub2e8\", \"\\ud310\\ub2e8\", \"\\ud310\\ub2e8\", \"\\ud310\\ub2e8\", \"\\ud310\\uc815_\\ud55c\\uc740\", \"\\ud3c9\\uac00\", \"\\ud3c9\\uac00\", \"\\ud3c9\\uac00\", \"\\ud3c9\\uac00\", \"\\ud3c9\\uac00\", \"\\ud3c9\\uac00\", \"\\ud3c9\\uac00\", \"\\ud3c9\\uc591_\\uc601\\uc0c1\", \"\\ud3c9\\uc591_\\uc601\\uc0c1\", \"\\ud3c9\\uc591_\\uc601\\uc0c1\", \"\\ud3c9\\uc591_\\uc601\\uc0c1\", \"\\ud3c9\\uc591_\\uc601\\uc0c1\", \"\\ud3c9\\uc591_\\uc601\\uc0c1\", \"\\ud3c9\\uc591_\\uc601\\uc0c1\", \"\\ud3c9\\uc591_\\uc9c0\\ub3c4\", \"\\ud3c9\\uc591_\\uc9c0\\ub3c4\", \"\\ud3c9\\uc591_\\uc9c0\\ub3c4\", \"\\ud3c9\\uc591_\\uc9c0\\ub3c4\", \"\\ud3c9\\uc591_\\uc9c0\\ub3c4\", \"\\ud3c9\\uc591_\\uc9c0\\ub3c4\", \"\\ud3c9\\uc591_\\uc9c0\\ub3c4\", \"\\ud3c9\\uc774\", \"\\ud3ed\\uc5b8\", \"\\ud3ed\\uc5b8\", \"\\ud3ed\\uc5b8\", \"\\ud3ed\\uc5b8\", \"\\ud3f4\\ub354\", \"\\ud3f4\\ub354\", \"\\ud3f4\\ub354\", \"\\ud488\\ubaa9_\\ud5c8\\uac00\", \"\\ud504\\ub85c\\uc81d\\ud2b8_\\uccad\\ub144\", \"\\ud504\\ub85c\\uc81d\\ud2b8_\\uccad\\ub144\", \"\\ud504\\ub85c\\ud1a0\\ucf5c\", \"\\ud53c\\uace0\\uc778_\\uc2e0\\ubd84\", \"\\ud53c\\uace0\\uc778_\\uc2e0\\ubd84\", \"\\ud53c\\uace0\\uc778_\\uc2e0\\ubd84\", \"\\ud53c\\uace0\\uc778_\\uc2e0\\ubd84\", \"\\ud53c\\ud574\\uc790\", \"\\ud53c\\ud574\\uc790\", \"\\ud53c\\ud574\\uc790\", \"\\ud53c\\ud574\\uc790\", \"\\ud53c\\ud574\\uc790\", \"\\ud53c\\ud574\\uc790\", \"\\ud53c\\ud574\\uc790\", \"\\ud53c\\ud574\\uc790_\\uc9c0\\uc6d0\", \"\\ud558\\ubaa8\\ub2c8\", \"\\ud558\\uc0ac\", \"\\ud558\\uc0ac\", \"\\ud558\\uc0ac\", \"\\ud558\\uc0ac\", \"\\ud558\\uc0ac\", \"\\ud558\\uc0ac\", \"\\ud558\\uc0ac\", \"\\ud559\\uad50\", \"\\ud559\\uad50\", \"\\ud559\\uad50\", \"\\ud559\\uad50\", \"\\ud559\\uad50\", \"\\ud559\\uad50\", \"\\ud559\\uad50\", \"\\ud559\\uae30_\\uc804\\uba74\", \"\\ud559\\uae30_\\uc804\\uba74\", \"\\ud559\\uae30_\\uc804\\uba74\", \"\\ud559\\ub144\\ub3c4\", \"\\ud559\\ub144\\ub3c4\", \"\\ud559\\ub144\\ub3c4\", \"\\ud559\\uc0ac\", \"\\ud559\\uc0ac\", \"\\ud559\\uc0dd\", \"\\ud559\\uc0dd\", \"\\ud559\\uc0dd\", \"\\ud559\\uc0dd\", \"\\ud559\\uc0dd\", \"\\ud559\\uc0dd\", \"\\ud559\\uc0dd\", \"\\ud55c\\uad6d\", \"\\ud55c\\uad6d\", \"\\ud55c\\uad6d\", \"\\ud55c\\uad6d\", \"\\ud55c\\uad6d\", \"\\ud55c\\uad6d\", \"\\ud55c\\uad6d\", \"\\ud55c\\uad6d\\uc740\\ud589_\\ud1b5\\ud569\", \"\\ud55c\\ub3d9\\ud6c8_\\ubc95\\ubb34\", \"\\ud55c\\ubbf8_\\uae00\\ub85c\\ubc8c\", \"\\ud56d\\ub9cc\", \"\\ud56d\\ub9cc\", \"\\ud56d\\ub9cc\", \"\\ud56d\\ub9cc\", \"\\ud56d\\ub9cc\", \"\\ud56d\\uc18c\\uc2ec\", \"\\ud56d\\uc18c\\uc2ec\", \"\\ud56d\\uc18c\\uc2ec\", \"\\ud56d\\uc18c\\uc2ec\", \"\\ud56d\\uccb4\", \"\\ud56d\\uccb4\", \"\\ud56d\\uccb4\", \"\\ud56d\\uccb4_\\uc9c0\\uc18d\", \"\\ud56d\\uccb4_\\uc9c0\\uc18d\", \"\\ud56d\\uccb4_\\uc9c0\\uc18d\", \"\\ud574\\uc218\\uc695\\uc7a5\", \"\\ud574\\uc218\\uc695\\uc7a5\", \"\\ud574\\uc218\\uc695\\uc7a5\", \"\\ud574\\uc218\\uc695\\uc7a5\", \"\\ud574\\uc591_\\uc4f0\\ub808\\uae30\", \"\\ud574\\uc591_\\uc4f0\\ub808\\uae30\", \"\\ud574\\uc591_\\uc4f0\\ub808\\uae30\", \"\\ud574\\uc591_\\uc4f0\\ub808\\uae30\", \"\\ud574\\uc591_\\uc4f0\\ub808\\uae30\", \"\\ud574\\uc678_\\uc720\\uc785\", \"\\ud574\\uc678_\\uc720\\uc785\", \"\\ud574\\uc678_\\uc720\\uc785\", \"\\ud574\\uc678_\\uc720\\uc785\", \"\\ud574\\uc678_\\uc720\\uc785\", \"\\ud574\\uc678_\\uc720\\uc785\", \"\\ud574\\uc9c1_\\uad50\\uc0ac\", \"\\ud574\\uc9c1_\\uad50\\uc0ac\", \"\\ud574\\uc9c1_\\uad50\\uc0ac\", \"\\ud574\\uc9c1_\\uad50\\uc0ac\", \"\\ud574\\uc9c1_\\uad50\\uc0ac\", \"\\ud574\\uc9c1_\\uad50\\uc0ac\", \"\\ud574\\uc9c1_\\uad50\\uc0ac\", \"\\ud601\\uc2e0_\\uc804\\ub7b5\", \"\\ud601\\uc2e0_\\uc804\\ub7b5\", \"\\ud604\\ucda9\\uc6d0\", \"\\ud604\\ucda9\\uc6d0\", \"\\ud604\\ucda9\\uc6d0\", \"\\ud604\\ucda9\\uc6d0\", \"\\ud604\\ucda9\\uc6d0\", \"\\ud604\\ucda9\\uc6d0\", \"\\ud611\\ub825\", \"\\ud611\\ub825\", \"\\ud611\\ub825\", \"\\ud611\\ub825\", \"\\ud611\\ub825\", \"\\ud611\\ub825\", \"\\ud611\\ub825\", \"\\ud654\\ubcf4\", \"\\ud654\\uc774\\uc790\", \"\\ud654\\uc774\\uc790\", \"\\ud654\\uc774\\uc790\", \"\\ud654\\uc774\\uc790\", \"\\ud654\\uc774\\uc790\", \"\\ud654\\uc774\\uc790\", \"\\ud654\\uc774\\uc790\", \"\\ud654\\uc774\\uc790_\\ubaa8\\ub354\", \"\\ud654\\uc774\\uc790_\\ubaa8\\ub354\", \"\\ud654\\uc774\\uc790_\\ubaa8\\ub354\", \"\\ud654\\uc774\\uc790_\\ubaa8\\ub354\", \"\\ud654\\uc774\\uc790_\\ubaa8\\ub354\", \"\\ud654\\uc774\\uc790_\\ubc31\\uc2e0\", \"\\ud654\\uc774\\uc790_\\ubc31\\uc2e0\", \"\\ud654\\uc774\\uc790_\\ubc31\\uc2e0\", \"\\ud654\\uc774\\uc790_\\ubc31\\uc2e0\", \"\\ud654\\uc774\\uc790_\\ubc31\\uc2e0\", \"\\ud654\\uc774\\uc790_\\ubc31\\uc2e0\", \"\\ud654\\uc7a5\\ud488_\\uc6a9\\uae30\", \"\\ud654\\uc7a5\\ud488_\\uc6a9\\uae30\", \"\\ud654\\uc7a5\\ud488_\\uc6a9\\uae30\", \"\\ud654\\uc7a5\\ud488_\\uc6a9\\uae30\", \"\\ud654\\uc7a5\\ud488_\\uc6a9\\uae30\", \"\\ud655\\ubcf4_\\ubd84\\uc11d\", \"\\ud655\\uc778\", \"\\ud655\\uc778\", \"\\ud655\\uc778\", \"\\ud655\\uc778\", \"\\ud655\\uc778\", \"\\ud655\\uc778\", \"\\ud655\\uc778\", \"\\ud655\\uc778_\\uc758\\ud639\", \"\\ud655\\uc9c4\", \"\\ud655\\uc9c4\", \"\\ud655\\uc9c4\", \"\\ud655\\uc9c4\", \"\\ud655\\uc9c4\", \"\\ud655\\uc9c4\", \"\\ud655\\uc9c4\", \"\\ud655\\uc9c4_\\uc774\\ud2c0\", \"\\ud658\\uacbd\\uc815\\ud654\", \"\\ud658\\uccad\", \"\\ud65c\\ub3d9_\\ud504\\ub85c\\uadf8\\ub7a8\", \"\\ud65c\\ub3d9_\\ud504\\ub85c\\uadf8\\ub7a8\", \"\\ud65c\\ub3d9_\\ud504\\ub85c\\uadf8\\ub7a8\", \"\\ud65c\\ub3d9_\\ud504\\ub85c\\uadf8\\ub7a8\", \"\\ud669\\ubcf4\\uc120\", \"\\ud669\\ubcf4\\uc120\", \"\\ud669\\ubcf4\\uc120\", \"\\ud669\\ubcf4\\uc120\", \"\\ud669\\ubcf4\\uc120\", \"\\ud669\\ubcf4\\uc120\", \"\\ud669\\ubcf4\\uc120\", \"\\ud669\\ubcf4\\uc120_\\uc724\", \"\\ud68c\\ubd84\", \"\\ud68c\\ubd84\", \"\\ud68c\\ubd84\", \"\\ud68c\\ubd84\", \"\\ud68c\\ubd84\", \"\\ud6c4\\ubcf4\", \"\\ud6c4\\ubcf4\", \"\\ud6c4\\ubcf4\", \"\\ud6c4\\ubcf4\", \"\\ud6c4\\ubcf4\", \"\\ud6c4\\ubcf4\", \"\\ud6c4\\ubcf4\", \"\\ud790\\ud2bc_\\uc11c\\uc6b8\", \"\\ud790\\ud2bc_\\uc11c\\uc6b8\"]}, \"R\": 30, \"lambda.step\": 0.01, \"plot.opts\": {\"xlab\": \"PC1\", \"ylab\": \"PC2\"}, \"topic.order\": [5, 6, 1, 7, 3, 2, 4]};\n",
       "\n",
       "function LDAvis_load_lib(url, callback){\n",
       "  var s = document.createElement('script');\n",
       "  s.src = url;\n",
       "  s.async = true;\n",
       "  s.onreadystatechange = s.onload = callback;\n",
       "  s.onerror = function(){console.warn(\"failed to load library \" + url);};\n",
       "  document.getElementsByTagName(\"head\")[0].appendChild(s);\n",
       "}\n",
       "\n",
       "if(typeof(LDAvis) !== \"undefined\"){\n",
       "   // already loaded: just create the visualization\n",
       "   !function(LDAvis){\n",
       "       new LDAvis(\"#\" + \"ldavis_el492141403810449788484940265609\", ldavis_el492141403810449788484940265609_data);\n",
       "   }(LDAvis);\n",
       "}else if(typeof define === \"function\" && define.amd){\n",
       "   // require.js is available: use it to load d3/LDAvis\n",
       "   require.config({paths: {d3: \"https://d3js.org/d3.v5\"}});\n",
       "   require([\"d3\"], function(d3){\n",
       "      window.d3 = d3;\n",
       "      LDAvis_load_lib(\"https://cdn.jsdelivr.net/gh/bmabey/pyLDAvis@3.3.1/pyLDAvis/js/ldavis.v3.0.0.js\", function(){\n",
       "        new LDAvis(\"#\" + \"ldavis_el492141403810449788484940265609\", ldavis_el492141403810449788484940265609_data);\n",
       "      });\n",
       "    });\n",
       "}else{\n",
       "    // require.js not available: dynamically load d3 & LDAvis\n",
       "    LDAvis_load_lib(\"https://d3js.org/d3.v5.js\", function(){\n",
       "         LDAvis_load_lib(\"https://cdn.jsdelivr.net/gh/bmabey/pyLDAvis@3.3.1/pyLDAvis/js/ldavis.v3.0.0.js\", function(){\n",
       "                 new LDAvis(\"#\" + \"ldavis_el492141403810449788484940265609\", ldavis_el492141403810449788484940265609_data);\n",
       "            })\n",
       "         });\n",
       "}\n",
       "</script>"
      ],
      "text/plain": [
       "<IPython.core.display.HTML object>"
      ]
     },
     "execution_count": 27,
     "metadata": {},
     "output_type": "execute_result"
    }
   ],
   "source": [
    "pyLDAvis.display(prepared_data)"
   ]
  },
  {
   "cell_type": "code",
   "execution_count": 28,
   "metadata": {},
   "outputs": [
    {
     "name": "stderr",
     "output_type": "stream",
     "text": [
      "/Users/heejaesuh/opt/anaconda3/lib/python3.8/site-packages/ipykernel/ipkernel.py:287: DeprecationWarning: `should_run_async` will not call `transform_cell` automatically in the future. Please pass the result to `transformed_cell` argument and any exception that happen during thetransform in `preprocessing_exc_tuple` in IPython 7.17 and above.\n",
      "  and should_run_async(code)\n"
     ]
    }
   ],
   "source": [
    "#for i, topic_list in enumerate(ldamodel[corpus]):\n",
    "    #print(id_news[i],'번째 문서의 topic 비율은',topic_list)"
   ]
  },
  {
   "cell_type": "code",
   "execution_count": 29,
   "metadata": {},
   "outputs": [
    {
     "name": "stderr",
     "output_type": "stream",
     "text": [
      "/Users/heejaesuh/opt/anaconda3/lib/python3.8/site-packages/ipykernel/ipkernel.py:287: DeprecationWarning: `should_run_async` will not call `transform_cell` automatically in the future. Please pass the result to `transformed_cell` argument and any exception that happen during thetransform in `preprocessing_exc_tuple` in IPython 7.17 and above.\n",
      "  and should_run_async(code)\n"
     ]
    }
   ],
   "source": [
    "pp = [[]]*(NUM_TOPICS+1)#NO Topic0\n",
    "for i in range(NUM_TOPICS):\n",
    "    pp[i] = prepared_data.sorted_terms(topic = i,_lambda=0.6).iloc[:20]"
   ]
  },
  {
   "cell_type": "code",
   "execution_count": 30,
   "metadata": {},
   "outputs": [
    {
     "name": "stderr",
     "output_type": "stream",
     "text": [
      "/Users/heejaesuh/opt/anaconda3/lib/python3.8/site-packages/ipykernel/ipkernel.py:287: DeprecationWarning: `should_run_async` will not call `transform_cell` automatically in the future. Please pass the result to `transformed_cell` argument and any exception that happen during thetransform in `preprocessing_exc_tuple` in IPython 7.17 and above.\n",
      "  and should_run_async(code)\n"
     ]
    }
   ],
   "source": [
    "#index만 추출하기(index가 corpus의 index랑 동일함 ㅇㅇ)\n",
    "idx_topic = [[]]*(NUM_TOPICS+1)\n",
    "for i in range(1,len(pp)-1):\n",
    "    idx_topic[i] = pp[i].iloc[:20].index"
   ]
  },
  {
   "cell_type": "code",
   "execution_count": 31,
   "metadata": {},
   "outputs": [
    {
     "name": "stderr",
     "output_type": "stream",
     "text": [
      "/Users/heejaesuh/opt/anaconda3/lib/python3.8/site-packages/ipykernel/ipkernel.py:287: DeprecationWarning: `should_run_async` will not call `transform_cell` automatically in the future. Please pass the result to `transformed_cell` argument and any exception that happen during thetransform in `preprocessing_exc_tuple` in IPython 7.17 and above.\n",
      "  and should_run_async(code)\n"
     ]
    }
   ],
   "source": [
    "for i in idx_topic[0]:\n",
    "    print(id2word[i])"
   ]
  },
  {
   "cell_type": "code",
   "execution_count": 32,
   "metadata": {},
   "outputs": [
    {
     "name": "stderr",
     "output_type": "stream",
     "text": [
      "/Users/heejaesuh/opt/anaconda3/lib/python3.8/site-packages/ipykernel/ipkernel.py:287: DeprecationWarning: `should_run_async` will not call `transform_cell` automatically in the future. Please pass the result to `transformed_cell` argument and any exception that happen during thetransform in `preprocessing_exc_tuple` in IPython 7.17 and above.\n",
      "  and should_run_async(code)\n"
     ]
    }
   ],
   "source": [
    "\n",
    "#topic별 clustering을 위한 topic_docs 초기화(list[[]]*n 이런 식으로 하면 안됨)\n",
    "topic_docs = []\n",
    "topic_docs_save = []\n",
    "for i in range(NUM_TOPICS+1):\n",
    "    topic_docs.append([])\n",
    "    topic_docs_save.append([])"
   ]
  },
  {
   "cell_type": "code",
   "execution_count": 33,
   "metadata": {},
   "outputs": [
    {
     "name": "stderr",
     "output_type": "stream",
     "text": [
      "/Users/heejaesuh/opt/anaconda3/lib/python3.8/site-packages/ipykernel/ipkernel.py:287: DeprecationWarning: `should_run_async` will not call `transform_cell` automatically in the future. Please pass the result to `transformed_cell` argument and any exception that happen during thetransform in `preprocessing_exc_tuple` in IPython 7.17 and above.\n",
      "  and should_run_async(code)\n"
     ]
    }
   ],
   "source": [
    "#append doc_index in the topic_docs cluster\n",
    "for i, topic_list in enumerate(ldamodel[corpus]):\n",
    "    topic_list.sort(reverse=True,key = lambda element:element[1])\n",
    "    n = topic_list[0][0] + 1\n",
    "    topic_docs[n].append([i,topic_list[0][1]])\n"
   ]
  },
  {
   "cell_type": "code",
   "execution_count": 34,
   "metadata": {},
   "outputs": [
    {
     "name": "stderr",
     "output_type": "stream",
     "text": [
      "/Users/heejaesuh/opt/anaconda3/lib/python3.8/site-packages/ipykernel/ipkernel.py:287: DeprecationWarning: `should_run_async` will not call `transform_cell` automatically in the future. Please pass the result to `transformed_cell` argument and any exception that happen during thetransform in `preprocessing_exc_tuple` in IPython 7.17 and above.\n",
      "  and should_run_async(code)\n"
     ]
    }
   ],
   "source": [
    "#append doc_index in the topic_docs cluster\n",
    "for i, topic_list in enumerate(ldamodel[corpus]):\n",
    "    topic_list.sort(reverse=True,key = lambda element:element[1])\n",
    "    n = topic_list[0][0] + 1\n",
    "    topic_docs_save[n].append([id_news[i],topic_list[0][1]])\n"
   ]
  },
  {
   "cell_type": "markdown",
   "metadata": {},
   "source": [
    "#topic_docs_save[2]\n",
    "#반환해줄 실제 news index와 가중치 저장해둔 list"
   ]
  },
  {
   "cell_type": "code",
   "execution_count": 35,
   "metadata": {},
   "outputs": [
    {
     "name": "stderr",
     "output_type": "stream",
     "text": [
      "/Users/heejaesuh/opt/anaconda3/lib/python3.8/site-packages/ipykernel/ipkernel.py:287: DeprecationWarning: `should_run_async` will not call `transform_cell` automatically in the future. Please pass the result to `transformed_cell` argument and any exception that happen during thetransform in `preprocessing_exc_tuple` in IPython 7.17 and above.\n",
      "  and should_run_async(code)\n"
     ]
    }
   ],
   "source": [
    "for i in topic_docs:\n",
    "    i.sort(reverse=True,key = lambda element:element[1])\n"
   ]
  },
  {
   "cell_type": "code",
   "execution_count": 36,
   "metadata": {},
   "outputs": [
    {
     "name": "stderr",
     "output_type": "stream",
     "text": [
      "/Users/heejaesuh/opt/anaconda3/lib/python3.8/site-packages/ipykernel/ipkernel.py:287: DeprecationWarning: `should_run_async` will not call `transform_cell` automatically in the future. Please pass the result to `transformed_cell` argument and any exception that happen during thetransform in `preprocessing_exc_tuple` in IPython 7.17 and above.\n",
      "  and should_run_async(code)\n"
     ]
    }
   ],
   "source": [
    "topic_cluster = []\n",
    "for i in range(NUM_TOPICS+1):\n",
    "    topic_cluster.append(\"\")\n",
    "for i in range(1,NUM_TOPICS+1):\n",
    "    for j in topic_docs[i]:\n",
    "        topic_cluster[i] = topic_cluster[i]+news[j[0]]\n",
    "    "
   ]
  },
  {
   "cell_type": "code",
   "execution_count": 37,
   "metadata": {
    "scrolled": true
   },
   "outputs": [
    {
     "name": "stderr",
     "output_type": "stream",
     "text": [
      "/Users/heejaesuh/opt/anaconda3/lib/python3.8/site-packages/ipykernel/ipkernel.py:287: DeprecationWarning: `should_run_async` will not call `transform_cell` automatically in the future. Please pass the result to `transformed_cell` argument and any exception that happen during thetransform in `preprocessing_exc_tuple` in IPython 7.17 and above.\n",
      "  and should_run_async(code)\n"
     ]
    }
   ],
   "source": [
    "for i, topic_list in enumerate(ldamodel[corpus]):\n",
    "    topic_list.sort(reverse=True,key= lambda element:element[1])\n",
    "    #print(i,'번째 문서의 topic 비율은',topic_list)"
   ]
  },
  {
   "cell_type": "code",
   "execution_count": 38,
   "metadata": {},
   "outputs": [
    {
     "name": "stderr",
     "output_type": "stream",
     "text": [
      "/Users/heejaesuh/opt/anaconda3/lib/python3.8/site-packages/ipykernel/ipkernel.py:287: DeprecationWarning: `should_run_async` will not call `transform_cell` automatically in the future. Please pass the result to `transformed_cell` argument and any exception that happen during thetransform in `preprocessing_exc_tuple` in IPython 7.17 and above.\n",
      "  and should_run_async(code)\n"
     ]
    }
   ],
   "source": [
    "topic_cluster_sentences = []\n",
    "tcs = []\n",
    "for i in range(NUM_TOPICS+1):\n",
    "    tcs.append([])\n",
    "    topic_cluster_sentences.append([])"
   ]
  },
  {
   "cell_type": "code",
   "execution_count": 39,
   "metadata": {},
   "outputs": [
    {
     "name": "stderr",
     "output_type": "stream",
     "text": [
      "/Users/heejaesuh/opt/anaconda3/lib/python3.8/site-packages/ipykernel/ipkernel.py:287: DeprecationWarning: `should_run_async` will not call `transform_cell` automatically in the future. Please pass the result to `transformed_cell` argument and any exception that happen during thetransform in `preprocessing_exc_tuple` in IPython 7.17 and above.\n",
      "  and should_run_async(code)\n"
     ]
    }
   ],
   "source": [
    "for i in range(1,NUM_TOPICS+1):\n",
    "    mecab = Mecab()\n",
    "    stop_words = stop.split(',')\n",
    "    topic_cluster_sentences[i] = kss.split_sentences(topic_cluster[i])\n",
    "    for j in topic_cluster_sentences[i]:\n",
    "        sen_word = []\n",
    "        sentences = mecab.nouns(j)\n",
    "        for word in sentences :\n",
    "            if word not in stop_words:\n",
    "                sen_word.append(word)\n",
    "        tcs[i].append(sen_word)"
   ]
  },
  {
   "cell_type": "code",
   "execution_count": 40,
   "metadata": {},
   "outputs": [
    {
     "name": "stderr",
     "output_type": "stream",
     "text": [
      "/Users/heejaesuh/opt/anaconda3/lib/python3.8/site-packages/ipykernel/ipkernel.py:287: DeprecationWarning: `should_run_async` will not call `transform_cell` automatically in the future. Please pass the result to `transformed_cell` argument and any exception that happen during thetransform in `preprocessing_exc_tuple` in IPython 7.17 and above.\n",
      "  and should_run_async(code)\n"
     ]
    }
   ],
   "source": [
    "bigram_docs = []\n",
    "for i in range(NUM_TOPICS+1):\n",
    "    bigram_docs.append([])\n",
    "#construct bigram_docs --> use the model made before\n",
    "for i in range(1,len(tcs)):\n",
    "    bigram_docs[i] = [bigram_model[nouns] for nouns in tcs[i]]"
   ]
  },
  {
   "cell_type": "code",
   "execution_count": 41,
   "metadata": {},
   "outputs": [
    {
     "name": "stderr",
     "output_type": "stream",
     "text": [
      "/Users/heejaesuh/opt/anaconda3/lib/python3.8/site-packages/ipykernel/ipkernel.py:287: DeprecationWarning: `should_run_async` will not call `transform_cell` automatically in the future. Please pass the result to `transformed_cell` argument and any exception that happen during thetransform in `preprocessing_exc_tuple` in IPython 7.17 and above.\n",
      "  and should_run_async(code)\n"
     ]
    }
   ],
   "source": [
    "corpus_docs = []\n",
    "for i in range(NUM_TOPICS+1):\n",
    "    corpus_docs.append([])\n",
    "for i in range(1,NUM_TOPICS+1):    \n",
    "    corpus_docs[i] = [id2word.doc2bow(doc) for doc in bigram_docs[i]]"
   ]
  },
  {
   "cell_type": "code",
   "execution_count": 42,
   "metadata": {},
   "outputs": [
    {
     "name": "stderr",
     "output_type": "stream",
     "text": [
      "/Users/heejaesuh/opt/anaconda3/lib/python3.8/site-packages/ipykernel/ipkernel.py:287: DeprecationWarning: `should_run_async` will not call `transform_cell` automatically in the future. Please pass the result to `transformed_cell` argument and any exception that happen during thetransform in `preprocessing_exc_tuple` in IPython 7.17 and above.\n",
      "  and should_run_async(code)\n"
     ]
    }
   ],
   "source": [
    "corp_doc_ref = []\n",
    "for i in range(NUM_TOPICS+1):\n",
    "    corp_doc_ref.append([])\n"
   ]
  },
  {
   "cell_type": "code",
   "execution_count": 43,
   "metadata": {},
   "outputs": [
    {
     "name": "stderr",
     "output_type": "stream",
     "text": [
      "/Users/heejaesuh/opt/anaconda3/lib/python3.8/site-packages/ipykernel/ipkernel.py:287: DeprecationWarning: `should_run_async` will not call `transform_cell` automatically in the future. Please pass the result to `transformed_cell` argument and any exception that happen during thetransform in `preprocessing_exc_tuple` in IPython 7.17 and above.\n",
      "  and should_run_async(code)\n"
     ]
    },
    {
     "name": "stdout",
     "output_type": "stream",
     "text": [
      "0.2934393882751465\n"
     ]
    }
   ],
   "source": [
    "stime = time.time()\n",
    "\n",
    "for i in range(1,NUM_TOPICS+1):\n",
    "    if len(corpus_docs[i]) is not 0:\n",
    "        for j in range(len(corpus_docs[i])):\n",
    "            corp_doc_ref[i].append([])\n",
    "            for k in range(len(corpus_docs[i][j])):\n",
    "                a = corpus_docs[i][j][k][0]\n",
    "                corp_doc_ref[i][j].append(a)\n",
    "\n",
    "print(time.time()-stime)"
   ]
  },
  {
   "cell_type": "code",
   "execution_count": 44,
   "metadata": {},
   "outputs": [
    {
     "name": "stdout",
     "output_type": "stream",
     "text": [
      "0.048959970474243164\n"
     ]
    },
    {
     "name": "stderr",
     "output_type": "stream",
     "text": [
      "/Users/heejaesuh/opt/anaconda3/lib/python3.8/site-packages/ipykernel/ipkernel.py:287: DeprecationWarning: `should_run_async` will not call `transform_cell` automatically in the future. Please pass the result to `transformed_cell` argument and any exception that happen during thetransform in `preprocessing_exc_tuple` in IPython 7.17 and above.\n",
      "  and should_run_async(code)\n"
     ]
    }
   ],
   "source": [
    "#키워드 포함된 문장만 추출\n",
    "stime = time.time()\n",
    "corp_doc_topic = []\n",
    "for i in range(NUM_TOPICS+1):\n",
    "    corp_doc_topic.append([])\n",
    "for i in range(1,len(corp_doc_ref)):\n",
    "    for j in range(len(corp_doc_ref[i])):\n",
    "        if len(set(idx_topic[i]).intersection(corp_doc_ref[i][j])) is not 0:\n",
    "            corp_doc_topic[i].append(bigram_docs[i][j])\n",
    "\n",
    "print(time.time()-stime)"
   ]
  },
  {
   "cell_type": "markdown",
   "metadata": {},
   "source": [
    "corp_doc_topic[N][M] : N개의 topic, M개의 문장 키워드 포함한 문장만 뽑아낸 것"
   ]
  },
  {
   "cell_type": "code",
   "execution_count": 45,
   "metadata": {},
   "outputs": [
    {
     "name": "stderr",
     "output_type": "stream",
     "text": [
      "/Users/heejaesuh/opt/anaconda3/lib/python3.8/site-packages/ipykernel/ipkernel.py:287: DeprecationWarning: `should_run_async` will not call `transform_cell` automatically in the future. Please pass the result to `transformed_cell` argument and any exception that happen during thetransform in `preprocessing_exc_tuple` in IPython 7.17 and above.\n",
      "  and should_run_async(code)\n"
     ]
    },
    {
     "data": {
      "text/plain": [
       "'\\nprint(corp_doc_topic[2][3])\\nfor i in idx_topic[2]:\\n    print(id2word[i])\\n'"
      ]
     },
     "execution_count": 45,
     "metadata": {},
     "output_type": "execute_result"
    }
   ],
   "source": [
    "'''\n",
    "print(corp_doc_topic[2][3])\n",
    "for i in idx_topic[2]:\n",
    "    print(id2word[i])\n",
    "'''"
   ]
  },
  {
   "cell_type": "code",
   "execution_count": 46,
   "metadata": {},
   "outputs": [
    {
     "name": "stderr",
     "output_type": "stream",
     "text": [
      "/Users/heejaesuh/opt/anaconda3/lib/python3.8/site-packages/ipykernel/ipkernel.py:287: DeprecationWarning: `should_run_async` will not call `transform_cell` automatically in the future. Please pass the result to `transformed_cell` argument and any exception that happen during thetransform in `preprocessing_exc_tuple` in IPython 7.17 and above.\n",
      "  and should_run_async(code)\n"
     ]
    }
   ],
   "source": [
    "def vectorize_sents(corp_doc_topic = corp_doc_topic, min_count=2, tokenizer=\"mecab\", noun=True):\n",
    "   \n",
    "\n",
    "    vectorizer = CountVectorizer(tokenizer=lambda x: x,lowercase=False)\n",
    "\n",
    "    vec = vectorizer.fit_transform(corp_doc_topic)\n",
    "    vocab_idx = vectorizer.vocabulary_\n",
    "    idx_vocab = {idx: vocab for vocab, idx in vocab_idx.items()}\n",
    "    \n",
    "    return vec, vocab_idx, idx_vocab"
   ]
  },
  {
   "cell_type": "code",
   "execution_count": 47,
   "metadata": {},
   "outputs": [
    {
     "name": "stderr",
     "output_type": "stream",
     "text": [
      "/Users/heejaesuh/opt/anaconda3/lib/python3.8/site-packages/ipykernel/ipkernel.py:287: DeprecationWarning: `should_run_async` will not call `transform_cell` automatically in the future. Please pass the result to `transformed_cell` argument and any exception that happen during thetransform in `preprocessing_exc_tuple` in IPython 7.17 and above.\n",
      "  and should_run_async(code)\n"
     ]
    }
   ],
   "source": [
    "def word_similarity_matrix(x, min_sim=0.3):\n",
    "    sim_mat = 1 - pairwise_distances(x.T, metric=\"cosine\")\n",
    "    sim_mat[np.where(sim_mat <= min_sim)] = 0\n",
    "\n",
    "    return sim_mat"
   ]
  },
  {
   "cell_type": "code",
   "execution_count": 48,
   "metadata": {},
   "outputs": [
    {
     "name": "stderr",
     "output_type": "stream",
     "text": [
      "/Users/heejaesuh/opt/anaconda3/lib/python3.8/site-packages/ipykernel/ipkernel.py:287: DeprecationWarning: `should_run_async` will not call `transform_cell` automatically in the future. Please pass the result to `transformed_cell` argument and any exception that happen during thetransform in `preprocessing_exc_tuple` in IPython 7.17 and above.\n",
      "  and should_run_async(code)\n"
     ]
    }
   ],
   "source": [
    "def word_graph(\n",
    "    corp_doc_topic = corp_doc_topic,\n",
    "    min_count=2,\n",
    "    min_sim=0.3,\n",
    "    tokenizer=\"mecab\",\n",
    "    noun=True,\n",
    "):\n",
    "\n",
    "    mat, vocab_idx, idx_vocab = vectorize_sents(\n",
    "        corp_doc_topic,min_count=min_count, tokenizer=tokenizer, noun=noun\n",
    "    )\n",
    "\n",
    "    mat = word_similarity_matrix(mat, min_sim=min_sim)\n",
    "\n",
    "    return mat, vocab_idx, idx_vocab"
   ]
  },
  {
   "cell_type": "code",
   "execution_count": 49,
   "metadata": {},
   "outputs": [
    {
     "name": "stderr",
     "output_type": "stream",
     "text": [
      "/Users/heejaesuh/opt/anaconda3/lib/python3.8/site-packages/ipykernel/ipkernel.py:287: DeprecationWarning: `should_run_async` will not call `transform_cell` automatically in the future. Please pass the result to `transformed_cell` argument and any exception that happen during thetransform in `preprocessing_exc_tuple` in IPython 7.17 and above.\n",
      "  and should_run_async(code)\n"
     ]
    }
   ],
   "source": [
    "def pagerank(x: np.ndarray, df=0.85, max_iter=50, method=\"iterative\"):\n",
    "\n",
    "    assert 0 < df < 1\n",
    "\n",
    "    A = normalize(mat, axis=0, norm=\"l1\")\n",
    "    N = np.ones(A.shape[0]) / A.shape[0]\n",
    "\n",
    "    if method == \"iterative\":\n",
    "        R = np.ones(A.shape[0])\n",
    "        for _ in range(max_iter):\n",
    "            R = df * np.matmul(A, R) + (1 - df) * N\n",
    "    elif method == \"algebraic\":\n",
    "        R = np.linalg.inv((I - df * A))\n",
    "        R = np.matmul(R, (1 - df) * N)\n",
    "\n",
    "    return R"
   ]
  },
  {
   "cell_type": "code",
   "execution_count": 50,
   "metadata": {},
   "outputs": [
    {
     "name": "stderr",
     "output_type": "stream",
     "text": [
      "/Users/heejaesuh/opt/anaconda3/lib/python3.8/site-packages/ipykernel/ipkernel.py:287: DeprecationWarning: `should_run_async` will not call `transform_cell` automatically in the future. Please pass the result to `transformed_cell` argument and any exception that happen during thetransform in `preprocessing_exc_tuple` in IPython 7.17 and above.\n",
      "  and should_run_async(code)\n"
     ]
    }
   ],
   "source": [
    "keywords = []"
   ]
  },
  {
   "cell_type": "code",
   "execution_count": null,
   "metadata": {},
   "outputs": [
    {
     "name": "stderr",
     "output_type": "stream",
     "text": [
      "/Users/heejaesuh/opt/anaconda3/lib/python3.8/site-packages/ipykernel/ipkernel.py:287: DeprecationWarning: `should_run_async` will not call `transform_cell` automatically in the future. Please pass the result to `transformed_cell` argument and any exception that happen during thetransform in `preprocessing_exc_tuple` in IPython 7.17 and above.\n",
      "  and should_run_async(code)\n"
     ]
    }
   ],
   "source": [
    "for i in range(len(corp_doc_topic)):\n",
    "    if len(corp_doc_topic[i])!= 0:\n",
    "        mat,vocab_idx, idx_vocab = word_graph(corp_doc_topic[i])\n",
    "        R = pagerank(mat,method =\"iterative\")\n",
    "        topk = 10\n",
    "        idxs = R.argsort()[-topk:]\n",
    "        keywords.append([(idx, R[idx], idx_vocab[idx]) for idx in reversed(idxs)])\n",
    "        #keyword = [(R[idx]) for idx in reversed(idxs)]\n"
   ]
  },
  {
   "cell_type": "code",
   "execution_count": null,
   "metadata": {},
   "outputs": [],
   "source": [
    "keywords"
   ]
  },
  {
   "cell_type": "code",
   "execution_count": null,
   "metadata": {},
   "outputs": [],
   "source": []
  },
  {
   "cell_type": "code",
   "execution_count": null,
   "metadata": {},
   "outputs": [],
   "source": [
    "for i in keywords:\n",
    "    for j in range(3):\n",
    "        print(i[j][2], end = \",\")\n",
    "    print(\"\")"
   ]
  },
  {
   "cell_type": "code",
   "execution_count": null,
   "metadata": {},
   "outputs": [],
   "source": [
    "end = time.time()"
   ]
  },
  {
   "cell_type": "code",
   "execution_count": null,
   "metadata": {},
   "outputs": [],
   "source": [
    "print(end-start)"
   ]
  }
 ],
 "metadata": {
  "kernelspec": {
   "display_name": "Python 3",
   "language": "python",
   "name": "python3"
  },
  "language_info": {
   "codemirror_mode": {
    "name": "ipython",
    "version": 3
   },
   "file_extension": ".py",
   "mimetype": "text/x-python",
   "name": "python",
   "nbconvert_exporter": "python",
   "pygments_lexer": "ipython3",
   "version": "3.8.10"
  }
 },
 "nbformat": 4,
 "nbformat_minor": 4
}
